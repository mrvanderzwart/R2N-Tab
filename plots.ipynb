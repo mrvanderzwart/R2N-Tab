{
 "cells": [
  {
   "cell_type": "code",
   "execution_count": 19,
   "id": "fe813b24-1b17-4a66-ad9b-204a3b478f8c",
   "metadata": {
    "tags": []
   },
   "outputs": [],
   "source": [
    "import json\n",
    "import numpy as np\n",
    "import matplotlib.pyplot as plt"
   ]
  },
  {
   "cell_type": "code",
   "execution_count": 2,
   "id": "24596836-a4be-42dc-869c-5c45a2a64b34",
   "metadata": {},
   "outputs": [],
   "source": [
    "dataset_names = ['adult', 'heloc', 'house', 'magic']"
   ]
  },
  {
   "cell_type": "markdown",
   "id": "ab900302-473b-40db-9498-a585f4e950ca",
   "metadata": {},
   "source": [
    "## Experiment 1"
   ]
  },
  {
   "cell_type": "code",
   "execution_count": 17,
   "id": "5a5dcd4b-fabf-4515-b8c3-63900f90f0b5",
   "metadata": {
    "tags": []
   },
   "outputs": [
    {
     "name": "stdout",
     "output_type": "stream",
     "text": [
      "dataset: adult\n",
      "  rate: 1e- 2\n",
      "    mean accuracy: 0.8125642300679596\n",
      "    mean sparsity: 77.6\n",
      "  rate: 1e- 4\n",
      "    mean accuracy: 0.8266202552627216\n",
      "    mean sparsity: 188.8\n",
      "  rate: 1e- 6\n",
      "    mean accuracy: 0.8258743576993203\n",
      "    mean sparsity: 166.2\n",
      "dataset: heloc\n",
      "  rate: 1e- 2\n",
      "    mean accuracy: 0.7177820267686423\n",
      "    mean sparsity: 724.9\n",
      "  rate: 1e- 4\n",
      "    mean accuracy: 0.7130975143403441\n",
      "    mean sparsity: 836.1\n",
      "  rate: 1e- 6\n",
      "    mean accuracy: 0.7164913957934991\n",
      "    mean sparsity: 809.8\n",
      "dataset: house\n",
      "  rate: 1e- 2\n",
      "    mean accuracy: 0.8273206056616195\n",
      "    mean sparsity: 184.6\n",
      "  rate: 1e- 4\n",
      "    mean accuracy: 0.8425499231950845\n",
      "    mean sparsity: 182.3\n",
      "  rate: 1e- 6\n",
      "    mean accuracy: 0.8473557164801406\n",
      "    mean sparsity: 202.0\n",
      "dataset: magic\n",
      "  rate: 1e- 2\n",
      "    mean accuracy: 0.8370662460567824\n",
      "    mean sparsity: 216.3\n",
      "  rate: 1e- 4\n",
      "    mean accuracy: 0.8435331230283912\n",
      "    mean sparsity: 304.6\n",
      "  rate: 1e- 6\n",
      "    mean accuracy: 0.8417192429022082\n",
      "    mean sparsity: 295.3\n"
     ]
    },
    {
     "data": {
      "text/plain": [
       "<Figure size 640x480 with 0 Axes>"
      ]
     },
     "metadata": {},
     "output_type": "display_data"
    }
   ],
   "source": [
    "for name in dataset_names:\n",
    "    \n",
    "    print('dataset:', name)\n",
    "    \n",
    "    with open(f'exp1-accuracies-{name}.json') as file:\n",
    "        accuracies = json.load(file)\n",
    "        \n",
    "    with open(f'exp1-sparsities-{name}.json') as file:\n",
    "        sparsities = json.load(file)\n",
    "        \n",
    "    for rate in ['2', '4', '6']:\n",
    "        \n",
    "        print('  rate: 1e-', rate)\n",
    "        \n",
    "        plt.style.use('seaborn-darkgrid')\n",
    "        l1 = plt.scatter(sparsities['drnet'], accuracies['drnet'], c='red', label='DR-Net')\n",
    "        l2 = plt.scatter(sparsities[f'r2ntab{rate}'], accuracies[f'r2ntab{rate}'], c='blue', label=f'R2N-Tab $\\lambda$=1e-{rate}')\n",
    "        \n",
    "        mean_accuracy_drnet = sum(accuracies['drnet']) / len(accuracies['drnet'])\n",
    "        mean_accuracy_r2ntab = sum(accuracies[f'r2ntab{rate}']) / len(accuracies[f'r2ntab{rate}'])\n",
    "        mean_sparsity_drnet = sum(sparsities['drnet']) / len(sparsities['drnet'])\n",
    "        mean_sparsity_r2ntab = sum(sparsities[f'r2ntab{rate}']) / len(sparsities[f'r2ntab{rate}'])\n",
    "        \n",
    "        print('    mean accuracy:', mean_accuracy_r2ntab)\n",
    "        print('    mean sparsity:', mean_sparsity_r2ntab)\n",
    "        \n",
    "        plt.scatter(mean_sparsity_drnet, mean_accuracy_drnet, marker='X', edgecolors='black', s=120, c='red')\n",
    "        plt.scatter(mean_sparsity_r2ntab, mean_accuracy_r2ntab, marker='X', edgecolors='black', s=120, c='blue')\n",
    "        \n",
    "        combined_legend = plt.Line2D([0], [0], marker='X', color='w', label='Mean', markerfacecolor='black', markersize=12)\n",
    "        \n",
    "        plt.xlabel('# Conditions', fontsize=15)\n",
    "        plt.ylabel('Test accuracy', fontsize=15)\n",
    "        plt.ylim([mean_accuracy_r2ntab-0.1, mean_accuracy_drnet+0.04])    \n",
    "        plt.legend(handles=[l1, l2, combined_legend], loc='lower right', fontsize=12)\n",
    "        plt.savefig(f'{name}-{rate}.pdf')\n",
    "        plt.clf()"
   ]
  },
  {
   "cell_type": "markdown",
   "id": "55ec469f-37bf-41b3-8252-2529fc47d7ad",
   "metadata": {},
   "source": [
    "## Experiment 2"
   ]
  },
  {
   "cell_type": "code",
   "execution_count": null,
   "id": "0d4f31f0-01d0-47d2-bcca-0e613932395b",
   "metadata": {},
   "outputs": [],
   "source": [
    "for name in dataset_names: \n",
    "    plt.plot(data[index])\n",
    "    plt.plot(data[index+1])\n",
    "    plt.plot(data[index+2])\n",
    "    plt.axhline(y=n_dummies, color='r', linestyle='dashed', label='total dummies')    \n",
    "    plt.title(f\"Feature removal over time on the {dataset} dataset\")\n",
    "    plt.ylabel(\"# Uninformative features removed\")\n",
    "    plt.xlabel(\"Epoch\")\n",
    "    plt.legend(['cancelrate 1e-2', 'cancelrate 1e-4', 'cancelrate 1e-6', 'total dummies'])\n",
    "    plt.savefig(f'dummy_{dataset}.pdf')\n",
    "    plt.show()"
   ]
  },
  {
   "cell_type": "markdown",
   "id": "1aa416ae-2af1-4d46-b7bc-35862296f5f1",
   "metadata": {},
   "source": [
    "## Experiment 3"
   ]
  },
  {
   "cell_type": "code",
   "execution_count": 23,
   "id": "ba4e050e-0036-492c-ba19-518f131b5112",
   "metadata": {
    "tags": []
   },
   "outputs": [
    {
     "data": {
      "text/plain": [
       "<Figure size 640x480 with 0 Axes>"
      ]
     },
     "metadata": {},
     "output_type": "display_data"
    }
   ],
   "source": [
    "for name in dataset_names:\n",
    "    \n",
    "    with open(f'exp3-accuracies-{name}.json') as file:\n",
    "        accuracies = json.load(file)\n",
    "        \n",
    "    with open(f'exp3-sparsities-{name}.json') as file:\n",
    "        sparsities = json.load(file)\n",
    "        \n",
    "    with open(f'exp1-accuracies-{name}.json') as file:\n",
    "        accuracies_r2ntab = json.load(file)\n",
    "        \n",
    "    with open(f'exp1-sparsities-{name}.json') as file:\n",
    "        sparsities_r2ntab = json.load(file)\n",
    "        \n",
    "    if name == 'adult':\n",
    "        rate = '2'\n",
    "    elif name == 'heloc':\n",
    "        rate = '2'\n",
    "    elif name == 'house':\n",
    "        rate = '4'\n",
    "    elif name == 'magic':\n",
    "        rate = '6'\n",
    "        \n",
    "    plt.style.use('seaborn-darkgrid')\n",
    "    l1 = plt.scatter(sparsities['gb'], accuracies['gb'], c='red', label='Gradient Boosting')\n",
    "    l2 = plt.scatter(sparsities['pca'], accuracies['pca'], c='orange', label='PCA')\n",
    "    l3 = plt.scatter(sparsities_r2ntab[f'r2ntab{rate}'], accuracies_r2ntab[f'r2ntab{rate}'], c='blue', label=f'R2N-Tab $\\lambda$=1e-{rate}')\n",
    "\n",
    "    mean_accuracy_gb = sum(accuracies['gb']) / len(accuracies['gb'])\n",
    "    mean_accuracy_pca = sum(accuracies['pca']) / len(accuracies['pca'])\n",
    "    mean_accuracy_r2ntab = sum(accuracies_r2ntab[f'r2ntab{rate}']) / len(accuracies_r2ntab[f'r2ntab{rate}'])\n",
    "    mean_sparsity_gb = sum(sparsities['gb']) / len(sparsities['gb'])\n",
    "    mean_sparsity_pca = sum(sparsities['pca']) / len(sparsities['pca'])\n",
    "    mean_sparsity_r2ntab = sum(sparsities_r2ntab[f'r2ntab{rate}']) / len(accuracies_r2ntab[f'r2ntab{rate}'])\n",
    "\n",
    "    plt.scatter(mean_sparsity_gb, mean_accuracy_gb, marker='X', edgecolors='black', s=120, c='red')\n",
    "    plt.scatter(mean_sparsity_pca, mean_accuracy_pca, marker='X', edgecolors='black', s=120, c='orange')\n",
    "    plt.scatter(mean_sparsity_r2ntab, mean_accuracy_r2ntab, marker='X', edgecolors='black', s=120, c='blue')\n",
    "\n",
    "    combined_legend = plt.Line2D([0], [0], marker='X', color='w', label='Mean', markerfacecolor='black', markersize=12)\n",
    "\n",
    "    plt.xlabel('# Conditions', fontsize=15)\n",
    "    plt.ylabel('Test accuracy', fontsize=15)\n",
    "    minimum = min(mean_accuracy_gb, mean_accuracy_pca, mean_accuracy_r2ntab)\n",
    "    plt.ylim([minimum-0.1, mean_accuracy_gb+0.04])    \n",
    "    plt.legend(handles=[l1, l2, l3, combined_legend], loc='lower right', fontsize=12)\n",
    "    plt.savefig(f'exp3{name}-{rate}.pdf')\n",
    "    plt.clf()"
   ]
  },
  {
   "cell_type": "markdown",
   "id": "8ceeeca3-2cd5-4451-81f2-8ff3c068aed5",
   "metadata": {},
   "source": [
    "## Experiment 4"
   ]
  },
  {
   "cell_type": "code",
   "execution_count": 22,
   "id": "fe738d6a-7fee-4dbc-89c3-a528ed75e636",
   "metadata": {
    "tags": []
   },
   "outputs": [
    {
     "name": "stdout",
     "output_type": "stream",
     "text": [
      "dataset: adult\n",
      "  r2ntab mean accuracy: 0.8199237526935189 , std: 0.01769005973062399\n",
      "  classy mean accuracy: 0.8350737609812697 , std: 0.0\n",
      "  r2ntab mean sparsity: 35.7 , std: 12.41813190459821\n",
      "  classy mean sparsity: 195.0 , std: 0.0\n",
      "dataset: heloc\n",
      "  r2ntab mean accuracy: 0.6951242829827915 , std: 0.016573699354165722\n",
      "  classy mean accuracy: 0.709847036328872 , std: 1.1102230246251565e-16\n",
      "  r2ntab mean sparsity: 28.3 , std: 15.84960567332828\n",
      "  classy mean sparsity: 60.0 , std: 0.0\n",
      "dataset: house\n",
      "  r2ntab mean accuracy: 0.8247092385341233 , std: 0.02540702018492649\n",
      "  classy mean accuracy: 0.8591178406846611 , std: 1.1102230246251565e-16\n",
      "  r2ntab mean sparsity: 23.0 , std: 7.810249675906654\n",
      "  classy mean sparsity: 342.0 , std: 0.0\n",
      "dataset: magic\n",
      "  r2ntab mean accuracy: 0.8381440588853838 , std: 0.008047814337102475\n",
      "  classy mean accuracy: 0.8593585699263933 , std: 0.0\n",
      "  r2ntab mean sparsity: 38.9 , std: 6.28410693734599\n",
      "  classy mean sparsity: 205.0 , std: 0.0\n"
     ]
    }
   ],
   "source": [
    "with open('exp4accs.json') as file:\n",
    "    accuracies = json.load(file)\n",
    "    \n",
    "with open('exp4spars.json') as file:\n",
    "    sparsities = json.load(file)\n",
    "    \n",
    "for i in range(4):\n",
    "    \n",
    "    print('dataset:', dataset_names[i])\n",
    "    \n",
    "    r2ntab_accuracies = accuracies['r2ntab'][i*10:i*10+10]\n",
    "    classy_accuracies = accuracies['classy'][i*10:i*10+10]\n",
    "    r2ntab_sparsities = sparsities['r2ntab'][i*10:i*10+10]\n",
    "    classy_sparsities = sparsities['classy'][i*10:i*10+10]\n",
    "    \n",
    "    print('  r2ntab mean accuracy:', sum(r2ntab_accuracies) / len(r2ntab_accuracies), ', std:', np.std(r2ntab_accuracies))\n",
    "    print('  classy mean accuracy:', sum(classy_accuracies) / len(classy_accuracies), ', std:', np.std(classy_accuracies))\n",
    "    print('  r2ntab mean sparsity:', sum(r2ntab_sparsities) / len(r2ntab_sparsities), ', std:', np.std(r2ntab_sparsities))\n",
    "    print('  classy mean sparsity:', sum(classy_sparsities) / len(classy_sparsities), ', std:', np.std(classy_sparsities))"
   ]
  }
 ],
 "metadata": {
  "kernelspec": {
   "display_name": "Python 3",
   "language": "python",
   "name": "python3"
  },
  "language_info": {
   "codemirror_mode": {
    "name": "ipython",
    "version": 3
   },
   "file_extension": ".py",
   "mimetype": "text/x-python",
   "name": "python",
   "nbconvert_exporter": "python",
   "pygments_lexer": "ipython3",
   "version": "3.7.16"
  }
 },
 "nbformat": 4,
 "nbformat_minor": 5
}
