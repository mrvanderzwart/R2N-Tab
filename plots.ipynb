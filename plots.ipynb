{
 "cells": [
  {
   "cell_type": "code",
   "execution_count": 1,
   "id": "fe813b24-1b17-4a66-ad9b-204a3b478f8c",
   "metadata": {
    "tags": []
   },
   "outputs": [],
   "source": [
    "import json\n",
    "import matplotlib.pyplot as plt"
   ]
  },
  {
   "cell_type": "markdown",
   "id": "ab900302-473b-40db-9498-a585f4e950ca",
   "metadata": {},
   "source": []
  },
  {
   "cell_type": "code",
   "execution_count": 44,
   "id": "5a5dcd4b-fabf-4515-b8c3-63900f90f0b5",
   "metadata": {
    "tags": []
   },
   "outputs": [
    {
     "data": {
      "text/plain": [
       "<Figure size 640x480 with 0 Axes>"
      ]
     },
     "metadata": {},
     "output_type": "display_data"
    }
   ],
   "source": [
    "for name in ['adult', 'heloc', 'house', 'magic']:\n",
    "    \n",
    "    with open(f'exp1-accuracies-{name}.json') as file:\n",
    "        accuracies = json.load(file)\n",
    "        \n",
    "    with open(f'exp1-sparsities-{name}.json') as file:\n",
    "        sparsities = json.load(file)\n",
    "        \n",
    "    for rate in ['2', '4', '6']:\n",
    "        \n",
    "        l1 = plt.scatter(sparsities['drnet'], accuracies['drnet'], c='red', label='DR-Net')\n",
    "        l2 = plt.scatter(sparsities[f'r2ntab{rate}'], accuracies[f'r2ntab{rate}'], c='blue', label=f'R2N-Tab $\\lambda$=1e-{rate}')\n",
    "        \n",
    "        mean_accuracy_drnet = sum(accuracies['drnet']) / len(accuracies['drnet'])\n",
    "        mean_accuracy_r2ntab = sum(accuracies[f'r2ntab{rate}']) / len(accuracies[f'r2ntab{rate}'])\n",
    "        mean_sparsity_drnet = sum(sparsities['drnet']) / len(sparsities['drnet'])\n",
    "        mean_sparsity_r2ntab = sum(sparsities[f'r2ntab{rate}']) / len(sparsities[f'r2ntab{rate}'])\n",
    "        \n",
    "        l3 = plt.scatter(mean_sparsity_drnet, mean_accuracy_drnet, marker='X', edgecolors='black', s=120, c='red')\n",
    "        l4 = plt.scatter(mean_sparsity_r2ntab, mean_accuracy_r2ntab, marker='X', edgecolors='black', s=120, c='blue')\n",
    "        \n",
    "        combined_legend = plt.Line2D([0], [0], marker='X', color='w', label='Mean', markerfacecolor='black', markersize=12)\n",
    "        \n",
    "        plt.xlabel('# Conditions', fontsize=15)\n",
    "        plt.ylabel('Test accuracy', fontsize=15)\n",
    "        plt.ylim([mean_accuracy_r2ntab-0.1, mean_accuracy_drnet+0.04])    \n",
    "        plt.legend(handles=[l1, l2, combined_legend], loc='lower right', fontsize=12)\n",
    "        plt.savefig(f'{name}-{rate}.pdf')\n",
    "        plt.clf()"
   ]
  }
 ],
 "metadata": {
  "kernelspec": {
   "display_name": "Python 3",
   "language": "python",
   "name": "python3"
  },
  "language_info": {
   "codemirror_mode": {
    "name": "ipython",
    "version": 3
   },
   "file_extension": ".py",
   "mimetype": "text/x-python",
   "name": "python",
   "nbconvert_exporter": "python",
   "pygments_lexer": "ipython3",
   "version": "3.7.16"
  }
 },
 "nbformat": 4,
 "nbformat_minor": 5
}
