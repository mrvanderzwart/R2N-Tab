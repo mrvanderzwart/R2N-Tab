{
 "cells": [
  {
   "cell_type": "code",
   "execution_count": 1,
   "id": "fe813b24-1b17-4a66-ad9b-204a3b478f8c",
   "metadata": {
    "tags": []
   },
   "outputs": [],
   "source": [
    "import json\n",
    "import numpy as np\n",
    "import matplotlib.pyplot as plt\n",
    "\n",
    "from experiment1 import run as run1, plot as plot1\n",
    "from experiment2 import run as run2, plot as plot2\n",
    "from experiment3 import run as run3, plot as plot3"
   ]
  },
  {
   "cell_type": "markdown",
   "id": "ab900302-473b-40db-9498-a585f4e950ca",
   "metadata": {},
   "source": [
    "## Experiment 1"
   ]
  },
  {
   "cell_type": "code",
   "execution_count": 3,
   "id": "2f4b0837-c33a-4a38-abc2-5fa877bd8e5d",
   "metadata": {
    "collapsed": true,
    "jupyter": {
     "outputs_hidden": true
    },
    "tags": []
   },
   "outputs": [
    {
     "name": "stdout",
     "output_type": "stream",
     "text": [
      "dataset: adult\n",
      "  fold: 1\n"
     ]
    },
    {
     "name": "stderr",
     "output_type": "stream",
     "text": [
      "Epoch: 100%|██████████| 10/10 [00:04<00:00,  2.15it/s, loss=0.607, epoch accu=0.\n",
      "100%|███████████████████████| 10/10 [00:05<00:00,  1.87it/s]\n",
      "100%|███████████████████████| 10/10 [00:05<00:00,  1.84it/s]\n",
      "100%|███████████████████████| 10/10 [00:05<00:00,  1.86it/s]\n"
     ]
    },
    {
     "name": "stdout",
     "output_type": "stream",
     "text": [
      "  fold: 2\n"
     ]
    },
    {
     "name": "stderr",
     "output_type": "stream",
     "text": [
      "Epoch: 100%|██████████| 10/10 [00:04<00:00,  2.11it/s, loss=0.607, epoch accu=0.\n",
      "100%|███████████████████████| 10/10 [00:05<00:00,  1.89it/s]\n",
      "100%|███████████████████████| 10/10 [00:05<00:00,  1.93it/s]\n",
      "100%|███████████████████████| 10/10 [00:05<00:00,  1.87it/s]\n"
     ]
    },
    {
     "name": "stdout",
     "output_type": "stream",
     "text": [
      "  fold: 3\n"
     ]
    },
    {
     "name": "stderr",
     "output_type": "stream",
     "text": [
      "Epoch: 100%|██████████| 10/10 [00:04<00:00,  2.09it/s, loss=0.61, epoch accu=0.7\n",
      "100%|███████████████████████| 10/10 [00:05<00:00,  1.91it/s]\n",
      "100%|███████████████████████| 10/10 [00:05<00:00,  1.92it/s]\n",
      "100%|███████████████████████| 10/10 [00:05<00:00,  1.83it/s]\n"
     ]
    },
    {
     "name": "stdout",
     "output_type": "stream",
     "text": [
      "  fold: 4\n"
     ]
    },
    {
     "name": "stderr",
     "output_type": "stream",
     "text": [
      "Epoch: 100%|██████████| 10/10 [00:04<00:00,  2.16it/s, loss=0.607, epoch accu=0.\n",
      "100%|███████████████████████| 10/10 [00:05<00:00,  1.96it/s]\n",
      "100%|███████████████████████| 10/10 [00:05<00:00,  1.93it/s]\n",
      "100%|███████████████████████| 10/10 [00:05<00:00,  1.91it/s]\n"
     ]
    },
    {
     "name": "stdout",
     "output_type": "stream",
     "text": [
      "  fold: 5\n"
     ]
    },
    {
     "name": "stderr",
     "output_type": "stream",
     "text": [
      "Epoch: 100%|██████████| 10/10 [00:04<00:00,  2.10it/s, loss=0.609, epoch accu=0.\n",
      "100%|███████████████████████| 10/10 [00:05<00:00,  1.98it/s]\n",
      "100%|███████████████████████| 10/10 [00:05<00:00,  1.87it/s]\n",
      "100%|███████████████████████| 10/10 [00:05<00:00,  1.91it/s]\n"
     ]
    },
    {
     "name": "stdout",
     "output_type": "stream",
     "text": [
      "dataset: heloc\n",
      "  fold: 1\n"
     ]
    },
    {
     "name": "stderr",
     "output_type": "stream",
     "text": [
      "Epoch: 100%|██████████| 10/10 [00:01<00:00,  5.86it/s, loss=0.727, epoch accu=0.\n",
      "100%|███████████████████████| 10/10 [00:02<00:00,  4.96it/s]\n",
      "100%|███████████████████████| 10/10 [00:01<00:00,  5.07it/s]\n",
      "100%|███████████████████████| 10/10 [00:02<00:00,  4.91it/s]\n"
     ]
    },
    {
     "name": "stdout",
     "output_type": "stream",
     "text": [
      "  fold: 2\n"
     ]
    },
    {
     "name": "stderr",
     "output_type": "stream",
     "text": [
      "Epoch: 100%|██████████| 10/10 [00:01<00:00,  6.06it/s, loss=0.727, epoch accu=0.\n",
      "100%|███████████████████████| 10/10 [00:01<00:00,  5.46it/s]\n",
      "100%|███████████████████████| 10/10 [00:01<00:00,  5.25it/s]\n",
      "100%|███████████████████████| 10/10 [00:01<00:00,  5.15it/s]\n"
     ]
    },
    {
     "name": "stdout",
     "output_type": "stream",
     "text": [
      "  fold: 3\n"
     ]
    },
    {
     "name": "stderr",
     "output_type": "stream",
     "text": [
      "Epoch: 100%|██████████| 10/10 [00:01<00:00,  5.95it/s, loss=0.727, epoch accu=0.\n",
      "100%|███████████████████████| 10/10 [00:01<00:00,  5.61it/s]\n",
      "100%|███████████████████████| 10/10 [00:01<00:00,  5.33it/s]\n",
      "100%|███████████████████████| 10/10 [00:01<00:00,  5.11it/s]\n"
     ]
    },
    {
     "name": "stdout",
     "output_type": "stream",
     "text": [
      "  fold: 4\n"
     ]
    },
    {
     "name": "stderr",
     "output_type": "stream",
     "text": [
      "Epoch: 100%|██████████| 10/10 [00:01<00:00,  5.84it/s, loss=0.726, epoch accu=0.\n",
      "100%|███████████████████████| 10/10 [00:01<00:00,  5.44it/s]\n",
      "100%|███████████████████████| 10/10 [00:01<00:00,  5.02it/s]\n",
      "100%|███████████████████████| 10/10 [00:01<00:00,  5.37it/s]\n"
     ]
    },
    {
     "name": "stdout",
     "output_type": "stream",
     "text": [
      "  fold: 5\n"
     ]
    },
    {
     "name": "stderr",
     "output_type": "stream",
     "text": [
      "Epoch: 100%|██████████| 10/10 [00:02<00:00,  4.87it/s, loss=0.727, epoch accu=0.\n",
      "100%|███████████████████████| 10/10 [00:02<00:00,  4.06it/s]\n",
      "100%|███████████████████████| 10/10 [00:02<00:00,  4.77it/s]\n",
      "100%|███████████████████████| 10/10 [00:02<00:00,  4.92it/s]\n"
     ]
    },
    {
     "name": "stdout",
     "output_type": "stream",
     "text": [
      "dataset: house\n",
      "  fold: 1\n"
     ]
    },
    {
     "name": "stderr",
     "output_type": "stream",
     "text": [
      "Epoch: 100%|██████████| 10/10 [00:03<00:00,  2.69it/s, loss=0.839, epoch accu=0.\n",
      "100%|███████████████████████| 10/10 [00:04<00:00,  2.41it/s]\n",
      "100%|███████████████████████| 10/10 [00:03<00:00,  2.55it/s]\n",
      "100%|███████████████████████| 10/10 [00:04<00:00,  2.32it/s]\n"
     ]
    },
    {
     "name": "stdout",
     "output_type": "stream",
     "text": [
      "  fold: 2\n"
     ]
    },
    {
     "name": "stderr",
     "output_type": "stream",
     "text": [
      "Epoch: 100%|██████████| 10/10 [00:03<00:00,  2.59it/s, loss=0.838, epoch accu=0.\n",
      "100%|███████████████████████| 10/10 [00:04<00:00,  2.20it/s]\n",
      "100%|███████████████████████| 10/10 [00:04<00:00,  2.41it/s]\n",
      "100%|███████████████████████| 10/10 [00:04<00:00,  2.23it/s]\n"
     ]
    },
    {
     "name": "stdout",
     "output_type": "stream",
     "text": [
      "  fold: 3\n"
     ]
    },
    {
     "name": "stderr",
     "output_type": "stream",
     "text": [
      "Epoch: 100%|██████████| 10/10 [00:03<00:00,  2.69it/s, loss=0.838, epoch accu=0.\n",
      "100%|███████████████████████| 10/10 [00:04<00:00,  2.48it/s]\n",
      "100%|███████████████████████| 10/10 [00:03<00:00,  2.55it/s]\n",
      "100%|███████████████████████| 10/10 [00:03<00:00,  2.52it/s]\n"
     ]
    },
    {
     "name": "stdout",
     "output_type": "stream",
     "text": [
      "  fold: 4\n"
     ]
    },
    {
     "name": "stderr",
     "output_type": "stream",
     "text": [
      "Epoch: 100%|██████████| 10/10 [00:03<00:00,  2.85it/s, loss=0.839, epoch accu=0.\n",
      "100%|███████████████████████| 10/10 [00:03<00:00,  2.53it/s]\n",
      "100%|███████████████████████| 10/10 [00:03<00:00,  2.57it/s]\n",
      "100%|███████████████████████| 10/10 [00:03<00:00,  2.55it/s]\n"
     ]
    },
    {
     "name": "stdout",
     "output_type": "stream",
     "text": [
      "  fold: 5\n"
     ]
    },
    {
     "name": "stderr",
     "output_type": "stream",
     "text": [
      "Epoch: 100%|██████████| 10/10 [00:03<00:00,  2.72it/s, loss=0.839, epoch accu=0.\n",
      "100%|███████████████████████| 10/10 [00:03<00:00,  2.50it/s]\n",
      "100%|███████████████████████| 10/10 [00:03<00:00,  2.56it/s]\n",
      "100%|███████████████████████| 10/10 [00:04<00:00,  2.49it/s]\n"
     ]
    },
    {
     "name": "stdout",
     "output_type": "stream",
     "text": [
      "dataset: magic\n",
      "  fold: 1\n"
     ]
    },
    {
     "name": "stderr",
     "output_type": "stream",
     "text": [
      "Epoch: 100%|██████████| 10/10 [00:02<00:00,  3.46it/s, loss=0.664, epoch accu=0.\n",
      "100%|███████████████████████| 10/10 [00:03<00:00,  3.25it/s]\n",
      "100%|███████████████████████| 10/10 [00:03<00:00,  3.24it/s]\n",
      "100%|███████████████████████| 10/10 [00:03<00:00,  3.11it/s]\n"
     ]
    },
    {
     "name": "stdout",
     "output_type": "stream",
     "text": [
      "  fold: 2\n"
     ]
    },
    {
     "name": "stderr",
     "output_type": "stream",
     "text": [
      "Epoch: 100%|██████████| 10/10 [00:02<00:00,  3.71it/s, loss=0.663, epoch accu=0.\n",
      "100%|███████████████████████| 10/10 [00:03<00:00,  3.26it/s]\n",
      "100%|███████████████████████| 10/10 [00:03<00:00,  3.27it/s]\n",
      "100%|███████████████████████| 10/10 [00:03<00:00,  3.20it/s]\n"
     ]
    },
    {
     "name": "stdout",
     "output_type": "stream",
     "text": [
      "  fold: 3\n"
     ]
    },
    {
     "name": "stderr",
     "output_type": "stream",
     "text": [
      "Epoch: 100%|██████████| 10/10 [00:02<00:00,  3.68it/s, loss=0.663, epoch accu=0.\n",
      "100%|███████████████████████| 10/10 [00:03<00:00,  3.16it/s]\n",
      "100%|███████████████████████| 10/10 [00:03<00:00,  3.26it/s]\n",
      "100%|███████████████████████| 10/10 [00:03<00:00,  3.25it/s]\n"
     ]
    },
    {
     "name": "stdout",
     "output_type": "stream",
     "text": [
      "  fold: 4\n"
     ]
    },
    {
     "name": "stderr",
     "output_type": "stream",
     "text": [
      "Epoch: 100%|██████████| 10/10 [00:03<00:00,  2.92it/s, loss=0.663, epoch accu=0.\n",
      "100%|███████████████████████| 10/10 [00:03<00:00,  3.31it/s]\n",
      "100%|███████████████████████| 10/10 [00:03<00:00,  3.21it/s]\n",
      "100%|███████████████████████| 10/10 [00:03<00:00,  3.21it/s]\n"
     ]
    },
    {
     "name": "stdout",
     "output_type": "stream",
     "text": [
      "  fold: 5\n"
     ]
    },
    {
     "name": "stderr",
     "output_type": "stream",
     "text": [
      "Epoch: 100%|██████████| 10/10 [00:02<00:00,  3.48it/s, loss=0.663, epoch accu=0.\n",
      "100%|███████████████████████| 10/10 [00:03<00:00,  3.21it/s]\n",
      "100%|███████████████████████| 10/10 [00:03<00:00,  3.30it/s]\n",
      "100%|███████████████████████| 10/10 [00:03<00:00,  3.09it/s]\n"
     ]
    }
   ],
   "source": [
    "run1()"
   ]
  },
  {
   "cell_type": "code",
   "execution_count": 4,
   "id": "5a5dcd4b-fabf-4515-b8c3-63900f90f0b5",
   "metadata": {
    "collapsed": true,
    "jupyter": {
     "outputs_hidden": true
    },
    "tags": []
   },
   "outputs": [
    {
     "name": "stdout",
     "output_type": "stream",
     "text": [
      "dataset: adult\n",
      "  rate: 1e- 2\n",
      "    mean accuracy: 0.7523041705632284 std: 0.001529178167988648\n",
      "    mean sparsity: 3332.8 std: 103.41450575233631\n",
      "  rate: 1e- 4\n",
      "    mean accuracy: 0.7556197324969081 std: 0.005273635937066563\n",
      "    mean sparsity: 3191.6 std: 190.99068040090333\n",
      "  rate: 1e- 6\n",
      "    mean accuracy: 0.7521383715822922 std: 0.0010945806514686218\n",
      "    mean sparsity: 3206.2 std: 91.96390596315491\n",
      "dataset: heloc\n",
      "  rate: 1e- 2\n",
      "    mean accuracy: 0.5219428068760499 std: 9.144169723107609e-05\n",
      "    mean sparsity: 7700.0 std: 0.0\n",
      "  rate: 1e- 4\n",
      "    mean accuracy: 0.5219428068760499 std: 9.144169723107609e-05\n",
      "    mean sparsity: 7700.0 std: 0.0\n",
      "  rate: 1e- 6\n",
      "    mean accuracy: 0.5219428068760499 std: 9.144169723107609e-05\n",
      "    mean sparsity: 7700.0 std: 0.0\n",
      "dataset: house\n",
      "  rate: 1e- 2\n",
      "    mean accuracy: 0.2959971855858376 std: 6.180613795832013e-05\n",
      "    mean sparsity: 6033.0 std: 94.48386105573799\n",
      "  rate: 1e- 4\n",
      "    mean accuracy: 0.2959971855858376 std: 6.180613795832013e-05\n",
      "    mean sparsity: 6083.0 std: 90.96592768723903\n",
      "  rate: 1e- 6\n",
      "    mean accuracy: 0.2959971855858376 std: 6.180613795832013e-05\n",
      "    mean sparsity: 6109.8 std: 144.58547644905417\n",
      "dataset: magic\n",
      "  rate: 1e- 2\n",
      "    mean accuracy: 0.6483701366982124 std: 0.0001287849496731421\n",
      "    mean sparsity: 4338.0 std: 47.535250078231414\n",
      "  rate: 1e- 4\n",
      "    mean accuracy: 0.6483701366982124 std: 0.0001287849496731421\n",
      "    mean sparsity: 4244.2 std: 68.18621561576796\n",
      "  rate: 1e- 6\n",
      "    mean accuracy: 0.6483701366982124 std: 0.0001287849496731421\n",
      "    mean sparsity: 4310.8 std: 41.71522503834781\n"
     ]
    },
    {
     "data": {
      "text/plain": [
       "<Figure size 640x480 with 0 Axes>"
      ]
     },
     "metadata": {},
     "output_type": "display_data"
    }
   ],
   "source": [
    "plot1()"
   ]
  },
  {
   "cell_type": "markdown",
   "id": "55ec469f-37bf-41b3-8252-2529fc47d7ad",
   "metadata": {},
   "source": [
    "## Experiment 2"
   ]
  },
  {
   "cell_type": "code",
   "execution_count": 3,
   "id": "0d4f31f0-01d0-47d2-bcca-0e613932395b",
   "metadata": {
    "collapsed": true,
    "jupyter": {
     "outputs_hidden": true
    },
    "tags": []
   },
   "outputs": [
    {
     "name": "stdout",
     "output_type": "stream",
     "text": [
      "dataset: adult\n",
      "  fold: 1\n"
     ]
    },
    {
     "name": "stderr",
     "output_type": "stream",
     "text": [
      "100%|███████████████████████| 10/10 [00:05<00:00,  1.71it/s]\n",
      "100%|███████████████████████| 10/10 [00:05<00:00,  1.69it/s]\n",
      "100%|███████████████████████| 10/10 [00:05<00:00,  1.75it/s]\n"
     ]
    },
    {
     "name": "stdout",
     "output_type": "stream",
     "text": [
      "  fold: 2\n"
     ]
    },
    {
     "name": "stderr",
     "output_type": "stream",
     "text": [
      "100%|███████████████████████| 10/10 [00:05<00:00,  1.70it/s]\n",
      "100%|███████████████████████| 10/10 [00:05<00:00,  1.72it/s]\n",
      "100%|███████████████████████| 10/10 [00:05<00:00,  1.68it/s]\n"
     ]
    },
    {
     "name": "stdout",
     "output_type": "stream",
     "text": [
      "  fold: 3\n"
     ]
    },
    {
     "name": "stderr",
     "output_type": "stream",
     "text": [
      "100%|███████████████████████| 10/10 [00:05<00:00,  1.69it/s]\n",
      "100%|███████████████████████| 10/10 [00:05<00:00,  1.75it/s]\n",
      "100%|███████████████████████| 10/10 [00:05<00:00,  1.68it/s]\n"
     ]
    },
    {
     "name": "stdout",
     "output_type": "stream",
     "text": [
      "  fold: 4\n"
     ]
    },
    {
     "name": "stderr",
     "output_type": "stream",
     "text": [
      "100%|███████████████████████| 10/10 [00:05<00:00,  1.71it/s]\n",
      "100%|███████████████████████| 10/10 [00:05<00:00,  1.70it/s]\n",
      "100%|███████████████████████| 10/10 [00:05<00:00,  1.68it/s]\n"
     ]
    },
    {
     "name": "stdout",
     "output_type": "stream",
     "text": [
      "  fold: 5\n"
     ]
    },
    {
     "name": "stderr",
     "output_type": "stream",
     "text": [
      "100%|███████████████████████| 10/10 [00:05<00:00,  1.73it/s]\n",
      "100%|███████████████████████| 10/10 [00:05<00:00,  1.71it/s]\n",
      "100%|███████████████████████| 10/10 [00:05<00:00,  1.69it/s]\n"
     ]
    },
    {
     "name": "stdout",
     "output_type": "stream",
     "text": [
      "dataset: heloc\n",
      "  fold: 1\n"
     ]
    },
    {
     "name": "stderr",
     "output_type": "stream",
     "text": [
      "100%|███████████████████████| 10/10 [00:02<00:00,  4.79it/s]\n",
      "100%|███████████████████████| 10/10 [00:02<00:00,  3.97it/s]\n",
      "100%|███████████████████████| 10/10 [00:02<00:00,  4.49it/s]\n"
     ]
    },
    {
     "name": "stdout",
     "output_type": "stream",
     "text": [
      "  fold: 2\n"
     ]
    },
    {
     "name": "stderr",
     "output_type": "stream",
     "text": [
      "100%|███████████████████████| 10/10 [00:02<00:00,  4.81it/s]\n",
      "100%|███████████████████████| 10/10 [00:02<00:00,  4.84it/s]\n",
      "100%|███████████████████████| 10/10 [00:02<00:00,  4.36it/s]\n"
     ]
    },
    {
     "name": "stdout",
     "output_type": "stream",
     "text": [
      "  fold: 3\n"
     ]
    },
    {
     "name": "stderr",
     "output_type": "stream",
     "text": [
      "100%|███████████████████████| 10/10 [00:02<00:00,  4.69it/s]\n",
      "100%|███████████████████████| 10/10 [00:02<00:00,  4.42it/s]\n",
      "100%|███████████████████████| 10/10 [00:02<00:00,  4.75it/s]\n"
     ]
    },
    {
     "name": "stdout",
     "output_type": "stream",
     "text": [
      "  fold: 4\n"
     ]
    },
    {
     "name": "stderr",
     "output_type": "stream",
     "text": [
      "100%|███████████████████████| 10/10 [00:02<00:00,  4.69it/s]\n",
      "100%|███████████████████████| 10/10 [00:02<00:00,  4.75it/s]\n",
      "100%|███████████████████████| 10/10 [00:02<00:00,  4.70it/s]\n"
     ]
    },
    {
     "name": "stdout",
     "output_type": "stream",
     "text": [
      "  fold: 5\n"
     ]
    },
    {
     "name": "stderr",
     "output_type": "stream",
     "text": [
      "100%|███████████████████████| 10/10 [00:02<00:00,  4.78it/s]\n",
      "100%|███████████████████████| 10/10 [00:02<00:00,  4.73it/s]\n",
      "100%|███████████████████████| 10/10 [00:02<00:00,  4.31it/s]\n"
     ]
    },
    {
     "name": "stdout",
     "output_type": "stream",
     "text": [
      "dataset: house\n",
      "  fold: 1\n"
     ]
    },
    {
     "name": "stderr",
     "output_type": "stream",
     "text": [
      "100%|███████████████████████| 10/10 [00:04<00:00,  2.22it/s]\n",
      "100%|███████████████████████| 10/10 [00:04<00:00,  2.17it/s]\n",
      "100%|███████████████████████| 10/10 [00:04<00:00,  2.21it/s]\n"
     ]
    },
    {
     "name": "stdout",
     "output_type": "stream",
     "text": [
      "  fold: 2\n"
     ]
    },
    {
     "name": "stderr",
     "output_type": "stream",
     "text": [
      "100%|███████████████████████| 10/10 [00:04<00:00,  2.33it/s]\n",
      "100%|███████████████████████| 10/10 [00:04<00:00,  2.23it/s]\n",
      "100%|███████████████████████| 10/10 [00:04<00:00,  2.27it/s]\n"
     ]
    },
    {
     "name": "stdout",
     "output_type": "stream",
     "text": [
      "  fold: 3\n"
     ]
    },
    {
     "name": "stderr",
     "output_type": "stream",
     "text": [
      "100%|███████████████████████| 10/10 [00:04<00:00,  2.27it/s]\n",
      "100%|███████████████████████| 10/10 [00:04<00:00,  2.17it/s]\n",
      "100%|███████████████████████| 10/10 [00:04<00:00,  2.16it/s]\n"
     ]
    },
    {
     "name": "stdout",
     "output_type": "stream",
     "text": [
      "  fold: 4\n"
     ]
    },
    {
     "name": "stderr",
     "output_type": "stream",
     "text": [
      "100%|███████████████████████| 10/10 [00:04<00:00,  2.20it/s]\n",
      "100%|███████████████████████| 10/10 [00:04<00:00,  2.38it/s]\n",
      "100%|███████████████████████| 10/10 [00:04<00:00,  2.26it/s]\n"
     ]
    },
    {
     "name": "stdout",
     "output_type": "stream",
     "text": [
      "  fold: 5\n"
     ]
    },
    {
     "name": "stderr",
     "output_type": "stream",
     "text": [
      "100%|███████████████████████| 10/10 [00:04<00:00,  2.28it/s]\n",
      "100%|███████████████████████| 10/10 [00:04<00:00,  2.10it/s]\n",
      "100%|███████████████████████| 10/10 [00:04<00:00,  2.29it/s]\n"
     ]
    },
    {
     "name": "stdout",
     "output_type": "stream",
     "text": [
      "dataset: magic\n",
      "  fold: 1\n"
     ]
    },
    {
     "name": "stderr",
     "output_type": "stream",
     "text": [
      "100%|███████████████████████| 10/10 [00:03<00:00,  2.77it/s]\n",
      "100%|███████████████████████| 10/10 [00:03<00:00,  2.81it/s]\n",
      "100%|███████████████████████| 10/10 [00:03<00:00,  2.74it/s]\n"
     ]
    },
    {
     "name": "stdout",
     "output_type": "stream",
     "text": [
      "  fold: 2\n"
     ]
    },
    {
     "name": "stderr",
     "output_type": "stream",
     "text": [
      "100%|███████████████████████| 10/10 [00:03<00:00,  2.78it/s]\n",
      "100%|███████████████████████| 10/10 [00:03<00:00,  2.77it/s]\n",
      "100%|███████████████████████| 10/10 [00:03<00:00,  2.85it/s]\n"
     ]
    },
    {
     "name": "stdout",
     "output_type": "stream",
     "text": [
      "  fold: 3\n"
     ]
    },
    {
     "name": "stderr",
     "output_type": "stream",
     "text": [
      "100%|███████████████████████| 10/10 [00:03<00:00,  2.69it/s]\n",
      "100%|███████████████████████| 10/10 [00:03<00:00,  2.82it/s]\n",
      "100%|███████████████████████| 10/10 [00:03<00:00,  2.73it/s]\n"
     ]
    },
    {
     "name": "stdout",
     "output_type": "stream",
     "text": [
      "  fold: 4\n"
     ]
    },
    {
     "name": "stderr",
     "output_type": "stream",
     "text": [
      "100%|███████████████████████| 10/10 [00:03<00:00,  2.80it/s]\n",
      "100%|███████████████████████| 10/10 [00:03<00:00,  2.64it/s]\n",
      "100%|███████████████████████| 10/10 [00:03<00:00,  2.76it/s]\n"
     ]
    },
    {
     "name": "stdout",
     "output_type": "stream",
     "text": [
      "  fold: 5\n"
     ]
    },
    {
     "name": "stderr",
     "output_type": "stream",
     "text": [
      "100%|███████████████████████| 10/10 [00:03<00:00,  2.75it/s]\n",
      "100%|███████████████████████| 10/10 [00:03<00:00,  2.80it/s]\n",
      "100%|███████████████████████| 10/10 [00:03<00:00,  2.93it/s]\n"
     ]
    }
   ],
   "source": [
    "run2()"
   ]
  },
  {
   "cell_type": "code",
   "execution_count": 2,
   "id": "049bbc4b-fdb9-448d-b89f-4cb827a11db1",
   "metadata": {
    "collapsed": true,
    "jupyter": {
     "outputs_hidden": true
    },
    "tags": []
   },
   "outputs": [
    {
     "name": "stdout",
     "output_type": "stream",
     "text": [
      "{'0.01': [0.7510359688380573, 0.7510359688380573, 0.7511604774535809, 0.7511604774535809, 0.7509946949602122], '0.0001': [0.7513674788662357, 0.7528592739930383, 0.7511604774535809, 0.7511604774535809, 0.7509946949602122], '1e-06': [0.7510359688380573, 0.7510359688380573, 0.7511604774535809, 0.7511604774535809, 0.7509946949602122]}\n"
     ]
    },
    {
     "data": {
      "image/png": "[encoded data removed]",
      "text/plain": [
       "<Figure size 640x480 with 1 Axes>"
      ]
     },
     "metadata": {},
     "output_type": "display_data"
    },
    {
     "name": "stdout",
     "output_type": "stream",
     "text": [
      "{'0.01': [0.5219885277246654, 0.5219885277246654, 0.5219885277246654, 0.5219885277246654, 0.5217599234815877], '0.0001': [0.5219885277246654, 0.5219885277246654, 0.5219885277246654, 0.5219885277246654, 0.5217599234815877], '1e-06': [0.5219885277246654, 0.5219885277246654, 0.5219885277246654, 0.5219885277246654, 0.5217599234815877]}\n"
     ]
    },
    {
     "data": {
      "image/png": "[encoded data removed]",
      "text/plain": [
       "<Figure size 640x480 with 1 Axes>"
      ]
     },
     "metadata": {},
     "output_type": "display_data"
    },
    {
     "name": "stdout",
     "output_type": "stream",
     "text": [
      "{'0.01': [0.2960280886548168, 0.2960280886548168, 0.2960280886548168, 0.2960280886548168, 0.295873573309921], '0.0001': [0.2960280886548168, 0.2960280886548168, 0.2971253017335967, 0.2980030721966206, 0.295873573309921], '1e-06': [0.2960280886548168, 0.2960280886548168, 0.2960280886548168, 0.2960280886548168, 0.295873573309921]}\n"
     ]
    },
    {
     "data": {
      "image/png": "[encoded data removed]",
      "text/plain": [
       "<Figure size 640x480 with 1 Axes>"
      ]
     },
     "metadata": {},
     "output_type": "display_data"
    },
    {
     "name": "stdout",
     "output_type": "stream",
     "text": [
      "{'0.01': [0.648527865404837, 0.648527865404837, 0.6482649842271293, 0.6482649842271293, 0.6482649842271293], '0.0001': [0.648527865404837, 0.648527865404837, 0.6482649842271293, 0.6482649842271293, 0.6482649842271293], '1e-06': [0.648527865404837, 0.648527865404837, 0.6482649842271293, 0.6482649842271293, 0.6482649842271293]}\n"
     ]
    },
    {
     "data": {
      "image/png": "[encoded data removed]",
      "text/plain": [
       "<Figure size 640x480 with 1 Axes>"
      ]
     },
     "metadata": {},
     "output_type": "display_data"
    }
   ],
   "source": [
    "plot2()"
   ]
  },
  {
   "cell_type": "markdown",
   "id": "1aa416ae-2af1-4d46-b7bc-35862296f5f1",
   "metadata": {},
   "source": [
    "## Experiment 3"
   ]
  },
  {
   "cell_type": "code",
   "execution_count": 2,
   "id": "ba4e050e-0036-492c-ba19-518f131b5112",
   "metadata": {
    "collapsed": true,
    "jupyter": {
     "outputs_hidden": true
    },
    "tags": []
   },
   "outputs": [
    {
     "name": "stdout",
     "output_type": "stream",
     "text": [
      "dataset: adult\n",
      "  fold: 1\n"
     ]
    },
    {
     "name": "stderr",
     "output_type": "stream",
     "text": [
      "100%|███████████████████████| 10/10 [00:05<00:00,  1.90it/s]\n",
      "100%|███████████████████████| 10/10 [00:07<00:00,  1.34it/s]\n",
      "100%|███████████████████████| 10/10 [00:06<00:00,  1.46it/s]\n"
     ]
    },
    {
     "name": "stdout",
     "output_type": "stream",
     "text": [
      "  fold: 2\n"
     ]
    },
    {
     "name": "stderr",
     "output_type": "stream",
     "text": [
      "100%|███████████████████████| 10/10 [00:05<00:00,  1.91it/s]\n",
      "100%|███████████████████████| 10/10 [00:06<00:00,  1.48it/s]\n",
      "100%|███████████████████████| 10/10 [00:06<00:00,  1.47it/s]\n"
     ]
    },
    {
     "name": "stdout",
     "output_type": "stream",
     "text": [
      "  fold: 3\n"
     ]
    },
    {
     "name": "stderr",
     "output_type": "stream",
     "text": [
      "100%|███████████████████████| 10/10 [00:05<00:00,  1.96it/s]\n",
      "100%|███████████████████████| 10/10 [00:06<00:00,  1.49it/s]\n",
      "100%|███████████████████████| 10/10 [00:06<00:00,  1.46it/s]\n"
     ]
    },
    {
     "name": "stdout",
     "output_type": "stream",
     "text": [
      "  fold: 4\n"
     ]
    },
    {
     "name": "stderr",
     "output_type": "stream",
     "text": [
      "100%|███████████████████████| 10/10 [00:05<00:00,  1.96it/s]\n",
      "100%|███████████████████████| 10/10 [00:06<00:00,  1.48it/s]\n",
      "100%|███████████████████████| 10/10 [00:06<00:00,  1.48it/s]\n"
     ]
    },
    {
     "name": "stdout",
     "output_type": "stream",
     "text": [
      "  fold: 5\n"
     ]
    },
    {
     "name": "stderr",
     "output_type": "stream",
     "text": [
      "100%|███████████████████████| 10/10 [00:05<00:00,  1.95it/s]\n",
      "100%|███████████████████████| 10/10 [00:06<00:00,  1.48it/s]\n",
      "100%|███████████████████████| 10/10 [00:06<00:00,  1.52it/s]\n"
     ]
    },
    {
     "name": "stdout",
     "output_type": "stream",
     "text": [
      "dataset: heloc\n",
      "  fold: 1\n"
     ]
    },
    {
     "name": "stderr",
     "output_type": "stream",
     "text": [
      "100%|███████████████████████| 10/10 [00:01<00:00,  5.25it/s]\n",
      "100%|███████████████████████| 10/10 [00:02<00:00,  4.36it/s]\n",
      "100%|███████████████████████| 10/10 [00:02<00:00,  4.02it/s]\n"
     ]
    },
    {
     "name": "stdout",
     "output_type": "stream",
     "text": [
      "  fold: 2\n"
     ]
    },
    {
     "name": "stderr",
     "output_type": "stream",
     "text": [
      "100%|███████████████████████| 10/10 [00:01<00:00,  5.04it/s]\n",
      "100%|███████████████████████| 10/10 [00:02<00:00,  4.29it/s]\n",
      "100%|███████████████████████| 10/10 [00:02<00:00,  3.84it/s]\n"
     ]
    },
    {
     "name": "stdout",
     "output_type": "stream",
     "text": [
      "  fold: 3\n"
     ]
    },
    {
     "name": "stderr",
     "output_type": "stream",
     "text": [
      "100%|███████████████████████| 10/10 [00:01<00:00,  5.34it/s]\n",
      "100%|███████████████████████| 10/10 [00:02<00:00,  4.14it/s]\n",
      "100%|███████████████████████| 10/10 [00:02<00:00,  4.11it/s]\n"
     ]
    },
    {
     "name": "stdout",
     "output_type": "stream",
     "text": [
      "  fold: 4\n"
     ]
    },
    {
     "name": "stderr",
     "output_type": "stream",
     "text": [
      "100%|███████████████████████| 10/10 [00:01<00:00,  5.33it/s]\n",
      "100%|███████████████████████| 10/10 [00:02<00:00,  4.17it/s]\n",
      "100%|███████████████████████| 10/10 [00:02<00:00,  4.00it/s]\n"
     ]
    },
    {
     "name": "stdout",
     "output_type": "stream",
     "text": [
      "  fold: 5\n"
     ]
    },
    {
     "name": "stderr",
     "output_type": "stream",
     "text": [
      "100%|███████████████████████| 10/10 [00:01<00:00,  5.19it/s]\n",
      "100%|███████████████████████| 10/10 [00:02<00:00,  4.22it/s]\n",
      "100%|███████████████████████| 10/10 [00:02<00:00,  4.06it/s]\n"
     ]
    },
    {
     "name": "stdout",
     "output_type": "stream",
     "text": [
      "dataset: house\n",
      "  fold: 1\n"
     ]
    },
    {
     "name": "stderr",
     "output_type": "stream",
     "text": [
      "100%|███████████████████████| 10/10 [00:03<00:00,  2.51it/s]\n",
      "100%|███████████████████████| 10/10 [00:04<00:00,  2.06it/s]\n",
      "100%|███████████████████████| 10/10 [00:05<00:00,  1.97it/s]\n"
     ]
    },
    {
     "name": "stdout",
     "output_type": "stream",
     "text": [
      "  fold: 2\n"
     ]
    },
    {
     "name": "stderr",
     "output_type": "stream",
     "text": [
      "100%|███████████████████████| 10/10 [00:03<00:00,  2.53it/s]\n",
      "100%|███████████████████████| 10/10 [00:04<00:00,  2.03it/s]\n",
      "100%|███████████████████████| 10/10 [00:05<00:00,  1.98it/s]\n"
     ]
    },
    {
     "name": "stdout",
     "output_type": "stream",
     "text": [
      "  fold: 3\n"
     ]
    },
    {
     "name": "stderr",
     "output_type": "stream",
     "text": [
      "100%|███████████████████████| 10/10 [00:04<00:00,  2.50it/s]\n",
      "100%|███████████████████████| 10/10 [00:04<00:00,  2.08it/s]\n",
      "100%|███████████████████████| 10/10 [00:05<00:00,  1.94it/s]\n"
     ]
    },
    {
     "name": "stdout",
     "output_type": "stream",
     "text": [
      "  fold: 4\n"
     ]
    },
    {
     "name": "stderr",
     "output_type": "stream",
     "text": [
      "100%|███████████████████████| 10/10 [00:03<00:00,  2.54it/s]\n",
      "100%|███████████████████████| 10/10 [00:04<00:00,  2.03it/s]\n",
      "100%|███████████████████████| 10/10 [00:04<00:00,  2.01it/s]\n"
     ]
    },
    {
     "name": "stdout",
     "output_type": "stream",
     "text": [
      "  fold: 5\n"
     ]
    },
    {
     "name": "stderr",
     "output_type": "stream",
     "text": [
      "100%|███████████████████████| 10/10 [00:04<00:00,  2.46it/s]\n",
      "100%|███████████████████████| 10/10 [00:04<00:00,  2.08it/s]\n",
      "100%|███████████████████████| 10/10 [00:05<00:00,  1.92it/s]\n"
     ]
    },
    {
     "name": "stdout",
     "output_type": "stream",
     "text": [
      "dataset: magic\n",
      "  fold: 1\n"
     ]
    },
    {
     "name": "stderr",
     "output_type": "stream",
     "text": [
      "100%|███████████████████████| 10/10 [00:03<00:00,  3.30it/s]\n",
      "100%|███████████████████████| 10/10 [00:03<00:00,  2.74it/s]\n",
      "100%|███████████████████████| 10/10 [00:05<00:00,  1.96it/s]\n"
     ]
    },
    {
     "name": "stdout",
     "output_type": "stream",
     "text": [
      "  fold: 2\n"
     ]
    },
    {
     "name": "stderr",
     "output_type": "stream",
     "text": [
      "100%|███████████████████████| 10/10 [00:03<00:00,  3.04it/s]\n",
      "100%|███████████████████████| 10/10 [00:03<00:00,  2.66it/s]\n",
      "100%|███████████████████████| 10/10 [00:04<00:00,  2.46it/s]\n"
     ]
    },
    {
     "name": "stdout",
     "output_type": "stream",
     "text": [
      "  fold: 3\n"
     ]
    },
    {
     "name": "stderr",
     "output_type": "stream",
     "text": [
      "100%|███████████████████████| 10/10 [00:03<00:00,  3.06it/s]\n",
      "100%|███████████████████████| 10/10 [00:03<00:00,  2.81it/s]\n",
      "100%|███████████████████████| 10/10 [00:04<00:00,  2.45it/s]\n"
     ]
    },
    {
     "name": "stdout",
     "output_type": "stream",
     "text": [
      "  fold: 4\n"
     ]
    },
    {
     "name": "stderr",
     "output_type": "stream",
     "text": [
      "100%|███████████████████████| 10/10 [00:03<00:00,  3.19it/s]\n",
      "100%|███████████████████████| 10/10 [00:03<00:00,  2.77it/s]\n",
      "100%|███████████████████████| 10/10 [00:04<00:00,  2.46it/s]\n"
     ]
    },
    {
     "name": "stdout",
     "output_type": "stream",
     "text": [
      "  fold: 5\n"
     ]
    },
    {
     "name": "stderr",
     "output_type": "stream",
     "text": [
      "100%|███████████████████████| 10/10 [00:03<00:00,  3.11it/s]\n",
      "100%|███████████████████████| 10/10 [00:03<00:00,  2.72it/s]\n",
      "100%|███████████████████████| 10/10 [00:04<00:00,  2.47it/s]\n"
     ]
    }
   ],
   "source": [
    "run3()"
   ]
  },
  {
   "cell_type": "code",
   "execution_count": 2,
   "id": "c2602667-2bb8-4b2c-bec6-af34704ac7a2",
   "metadata": {
    "tags": []
   },
   "outputs": [
    {
     "data": {
      "text/plain": [
       "<Figure size 640x480 with 0 Axes>"
      ]
     },
     "metadata": {},
     "output_type": "display_data"
    }
   ],
   "source": [
    "plot3()"
   ]
  },
  {
   "cell_type": "markdown",
   "id": "8ceeeca3-2cd5-4451-81f2-8ff3c068aed5",
   "metadata": {},
   "source": [
    "## Experiment 4"
   ]
  },
  {
   "cell_type": "code",
   "execution_count": 22,
   "id": "fe738d6a-7fee-4dbc-89c3-a528ed75e636",
   "metadata": {
    "tags": []
   },
   "outputs": [
    {
     "name": "stdout",
     "output_type": "stream",
     "text": [
      "dataset: adult\n",
      "  r2ntab mean accuracy: 0.8199237526935189 , std: 0.01769005973062399\n",
      "  classy mean accuracy: 0.8350737609812697 , std: 0.0\n",
      "  r2ntab mean sparsity: 35.7 , std: 12.41813190459821\n",
      "  classy mean sparsity: 195.0 , std: 0.0\n",
      "dataset: heloc\n",
      "  r2ntab mean accuracy: 0.6951242829827915 , std: 0.016573699354165722\n",
      "  classy mean accuracy: 0.709847036328872 , std: 1.1102230246251565e-16\n",
      "  r2ntab mean sparsity: 28.3 , std: 15.84960567332828\n",
      "  classy mean sparsity: 60.0 , std: 0.0\n",
      "dataset: house\n",
      "  r2ntab mean accuracy: 0.8247092385341233 , std: 0.02540702018492649\n",
      "  classy mean accuracy: 0.8591178406846611 , std: 1.1102230246251565e-16\n",
      "  r2ntab mean sparsity: 23.0 , std: 7.810249675906654\n",
      "  classy mean sparsity: 342.0 , std: 0.0\n",
      "dataset: magic\n",
      "  r2ntab mean accuracy: 0.8381440588853838 , std: 0.008047814337102475\n",
      "  classy mean accuracy: 0.8593585699263933 , std: 0.0\n",
      "  r2ntab mean sparsity: 38.9 , std: 6.28410693734599\n",
      "  classy mean sparsity: 205.0 , std: 0.0\n"
     ]
    }
   ],
   "source": [
    "with open('exp4accs.json') as file:\n",
    "    accuracies = json.load(file)\n",
    "    \n",
    "with open('exp4spars.json') as file:\n",
    "    sparsities = json.load(file)\n",
    "    \n",
    "for i in range(4):\n",
    "    \n",
    "    print('dataset:', dataset_names[i])\n",
    "    \n",
    "    r2ntab_accuracies = accuracies['r2ntab'][i*10:i*10+10]\n",
    "    classy_accuracies = accuracies['classy'][i*10:i*10+10]\n",
    "    r2ntab_sparsities = sparsities['r2ntab'][i*10:i*10+10]\n",
    "    classy_sparsities = sparsities['classy'][i*10:i*10+10]\n",
    "    \n",
    "    print('  r2ntab mean accuracy:', sum(r2ntab_accuracies) / len(r2ntab_accuracies), ', std:', np.std(r2ntab_accuracies))\n",
    "    print('  classy mean accuracy:', sum(classy_accuracies) / len(classy_accuracies), ', std:', np.std(classy_accuracies))\n",
    "    print('  r2ntab mean sparsity:', sum(r2ntab_sparsities) / len(r2ntab_sparsities), ', std:', np.std(r2ntab_sparsities))\n",
    "    print('  classy mean sparsity:', sum(classy_sparsities) / len(classy_sparsities), ', std:', np.std(classy_sparsities))"
   ]
  },
  {
   "cell_type": "code",
   "execution_count": 31,
   "id": "3ce3f520-b5ec-4259-918c-eea6c45f6d28",
   "metadata": {
    "tags": []
   },
   "outputs": [
    {
     "data": {
      "text/plain": [
       "<Figure size 640x480 with 0 Axes>"
      ]
     },
     "metadata": {},
     "output_type": "display_data"
    }
   ],
   "source": [
    "accs = [[0.8199, 0.6951, 0.8247, 0.8181],\n",
    "        [0.8283, 0.6980, 0.8161, 0.8361],\n",
    "        [0.7863, 0.6213, 0.8253, 0.8040],\n",
    "        [0.7854, 0.6359, 0.8285, 0.7961],\n",
    "        [0.8351, 0.7098, 0.8591, 0.8594]]\n",
    "spars = [[35.7, 28.3, 23.0, 38.9],\n",
    "         [287.9, 103.0, 281.8, 225.9],\n",
    "         [1251.8, 1440.2, 1794.0, 1491.6],\n",
    "         [1089.4, 1256.0, 1685.6, 1347.4],\n",
    "         [195.0, 60.0, 342.0, 205.0]]\n",
    "\n",
    "plt.style.use('seaborn-darkgrid')\n",
    "\n",
    "for index, name in enumerate(dataset_names):\n",
    "    l1 = plt.scatter(spars[0][index], accs[0][index], c='blue', label='R2N-Tab $\\lambda$=1e-4')\n",
    "    l2 = plt.scatter(spars[1][index], accs[1][index], c='orange', label='RIPPER')\n",
    "    l3 = plt.scatter(spars[2][index], accs[2][index], c='yellow', label='CART')\n",
    "    l4 = plt.scatter(spars[3][index], accs[3][index], c='purple', label='C4.5')\n",
    "    l5 = plt.scatter(spars[4][index], accs[4][index], c='red', label='Classy')\n",
    "    \n",
    "    plt.xscale('log')\n",
    "\n",
    "    plt.xlabel('# Conditions', fontsize=15)\n",
    "    plt.ylabel('Mean test accuracy', fontsize=15)\n",
    "    plt.ylim([min([row[index] for row in accs])-0.12, max([row[index] for row in accs])+0.1])\n",
    "    plt.legend(handles=[l1, l2, l3, l4, l5], loc='lower right', fontsize=12)\n",
    "    plt.savefig(f'exp4plot-{name}.pdf')\n",
    "    plt.clf()"
   ]
  }
 ],
 "metadata": {
  "kernelspec": {
   "display_name": "Python 3",
   "language": "python",
   "name": "python3"
  },
  "language_info": {
   "codemirror_mode": {
    "name": "ipython",
    "version": 3
   },
   "file_extension": ".py",
   "mimetype": "text/x-python",
   "name": "python",
   "nbconvert_exporter": "python",
   "pygments_lexer": "ipython3",
   "version": "3.7.16"
  }
 },
 "nbformat": 4,
 "nbformat_minor": 5
}
