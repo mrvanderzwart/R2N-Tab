{
 "cells": [
  {
   "cell_type": "code",
   "execution_count": 1,
   "id": "c0694179-5ae4-4758-a246-f2eda579d945",
   "metadata": {},
   "outputs": [],
   "source": [
    "import wittgenstein as rule\n",
    "import torch\n",
    "import numpy as np\n",
    "import pandas as pd\n",
    "from sklearn.tree import DecisionTreeClassifier\n",
    "from sklearn.tree import export_text\n",
    "from datasets.dataset import transform_dataset, kfold_dataset\n",
    "from R2Ntab import train as train_r2ntab, R2Ntab"
   ]
  },
  {
   "cell_type": "code",
   "execution_count": 2,
   "id": "49fc9a4a-7bea-46df-a8b3-fa948aaf129c",
   "metadata": {},
   "outputs": [],
   "source": [
    "# Read datasets\n",
    "name = 'adult'\n",
    "X, Y, X_headers, Y_headers = transform_dataset(name, method='onehot-compare', negations=False, labels='binary')\n",
    "datasets = kfold_dataset(X, Y, shuffle=1)\n",
    "X_train, X_test, Y_train, Y_test = datasets[0]\n",
    "train_set = torch.utils.data.TensorDataset(torch.Tensor(X_train.to_numpy()), torch.Tensor(Y_train))\n",
    "test_set = torch.utils.data.TensorDataset(torch.Tensor(X_test.to_numpy()), torch.Tensor(Y_test))"
   ]
  },
  {
   "cell_type": "code",
   "execution_count": 3,
   "id": "7827dff7-aa48-4966-ba87-61aeb6406bad",
   "metadata": {},
   "outputs": [],
   "source": [
    "X_train = pd.DataFrame(X_train)\n",
    "X_train = X_train.sort_index(axis=1)\n",
    "X_test = pd.DataFrame(X_test)\n",
    "X_test = X_test.sort_index(axis=1)"
   ]
  },
  {
   "cell_type": "code",
   "execution_count": 4,
   "id": "24ddf7d3-efca-4832-aaa1-12461786ae0c",
   "metadata": {},
   "outputs": [],
   "source": [
    "rule_learners = ['r2ntab', 'ripper', 'cart', 'c4.5']\n",
    "def run_learner(rule_learner):\n",
    "    if rule_learner == 'r2ntab':\n",
    "        model = R2Ntab(train_set[:][0].size(1), 50, 1)\n",
    "        train_r2ntab(model, train_set, test_set=test_set, device='cpu', lr_rules=1e-2, lr_cancel=1e-2, \n",
    "                epochs=1000, batch_size=400, and_lam=1e-2, or_lam=1e-5, cancel_lam=1e-4, num_alter=500)\n",
    "        acc = (model.predict(np.array(X_test)) == Y_test).mean()\n",
    "        sparsity = sum(map(len, model.get_rules(X_headers)))\n",
    "    elif rule_learner == 'ripper':\n",
    "        model = rule.RIPPER()\n",
    "        model.fit(X_train, Y_train)\n",
    "        acc = model.score(X_test, Y_test)\n",
    "        sparsity = sum(len(rule) for rule in model.ruleset_)\n",
    "    elif rule_learner == 'cart':\n",
    "        model = DecisionTreeClassifier()\n",
    "        model.fit(X_train, Y_train)\n",
    "        acc = model.score(X_test, Y_test)\n",
    "        sparsity = export_text(model, feature_names=X_train.columns.tolist()).count('(')\n",
    "    elif rule_learner == 'c4.5':\n",
    "        model = DecisionTreeClassifier(criterion='entropy')\n",
    "        model.fit(X_train, Y_train)\n",
    "        acc = model.score(X_test, Y_test)\n",
    "        sparsity = export_text(model, feature_names=X_train.columns.tolist()).count('(')\n",
    "        \n",
    "    return acc, sparsity"
   ]
  },
  {
   "cell_type": "code",
   "execution_count": null,
   "id": "d48439bd-1071-4dec-b850-3b632fe6b006",
   "metadata": {
    "tags": []
   },
   "outputs": [
    {
     "name": "stdout",
     "output_type": "stream",
     "text": [
      "run 1\n"
     ]
    },
    {
     "name": "stderr",
     "output_type": "stream",
     "text": [
      "Epoch: 100%|██████████| 1000/1000 [08:50<00:00,  1.88it/s, rules cancelled=73, loss=0.55, epoch accu=0.827, test accu=0.833, num rules=11, sparsity=0.879]\n"
     ]
    },
    {
     "name": "stdout",
     "output_type": "stream",
     "text": [
      "run 2\n"
     ]
    },
    {
     "name": "stderr",
     "output_type": "stream",
     "text": [
      "Epoch:  77%|███████▋  | 766/1000 [06:39<02:00,  1.95it/s, rules cancelled=77, loss=0.579, epoch accu=0.781, test accu=0.783, num rules=6, sparsity=0.887] "
     ]
    }
   ],
   "source": [
    "runs = 10\n",
    "accuracies = {}\n",
    "sparsities = {}\n",
    "for learner in rule_learners:\n",
    "    accuracies[learner] = []\n",
    "    sparsities[learner] = []\n",
    "    \n",
    "for run in range(runs):\n",
    "    print(f'run {run+1}') \n",
    "    for learner in rule_learners:\n",
    "        acc, sparsity = run_learner(learner)\n",
    "        \n",
    "        accuracies[learner].append(acc)\n",
    "        sparsities[learner].append(sparsity)"
   ]
  },
  {
   "cell_type": "code",
   "execution_count": 6,
   "id": "97315690-dbd8-4808-8bc0-bf83997f1794",
   "metadata": {},
   "outputs": [
    {
     "name": "stdout",
     "output_type": "stream",
     "text": [
      "r2ntab 0.6485662191281286 0.12073547438471621 98.9 37.98275924679512\n",
      "ripper 0.8280291728824796 0.003417328156895165 250.9 32.352588768134154\n",
      "cart 0.7873197414221781 0.0015627630268857367 1252.2 2.749545416973504\n",
      "c4.5 0.7851649262390186 0.0016698532298878572 1089.6 1.9595917942265426\n"
     ]
    }
   ],
   "source": [
    "for learner in rule_learners:\n",
    "    print(learner, np.mean(accuracies[learner]), np.std(accuracies[learner]), np.mean(sparsities[learner]), np.std(sparsities[learner]))"
   ]
  },
  {
   "cell_type": "code",
   "execution_count": null,
   "id": "f454da46-b122-4432-a5cb-c5c059ab501b",
   "metadata": {},
   "outputs": [],
   "source": [
    "import json\n",
    "\n",
    "with open('adult.txt', 'w') as file:\n",
    "    file.write(json.dumps(rule_learners))"
   ]
  }
 ],
 "metadata": {
  "kernelspec": {
   "display_name": "Python 3",
   "language": "python",
   "name": "python3"
  },
  "language_info": {
   "codemirror_mode": {
    "name": "ipython",
    "version": 3
   },
   "file_extension": ".py",
   "mimetype": "text/x-python",
   "name": "python",
   "nbconvert_exporter": "python",
   "pygments_lexer": "ipython3",
   "version": "3.6.9"
  }
 },
 "nbformat": 4,
 "nbformat_minor": 5
}
