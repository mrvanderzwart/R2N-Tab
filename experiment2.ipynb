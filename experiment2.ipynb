{
 "cells": [
  {
   "cell_type": "markdown",
   "id": "319a49e4-e54c-436a-bc9b-ee7454874349",
   "metadata": {},
   "source": [
    "## Validating the feature filter component"
   ]
  },
  {
   "cell_type": "code",
   "execution_count": 1,
   "id": "90a9bc40-6b02-4e67-bd67-7a5db2c5ce17",
   "metadata": {},
   "outputs": [],
   "source": [
    "import torch\n",
    "import numpy as np\n",
    "\n",
    "from datasets.dataset import transform_dataset, kfold_dataset\n",
    "from R2Ntab import train as train, R2Ntab\n",
    "import matplotlib.pyplot as plt"
   ]
  },
  {
   "cell_type": "code",
   "execution_count": 2,
   "id": "98250056-f36f-4533-9cbc-a1736dd7df65",
   "metadata": {},
   "outputs": [],
   "source": [
    "# Read datasets\n",
    "dummy_features = 30\n",
    "name = 'adult'\n",
    "X, Y, X_headers, Y_headers = transform_dataset(name, method='onehot-compare', negations=False, labels='binary', dummy_features=dummy_features)\n",
    "datasets = kfold_dataset(X, Y, shuffle=1)\n",
    "X_train, X_test, Y_train, Y_test = datasets[0]\n",
    "train_set = torch.utils.data.TensorDataset(torch.Tensor(X_train.to_numpy()), torch.Tensor(Y_train))\n",
    "test_set = torch.utils.data.TensorDataset(torch.Tensor(X_test.to_numpy()), torch.Tensor(Y_test))"
   ]
  },
  {
   "cell_type": "code",
   "execution_count": 5,
   "id": "b4e02f27-0b5e-4cf2-a2a7-6bbea589ebc9",
   "metadata": {
    "tags": []
   },
   "outputs": [
    {
     "name": "stderr",
     "output_type": "stream",
     "text": [
      "Epoch: 100%|██████████| 1000/1000 [27:37<00:00,  1.66s/it, rules cancelled=208, loss=0.811, epoch accu=0.814, test accu=0.826, num rules=6, sparsity=0.948]\n"
     ]
    }
   ],
   "source": [
    "# Train R2N-tab\n",
    "# Default learning rate (1e-2), and_lam (1e-2), and and_lam (1e-5) usually work the best. A large epochs number is necessary for a sparse rule set i.e 10000 epochs.\n",
    "#index = X_train.shape[1]-dummy_features\n",
    "dummy_index = next(i for i, header in enumerate(X_headers) if 'dummy' in header)\n",
    "net = R2Ntab(train_set[:][0].size(1), 50, 1)\n",
    "dummies = train(net, train_set, test_set=test_set, device='cpu', lr_cancel=1e-2, lr_rules=1e-2, epochs=1000, \n",
    "          batch_size=400, and_lam=1e-2, cancel_lam=1, or_lam=1e-5, num_alter=500, dummy_index=dummy_index)"
   ]
  },
  {
   "cell_type": "code",
   "execution_count": 6,
   "id": "b12041d9-fecc-4d44-83fd-ddd3ae0eed48",
   "metadata": {
    "tags": []
   },
   "outputs": [
    {
     "name": "stdout",
     "output_type": "stream",
     "text": [
      "[['NOT fnlwgt<=219893.69999999998', 'NOT education_num<=10.0', 'NOT education_num<=13.0', 'relationship==Not-in-family', 'race==Amer-Indian-Eskimo'], ['NOT age<=26.0', 'NOT education==Assoc-acdm', 'NOT education_num<=9.0', 'NOT education_num<=10.0', 'NOT marital-status==Divorced', 'NOT marital-status==Never-married', 'NOT marital-status==Separated', 'NOT occupation==Adm-clerical', 'NOT occupation==Craft-repair', 'NOT occupation==Farming-fishing', 'NOT occupation==Handlers-cleaners', 'NOT occupation==Machine-op-inspct', 'NOT occupation==Other-service', 'NOT occupation==Transport-moving', 'NOT relationship==Not-in-family', 'NOT relationship==Other-relative', 'NOT relationship==Own-child', 'NOT relationship==Unmarried', 'NOT race==Other', 'NOT hours-per-week<=25.0', 'NOT native-country==Columbia', 'NOT native-country==Dominican-Republic', 'NOT native-country==Jamaica', 'NOT native-country==Poland', 'NOT native-country==South'], ['NOT age<=30.0', 'NOT age<=37.0', 'NOT education_num<=13.0', 'NOT marital-status==Divorced', 'NOT marital-status==Never-married', 'NOT occupation==Handlers-cleaners', 'NOT occupation==Machine-op-inspct', 'NOT occupation==Other-service', 'NOT occupation==Transport-moving', 'NOT relationship==Not-in-family', 'NOT relationship==Own-child', 'NOT relationship==Unmarried', 'NOT native-country==South'], ['NOT age<=30.0', 'NOT age<=33.0', 'NOT workclass==Self-emp-not-inc', 'NOT education_num<=9.0', 'NOT education_num<=10.0', 'education_num<=13.0', 'NOT marital-status==Divorced', 'NOT marital-status==Never-married', 'NOT occupation==Machine-op-inspct', 'NOT occupation==Other-service', 'NOT relationship==Not-in-family', 'NOT relationship==Own-child', 'NOT relationship==Unmarried', 'NOT hours-per-week<=25.0', 'NOT native-country==Puerto-Rico', 'NOT dummy6<=4.0'], ['NOT age<=30.0', 'NOT age<=33.0', 'age<=37.0', 'NOT education_num<=10.0', 'NOT education_num<=13.0', 'NOT marital-status==Divorced', 'NOT marital-status==Never-married', 'NOT occupation==Machine-op-inspct', 'NOT relationship==Not-in-family', 'NOT hours-per-week<=40.0', 'NOT hours-per-week<=42.0'], ['NOT age<=30.0', 'NOT age<=37.0', 'NOT workclass==Self-emp-not-inc', 'NOT fnlwgt<=65755.30000000005', 'NOT education==12th', 'NOT education==7th-8th', 'NOT education==HS-grad', 'NOT education_num<=10.0', 'education_num<=13.0', 'NOT marital-status==Divorced', 'NOT marital-status==Never-married', 'NOT relationship==Unmarried', 'NOT race==Amer-Indian-Eskimo', 'NOT hours-per-week<=40.0', 'NOT hours-per-week<=42.0', 'NOT dummy6<=4.0', 'NOT dummy29<=3.0']]\n"
     ]
    }
   ],
   "source": [
    "rules = net.get_rules(X_headers)\n",
    "print(rules)"
   ]
  },
  {
   "cell_type": "code",
   "execution_count": 21,
   "id": "cc7de349-8f4c-4582-acf9-70200c895814",
   "metadata": {},
   "outputs": [
    {
     "data": {
      "image/png": "[encoded data removed]",
      "text/plain": [
       "<Figure size 432x288 with 1 Axes>"
      ]
     },
     "metadata": {
      "needs_background": "light"
     },
     "output_type": "display_data"
    }
   ],
   "source": [
    "n_dummies = X_train.shape[1]-dummy_index\n",
    "line1 = plt.plot(dummies)\n",
    "line2 = plt.axhline(y=n_dummies, color='r', linestyle='dashed', label='total dummies')    \n",
    "plt.title(f\"Feature removal over time on the {name} dataset\")\n",
    "plt.ylabel(\"# Uninformative features removed\")\n",
    "plt.xlabel(\"Epoch\")\n",
    "plt.legend(handles=[line2])\n",
    "plt.savefig('dummyfeatures.png')\n",
    "plt.show()"
   ]
  }
 ],
 "metadata": {
  "kernelspec": {
   "display_name": "Python 3",
   "language": "python",
   "name": "python3"
  },
  "language_info": {
   "codemirror_mode": {
    "name": "ipython",
    "version": 3
   },
   "file_extension": ".py",
   "mimetype": "text/x-python",
   "name": "python",
   "nbconvert_exporter": "python",
   "pygments_lexer": "ipython3",
   "version": "3.6.9"
  }
 },
 "nbformat": 4,
 "nbformat_minor": 5
}
