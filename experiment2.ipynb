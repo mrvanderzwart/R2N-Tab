{
 "cells": [
  {
   "cell_type": "markdown",
   "id": "319a49e4-e54c-436a-bc9b-ee7454874349",
   "metadata": {},
   "source": [
    "## Validating the feature filter component"
   ]
  },
  {
   "cell_type": "code",
   "execution_count": 1,
   "id": "90a9bc40-6b02-4e67-bd67-7a5db2c5ce17",
   "metadata": {},
   "outputs": [],
   "source": [
    "import torch\n",
    "import numpy as np\n",
    "\n",
    "from datasets.dataset import transform_dataset, kfold_dataset\n",
    "from R2Ntab import train as train, R2Ntab\n",
    "import matplotlib.pyplot as plt"
   ]
  },
  {
   "cell_type": "code",
   "execution_count": 2,
   "id": "98250056-f36f-4533-9cbc-a1736dd7df65",
   "metadata": {},
   "outputs": [],
   "source": [
    "# Read datasets\n",
    "dummy_features = 30\n",
    "name = 'heloc'\n",
    "X, Y, X_headers, Y_headers = transform_dataset(name, method='onehot-compare', negations=False, labels='binary', dummy_features=dummy_features)\n",
    "datasets = kfold_dataset(X, Y, shuffle=1)\n",
    "X_train, X_test, Y_train, Y_test = datasets[0]\n",
    "\n",
    "train_set = torch.utils.data.TensorDataset(torch.Tensor(X_train.to_numpy()), torch.Tensor(Y_train))\n",
    "test_set = torch.utils.data.TensorDataset(torch.Tensor(X_test.to_numpy()), torch.Tensor(Y_test))"
   ]
  },
  {
   "cell_type": "code",
   "execution_count": 3,
   "id": "b4e02f27-0b5e-4cf2-a2a7-6bbea589ebc9",
   "metadata": {},
   "outputs": [
    {
     "name": "stderr",
     "output_type": "stream",
     "text": [
      "Epoch: 100%|██████████| 1000/1000 [11:29<00:00,  1.45it/s, loss=0.629, epoch accu=0.639, test accu=0.728, num rules=18, sparsity=0.987]\n"
     ]
    }
   ],
   "source": [
    "# Train R2N-tab\n",
    "# Default learning rate (1e-2), and_lam (1e-2), and and_lam (1e-5) usually work the best. A large epochs number is necessary for a sparse rule set i.e 10000 epochs.\n",
    "index = X_train.shape[1]-dummy_features\n",
    "net = R2Ntab(train_set[:][0].size(1), 50, 1, cancel_rate=0.1)\n",
    "dummies = train(net, train_set, test_set=test_set, device='cpu', lr_cancel=5e-3, lr_rules=1e-2, epochs=1000, batch_size=400,\n",
    "      and_lam=1e-2, or_lam=1e-5, num_alter=500, dummy_index=index)"
   ]
  },
  {
   "cell_type": "code",
   "execution_count": 7,
   "id": "cc7de349-8f4c-4582-acf9-70200c895814",
   "metadata": {},
   "outputs": [
    {
     "data": {
      "image/png": "[encoded data removed]",
      "text/plain": [
       "<Figure size 432x288 with 1 Axes>"
      ]
     },
     "metadata": {
      "needs_background": "light"
     },
     "output_type": "display_data"
    }
   ],
   "source": [
    "plt.plot(dummies)\n",
    "plt.title(\"Feature removal over time on the heloc dataset\")\n",
    "plt.ylabel(\"# Uninformative features removed\")\n",
    "plt.xlabel(\"Epoch\")\n",
    "plt.show()"
   ]
  }
 ],
 "metadata": {
  "kernelspec": {
   "display_name": "Python 3",
   "language": "python",
   "name": "python3"
  },
  "language_info": {
   "codemirror_mode": {
    "name": "ipython",
    "version": 3
   },
   "file_extension": ".py",
   "mimetype": "text/x-python",
   "name": "python",
   "nbconvert_exporter": "python",
   "pygments_lexer": "ipython3",
   "version": "3.6.9"
  }
 },
 "nbformat": 4,
 "nbformat_minor": 5
}
