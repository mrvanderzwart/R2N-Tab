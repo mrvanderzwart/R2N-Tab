{
 "cells": [
  {
   "cell_type": "markdown",
   "id": "877bb358-c1b8-4050-98a5-2bc411a55b80",
   "metadata": {},
   "source": [
    "## Sparsity experiment"
   ]
  },
  {
   "cell_type": "code",
   "execution_count": 1,
   "id": "d47d205b-73e1-4825-842d-3043855527f4",
   "metadata": {},
   "outputs": [],
   "source": [
    "import torch\n",
    "import numpy as np\n",
    "\n",
    "from datasets.dataset import transform_dataset, kfold_dataset\n",
    "from R2Ntab import train as train_r2ntab, R2Ntab\n",
    "from DRNet import train as train_drnet, DRNet\n",
    "\n",
    "import sys\n",
    "\n",
    "import matplotlib.pyplot as plt\n",
    "import numpy as np"
   ]
  },
  {
   "cell_type": "code",
   "execution_count": 2,
   "id": "09655085-1479-4881-bc8d-620534f2d0a5",
   "metadata": {},
   "outputs": [
    {
     "name": "stdout",
     "output_type": "stream",
     "text": [
      "dataset: adult\n",
      "  run: 1\n"
     ]
    },
    {
     "name": "stderr",
     "output_type": "stream",
     "text": [
      "Epoch: 100%|██████████| 1000/1000 [03:34<00:00,  4.66it/s, loss=0.546, epoch acc\n",
      "2023-06-16 16:51:25.307708: I tensorflow/tsl/cuda/cudart_stub.cc:28] Could not find cuda drivers on your machine, GPU will not be used.\n",
      "2023-06-16 16:51:25.808116: I tensorflow/tsl/cuda/cudart_stub.cc:28] Could not find cuda drivers on your machine, GPU will not be used.\n",
      "2023-06-16 16:51:25.812180: I tensorflow/core/platform/cpu_feature_guard.cc:182] This TensorFlow binary is optimized to use available CPU instructions in performance-critical operations.\n",
      "To enable the following instructions: AVX2 FMA, in other operations, rebuild TensorFlow with the appropriate compiler flags.\n",
      "2023-06-16 16:51:27.628002: W tensorflow/compiler/tf2tensorrt/utils/py_utils.cc:38] TF-TRT Warning: Could not find TensorRT\n",
      "Epoch: 100%|██████████| 1000/1000 [04:10<00:00,  3.99it/s, rules cancelled=34, l\n",
      "Epoch: 100%|██████████| 1000/1000 [04:09<00:00,  4.01it/s, rules cancelled=57, l\n",
      "Epoch: 100%|██████████| 1000/1000 [04:10<00:00,  3.99it/s, rules cancelled=105, \n"
     ]
    },
    {
     "name": "stdout",
     "output_type": "stream",
     "text": [
      "  run: 2\n"
     ]
    },
    {
     "name": "stderr",
     "output_type": "stream",
     "text": [
      "Epoch: 100%|██████████| 1000/1000 [03:38<00:00,  4.58it/s, loss=0.553, epoch acc\n",
      "Epoch: 100%|██████████| 1000/1000 [04:10<00:00,  4.00it/s, rules cancelled=44, l\n",
      "Epoch: 100%|██████████| 1000/1000 [04:11<00:00,  3.98it/s, rules cancelled=52, l\n",
      "Epoch: 100%|██████████| 1000/1000 [04:11<00:00,  3.98it/s, rules cancelled=100, \n"
     ]
    },
    {
     "name": "stdout",
     "output_type": "stream",
     "text": [
      "  run: 3\n"
     ]
    },
    {
     "name": "stderr",
     "output_type": "stream",
     "text": [
      "Epoch: 100%|██████████| 1000/1000 [03:35<00:00,  4.64it/s, loss=0.545, epoch acc\n",
      "Epoch: 100%|██████████| 1000/1000 [04:11<00:00,  3.97it/s, rules cancelled=41, l\n",
      "Epoch: 100%|██████████| 1000/1000 [04:11<00:00,  3.97it/s, rules cancelled=58, l\n",
      "Epoch: 100%|██████████| 1000/1000 [04:12<00:00,  3.96it/s, rules cancelled=100, \n"
     ]
    },
    {
     "name": "stdout",
     "output_type": "stream",
     "text": [
      "  run: 4\n"
     ]
    },
    {
     "name": "stderr",
     "output_type": "stream",
     "text": [
      "Epoch: 100%|██████████| 1000/1000 [03:35<00:00,  4.65it/s, loss=0.547, epoch acc\n",
      "Epoch: 100%|██████████| 1000/1000 [04:11<00:00,  3.98it/s, rules cancelled=47, l\n",
      "Epoch: 100%|██████████| 1000/1000 [04:10<00:00,  3.99it/s, rules cancelled=63, l\n",
      "Epoch: 100%|██████████| 1000/1000 [04:12<00:00,  3.96it/s, rules cancelled=102, \n"
     ]
    },
    {
     "name": "stdout",
     "output_type": "stream",
     "text": [
      "  run: 5\n"
     ]
    },
    {
     "name": "stderr",
     "output_type": "stream",
     "text": [
      "Epoch: 100%|██████████| 1000/1000 [03:37<00:00,  4.59it/s, loss=0.554, epoch acc\n",
      "Epoch: 100%|██████████| 1000/1000 [04:11<00:00,  3.97it/s, rules cancelled=45, l\n",
      "Epoch: 100%|██████████| 1000/1000 [04:12<00:00,  3.96it/s, rules cancelled=58, l\n",
      "Epoch: 100%|██████████| 1000/1000 [04:13<00:00,  3.95it/s, rules cancelled=102, \n"
     ]
    },
    {
     "name": "stdout",
     "output_type": "stream",
     "text": [
      "  run: 6\n"
     ]
    },
    {
     "name": "stderr",
     "output_type": "stream",
     "text": [
      "Epoch: 100%|██████████| 1000/1000 [03:35<00:00,  4.65it/s, loss=0.546, epoch acc\n",
      "Epoch: 100%|██████████| 1000/1000 [04:12<00:00,  3.96it/s, rules cancelled=38, l\n",
      "Epoch: 100%|██████████| 1000/1000 [04:12<00:00,  3.97it/s, rules cancelled=60, l\n",
      "Epoch: 100%|██████████| 1000/1000 [04:12<00:00,  3.96it/s, rules cancelled=102, \n"
     ]
    },
    {
     "name": "stdout",
     "output_type": "stream",
     "text": [
      "  run: 7\n"
     ]
    },
    {
     "name": "stderr",
     "output_type": "stream",
     "text": [
      "Epoch: 100%|██████████| 1000/1000 [03:36<00:00,  4.63it/s, loss=0.544, epoch acc\n",
      "Epoch: 100%|██████████| 1000/1000 [04:12<00:00,  3.96it/s, rules cancelled=37, l\n",
      "Epoch: 100%|██████████| 1000/1000 [04:11<00:00,  3.97it/s, rules cancelled=55, l\n",
      "Epoch: 100%|██████████| 1000/1000 [04:12<00:00,  3.97it/s, rules cancelled=99, l\n"
     ]
    },
    {
     "name": "stdout",
     "output_type": "stream",
     "text": [
      "  run: 8\n"
     ]
    },
    {
     "name": "stderr",
     "output_type": "stream",
     "text": [
      "Epoch: 100%|██████████| 1000/1000 [03:35<00:00,  4.63it/s, loss=0.546, epoch acc\n",
      "Epoch: 100%|██████████| 1000/1000 [04:12<00:00,  3.96it/s, rules cancelled=33, l\n",
      "Epoch: 100%|██████████| 1000/1000 [04:13<00:00,  3.95it/s, rules cancelled=61, l\n",
      "Epoch: 100%|██████████| 1000/1000 [04:13<00:00,  3.94it/s, rules cancelled=98, l\n"
     ]
    },
    {
     "name": "stdout",
     "output_type": "stream",
     "text": [
      "  run: 9\n"
     ]
    },
    {
     "name": "stderr",
     "output_type": "stream",
     "text": [
      "Epoch: 100%|██████████| 1000/1000 [03:36<00:00,  4.61it/s, loss=0.547, epoch acc\n",
      "Epoch: 100%|██████████| 1000/1000 [04:14<00:00,  3.93it/s, rules cancelled=50, l\n",
      "Epoch: 100%|██████████| 1000/1000 [04:13<00:00,  3.94it/s, rules cancelled=58, l\n",
      "Epoch: 100%|██████████| 1000/1000 [04:14<00:00,  3.93it/s, rules cancelled=96, l\n"
     ]
    },
    {
     "name": "stdout",
     "output_type": "stream",
     "text": [
      "  run: 10\n"
     ]
    },
    {
     "name": "stderr",
     "output_type": "stream",
     "text": [
      "Epoch: 100%|██████████| 1000/1000 [03:37<00:00,  4.60it/s, loss=0.543, epoch acc\n",
      "Epoch: 100%|██████████| 1000/1000 [04:12<00:00,  3.96it/s, rules cancelled=40, l\n",
      "Epoch: 100%|██████████| 1000/1000 [04:12<00:00,  3.97it/s, rules cancelled=50, l\n",
      "Epoch: 100%|██████████| 1000/1000 [04:12<00:00,  3.96it/s, rules cancelled=100, \n"
     ]
    },
    {
     "name": "stdout",
     "output_type": "stream",
     "text": [
      "dataset: heloc\n",
      "  run: 1\n"
     ]
    },
    {
     "name": "stderr",
     "output_type": "stream",
     "text": [
      "Epoch: 100%|██████████| 1000/1000 [01:16<00:00, 13.07it/s, loss=0.63, epoch accu\n",
      "Epoch: 100%|██████████| 1000/1000 [01:30<00:00, 11.07it/s, rules cancelled=30, l\n",
      "Epoch: 100%|██████████| 1000/1000 [01:30<00:00, 11.02it/s, rules cancelled=32, l\n",
      "Epoch: 100%|██████████| 1000/1000 [01:30<00:00, 11.05it/s, rules cancelled=32, l\n"
     ]
    },
    {
     "name": "stdout",
     "output_type": "stream",
     "text": [
      "  run: 2\n"
     ]
    },
    {
     "name": "stderr",
     "output_type": "stream",
     "text": [
      "Epoch: 100%|██████████| 1000/1000 [01:16<00:00, 13.05it/s, loss=0.631, epoch acc\n",
      "Epoch: 100%|██████████| 1000/1000 [01:31<00:00, 10.95it/s, rules cancelled=31, l\n",
      "Epoch: 100%|██████████| 1000/1000 [01:29<00:00, 11.11it/s, rules cancelled=31, l\n",
      "Epoch: 100%|██████████| 1000/1000 [01:30<00:00, 11.06it/s, rules cancelled=32, l\n"
     ]
    },
    {
     "name": "stdout",
     "output_type": "stream",
     "text": [
      "  run: 3\n"
     ]
    },
    {
     "name": "stderr",
     "output_type": "stream",
     "text": [
      "Epoch: 100%|██████████| 1000/1000 [01:16<00:00, 12.99it/s, loss=0.633, epoch acc\n",
      "Epoch: 100%|██████████| 1000/1000 [01:31<00:00, 10.95it/s, rules cancelled=31, l\n",
      "Epoch: 100%|██████████| 1000/1000 [01:30<00:00, 11.03it/s, rules cancelled=31, l\n",
      "Epoch: 100%|██████████| 1000/1000 [01:30<00:00, 11.05it/s, rules cancelled=34, l\n"
     ]
    },
    {
     "name": "stdout",
     "output_type": "stream",
     "text": [
      "  run: 4\n"
     ]
    },
    {
     "name": "stderr",
     "output_type": "stream",
     "text": [
      "Epoch: 100%|██████████| 1000/1000 [01:16<00:00, 13.01it/s, loss=0.632, epoch acc\n",
      "Epoch: 100%|██████████| 1000/1000 [01:31<00:00, 10.92it/s, rules cancelled=32, l\n",
      "Epoch: 100%|██████████| 1000/1000 [01:31<00:00, 10.88it/s, rules cancelled=30, l\n",
      "Epoch: 100%|██████████| 1000/1000 [01:30<00:00, 11.09it/s, rules cancelled=33, l\n"
     ]
    },
    {
     "name": "stdout",
     "output_type": "stream",
     "text": [
      "  run: 5\n"
     ]
    },
    {
     "name": "stderr",
     "output_type": "stream",
     "text": [
      "Epoch: 100%|██████████| 1000/1000 [01:17<00:00, 12.91it/s, loss=0.647, epoch acc\n",
      "Epoch: 100%|██████████| 1000/1000 [01:30<00:00, 11.09it/s, rules cancelled=33, l\n",
      "Epoch: 100%|██████████| 1000/1000 [01:31<00:00, 10.97it/s, rules cancelled=30, l\n",
      "Epoch: 100%|██████████| 1000/1000 [01:30<00:00, 11.07it/s, rules cancelled=35, l\n"
     ]
    },
    {
     "name": "stdout",
     "output_type": "stream",
     "text": [
      "  run: 6\n"
     ]
    },
    {
     "name": "stderr",
     "output_type": "stream",
     "text": [
      "Epoch: 100%|██████████| 1000/1000 [01:17<00:00, 12.91it/s, loss=0.619, epoch acc\n",
      "Epoch: 100%|██████████| 1000/1000 [01:31<00:00, 10.87it/s, rules cancelled=30, l\n",
      "Epoch: 100%|██████████| 1000/1000 [01:30<00:00, 10.99it/s, rules cancelled=30, l\n",
      "Epoch: 100%|██████████| 1000/1000 [01:31<00:00, 10.95it/s, rules cancelled=33, l\n"
     ]
    },
    {
     "name": "stdout",
     "output_type": "stream",
     "text": [
      "  run: 7\n"
     ]
    },
    {
     "name": "stderr",
     "output_type": "stream",
     "text": [
      "Epoch: 100%|██████████| 1000/1000 [01:17<00:00, 12.84it/s, loss=0.624, epoch acc\n",
      "Epoch: 100%|██████████| 1000/1000 [01:31<00:00, 10.93it/s, rules cancelled=30, l\n",
      "Epoch: 100%|██████████| 1000/1000 [01:31<00:00, 10.88it/s, rules cancelled=30, l\n",
      "Epoch: 100%|██████████| 1000/1000 [01:32<00:00, 10.84it/s, rules cancelled=32, l\n"
     ]
    },
    {
     "name": "stdout",
     "output_type": "stream",
     "text": [
      "  run: 8\n"
     ]
    },
    {
     "name": "stderr",
     "output_type": "stream",
     "text": [
      "Epoch: 100%|██████████| 1000/1000 [01:17<00:00, 12.88it/s, loss=0.629, epoch acc\n",
      "Epoch: 100%|██████████| 1000/1000 [01:30<00:00, 11.03it/s, rules cancelled=33, l\n",
      "Epoch: 100%|██████████| 1000/1000 [01:31<00:00, 10.89it/s, rules cancelled=32, l\n",
      "Epoch: 100%|██████████| 1000/1000 [01:31<00:00, 10.94it/s, rules cancelled=34, l\n"
     ]
    },
    {
     "name": "stdout",
     "output_type": "stream",
     "text": [
      "  run: 9\n"
     ]
    },
    {
     "name": "stderr",
     "output_type": "stream",
     "text": [
      "Epoch: 100%|██████████| 1000/1000 [01:17<00:00, 12.87it/s, loss=0.629, epoch acc\n",
      "Epoch: 100%|██████████| 1000/1000 [01:31<00:00, 10.98it/s, rules cancelled=30, l\n",
      "Epoch: 100%|██████████| 1000/1000 [01:30<00:00, 11.08it/s, rules cancelled=29, l\n",
      "Epoch: 100%|██████████| 1000/1000 [01:31<00:00, 10.95it/s, rules cancelled=33, l\n"
     ]
    },
    {
     "name": "stdout",
     "output_type": "stream",
     "text": [
      "  run: 10\n"
     ]
    },
    {
     "name": "stderr",
     "output_type": "stream",
     "text": [
      "Epoch: 100%|██████████| 1000/1000 [01:17<00:00, 12.82it/s, loss=0.624, epoch acc\n",
      "Epoch: 100%|██████████| 1000/1000 [01:31<00:00, 10.87it/s, rules cancelled=29, l\n",
      "Epoch: 100%|██████████| 1000/1000 [01:31<00:00, 10.89it/s, rules cancelled=30, l\n",
      "Epoch: 100%|██████████| 1000/1000 [01:31<00:00, 10.92it/s, rules cancelled=33, l\n"
     ]
    },
    {
     "name": "stdout",
     "output_type": "stream",
     "text": [
      "dataset: house\n",
      "  run: 1\n"
     ]
    },
    {
     "name": "stderr",
     "output_type": "stream",
     "text": [
      "Epoch: 100%|██████████| 1000/1000 [02:46<00:00,  6.01it/s, loss=0.35, epoch accu\n",
      "Epoch: 100%|██████████| 1000/1000 [03:16<00:00,  5.10it/s, rules cancelled=48, l\n",
      "Epoch: 100%|██████████| 1000/1000 [03:16<00:00,  5.08it/s, rules cancelled=49, l\n",
      "Epoch: 100%|██████████| 1000/1000 [03:14<00:00,  5.15it/s, rules cancelled=53, l\n"
     ]
    },
    {
     "name": "stdout",
     "output_type": "stream",
     "text": [
      "  run: 2\n"
     ]
    },
    {
     "name": "stderr",
     "output_type": "stream",
     "text": [
      "Epoch: 100%|██████████| 1000/1000 [02:47<00:00,  5.97it/s, loss=0.352, epoch acc\n",
      "Epoch: 100%|██████████| 1000/1000 [03:15<00:00,  5.11it/s, rules cancelled=48, l\n",
      "Epoch: 100%|██████████| 1000/1000 [03:15<00:00,  5.11it/s, rules cancelled=45, l\n",
      "Epoch: 100%|██████████| 1000/1000 [03:13<00:00,  5.16it/s, rules cancelled=54, l\n"
     ]
    },
    {
     "name": "stdout",
     "output_type": "stream",
     "text": [
      "  run: 3\n"
     ]
    },
    {
     "name": "stderr",
     "output_type": "stream",
     "text": [
      "Epoch: 100%|██████████| 1000/1000 [02:46<00:00,  6.00it/s, loss=0.358, epoch acc\n",
      "Epoch: 100%|██████████| 1000/1000 [03:14<00:00,  5.14it/s, rules cancelled=52, l\n",
      "Epoch: 100%|██████████| 1000/1000 [03:16<00:00,  5.08it/s, rules cancelled=45, l\n",
      "Epoch: 100%|██████████| 1000/1000 [03:16<00:00,  5.08it/s, rules cancelled=53, l\n"
     ]
    },
    {
     "name": "stdout",
     "output_type": "stream",
     "text": [
      "  run: 4\n"
     ]
    },
    {
     "name": "stderr",
     "output_type": "stream",
     "text": [
      "Epoch: 100%|██████████| 1000/1000 [02:46<00:00,  6.00it/s, loss=0.346, epoch acc\n",
      "Epoch: 100%|██████████| 1000/1000 [03:16<00:00,  5.08it/s, rules cancelled=47, l\n",
      "Epoch: 100%|██████████| 1000/1000 [03:16<00:00,  5.10it/s, rules cancelled=45, l\n",
      "Epoch: 100%|██████████| 1000/1000 [03:14<00:00,  5.13it/s, rules cancelled=57, l\n"
     ]
    },
    {
     "name": "stdout",
     "output_type": "stream",
     "text": [
      "  run: 5\n"
     ]
    },
    {
     "name": "stderr",
     "output_type": "stream",
     "text": [
      "Epoch: 100%|██████████| 1000/1000 [02:48<00:00,  5.95it/s, loss=0.355, epoch acc\n",
      "Epoch: 100%|██████████| 1000/1000 [03:14<00:00,  5.14it/s, rules cancelled=43, l\n",
      "Epoch: 100%|██████████| 1000/1000 [03:14<00:00,  5.14it/s, rules cancelled=50, l\n",
      "Epoch: 100%|██████████| 1000/1000 [03:15<00:00,  5.12it/s, rules cancelled=48, l\n"
     ]
    },
    {
     "name": "stdout",
     "output_type": "stream",
     "text": [
      "  run: 6\n"
     ]
    },
    {
     "name": "stderr",
     "output_type": "stream",
     "text": [
      "Epoch: 100%|██████████| 1000/1000 [02:46<00:00,  5.99it/s, loss=0.349, epoch acc\n",
      "Epoch: 100%|██████████| 1000/1000 [03:15<00:00,  5.12it/s, rules cancelled=47, l\n",
      "Epoch: 100%|██████████| 1000/1000 [03:14<00:00,  5.14it/s, rules cancelled=49, l\n",
      "Epoch: 100%|██████████| 1000/1000 [03:15<00:00,  5.11it/s, rules cancelled=51, l\n"
     ]
    },
    {
     "name": "stdout",
     "output_type": "stream",
     "text": [
      "  run: 7\n"
     ]
    },
    {
     "name": "stderr",
     "output_type": "stream",
     "text": [
      "Epoch: 100%|██████████| 1000/1000 [02:45<00:00,  6.05it/s, loss=0.348, epoch acc\n",
      "Epoch: 100%|██████████| 1000/1000 [03:15<00:00,  5.11it/s, rules cancelled=45, l\n",
      "Epoch: 100%|██████████| 1000/1000 [03:14<00:00,  5.14it/s, rules cancelled=47, l\n",
      "Epoch: 100%|██████████| 1000/1000 [03:13<00:00,  5.17it/s, rules cancelled=51, l\n"
     ]
    },
    {
     "name": "stdout",
     "output_type": "stream",
     "text": [
      "  run: 8\n"
     ]
    },
    {
     "name": "stderr",
     "output_type": "stream",
     "text": [
      "Epoch: 100%|██████████| 1000/1000 [02:47<00:00,  5.98it/s, loss=0.348, epoch acc\n",
      "Epoch: 100%|██████████| 1000/1000 [03:16<00:00,  5.10it/s, rules cancelled=46, l\n",
      "Epoch: 100%|██████████| 1000/1000 [03:16<00:00,  5.08it/s, rules cancelled=46, l\n",
      "Epoch: 100%|██████████| 1000/1000 [03:14<00:00,  5.13it/s, rules cancelled=55, l\n"
     ]
    },
    {
     "name": "stdout",
     "output_type": "stream",
     "text": [
      "  run: 9\n"
     ]
    },
    {
     "name": "stderr",
     "output_type": "stream",
     "text": [
      "Epoch: 100%|██████████| 1000/1000 [02:46<00:00,  6.00it/s, loss=0.346, epoch acc\n",
      "Epoch: 100%|██████████| 1000/1000 [03:15<00:00,  5.11it/s, rules cancelled=45, l\n",
      "Epoch: 100%|██████████| 1000/1000 [03:15<00:00,  5.11it/s, rules cancelled=46, l\n",
      "Epoch: 100%|██████████| 1000/1000 [03:14<00:00,  5.14it/s, rules cancelled=54, l\n"
     ]
    },
    {
     "name": "stdout",
     "output_type": "stream",
     "text": [
      "  run: 10\n"
     ]
    },
    {
     "name": "stderr",
     "output_type": "stream",
     "text": [
      "Epoch: 100%|██████████| 1000/1000 [02:47<00:00,  5.98it/s, loss=0.351, epoch acc\n",
      "Epoch: 100%|██████████| 1000/1000 [03:14<00:00,  5.14it/s, rules cancelled=46, l\n",
      "Epoch: 100%|██████████| 1000/1000 [03:15<00:00,  5.11it/s, rules cancelled=52, l\n",
      "Epoch: 100%|██████████| 1000/1000 [03:14<00:00,  5.14it/s, rules cancelled=54, l\n"
     ]
    },
    {
     "name": "stdout",
     "output_type": "stream",
     "text": [
      "dataset: magic\n",
      "  run: 1\n"
     ]
    },
    {
     "name": "stderr",
     "output_type": "stream",
     "text": [
      "Epoch: 100%|██████████| 1000/1000 [02:15<00:00,  7.38it/s, loss=0.497, epoch acc\n",
      "Epoch: 100%|██████████| 1000/1000 [02:34<00:00,  6.46it/s, rules cancelled=20, l\n",
      "Epoch: 100%|██████████| 1000/1000 [02:34<00:00,  6.48it/s, rules cancelled=19, l\n",
      "Epoch: 100%|██████████| 1000/1000 [02:34<00:00,  6.48it/s, rules cancelled=28, l\n"
     ]
    },
    {
     "name": "stdout",
     "output_type": "stream",
     "text": [
      "  run: 2\n"
     ]
    },
    {
     "name": "stderr",
     "output_type": "stream",
     "text": [
      "Epoch: 100%|██████████| 1000/1000 [02:15<00:00,  7.38it/s, loss=0.49, epoch accu\n",
      "Epoch: 100%|██████████| 1000/1000 [02:34<00:00,  6.45it/s, rules cancelled=16, l\n",
      "Epoch: 100%|██████████| 1000/1000 [02:34<00:00,  6.46it/s, rules cancelled=18, l\n",
      "Epoch: 100%|██████████| 1000/1000 [02:34<00:00,  6.45it/s, rules cancelled=30, l\n"
     ]
    },
    {
     "name": "stdout",
     "output_type": "stream",
     "text": [
      "  run: 3\n"
     ]
    },
    {
     "name": "stderr",
     "output_type": "stream",
     "text": [
      "Epoch: 100%|██████████| 1000/1000 [02:15<00:00,  7.40it/s, loss=0.492, epoch acc\n",
      "Epoch: 100%|██████████| 1000/1000 [02:34<00:00,  6.46it/s, rules cancelled=23, l\n",
      "Epoch: 100%|██████████| 1000/1000 [02:35<00:00,  6.43it/s, rules cancelled=20, l\n",
      "Epoch: 100%|██████████| 1000/1000 [02:34<00:00,  6.45it/s, rules cancelled=25, l\n"
     ]
    },
    {
     "name": "stdout",
     "output_type": "stream",
     "text": [
      "  run: 4\n"
     ]
    },
    {
     "name": "stderr",
     "output_type": "stream",
     "text": [
      "Epoch: 100%|██████████| 1000/1000 [02:15<00:00,  7.40it/s, loss=0.492, epoch acc\n",
      "Epoch: 100%|██████████| 1000/1000 [02:36<00:00,  6.41it/s, rules cancelled=21, l\n",
      "Epoch: 100%|██████████| 1000/1000 [02:36<00:00,  6.41it/s, rules cancelled=25, l\n",
      "Epoch: 100%|██████████| 1000/1000 [02:35<00:00,  6.41it/s, rules cancelled=27, l\n"
     ]
    },
    {
     "name": "stdout",
     "output_type": "stream",
     "text": [
      "  run: 5\n"
     ]
    },
    {
     "name": "stderr",
     "output_type": "stream",
     "text": [
      "Epoch: 100%|██████████| 1000/1000 [02:16<00:00,  7.34it/s, loss=0.495, epoch acc\n",
      "Epoch: 100%|██████████| 1000/1000 [02:35<00:00,  6.45it/s, rules cancelled=19, l\n",
      "Epoch: 100%|██████████| 1000/1000 [02:35<00:00,  6.43it/s, rules cancelled=22, l\n",
      "Epoch: 100%|██████████| 1000/1000 [02:36<00:00,  6.41it/s, rules cancelled=28, l\n"
     ]
    },
    {
     "name": "stdout",
     "output_type": "stream",
     "text": [
      "  run: 6\n"
     ]
    },
    {
     "name": "stderr",
     "output_type": "stream",
     "text": [
      "Epoch: 100%|██████████| 1000/1000 [02:16<00:00,  7.31it/s, loss=0.495, epoch acc\n",
      "Epoch: 100%|██████████| 1000/1000 [02:34<00:00,  6.45it/s, rules cancelled=21, l\n",
      "Epoch: 100%|██████████| 1000/1000 [02:35<00:00,  6.42it/s, rules cancelled=17, l\n",
      "Epoch: 100%|██████████| 1000/1000 [02:36<00:00,  6.38it/s, rules cancelled=27, l\n"
     ]
    },
    {
     "name": "stdout",
     "output_type": "stream",
     "text": [
      "  run: 7\n"
     ]
    },
    {
     "name": "stderr",
     "output_type": "stream",
     "text": [
      "Epoch: 100%|██████████| 1000/1000 [02:16<00:00,  7.30it/s, loss=0.496, epoch acc\n",
      "Epoch: 100%|██████████| 1000/1000 [02:36<00:00,  6.40it/s, rules cancelled=16, l\n",
      "Epoch: 100%|██████████| 1000/1000 [02:35<00:00,  6.42it/s, rules cancelled=21, l\n",
      "Epoch: 100%|██████████| 1000/1000 [02:36<00:00,  6.39it/s, rules cancelled=31, l\n"
     ]
    },
    {
     "name": "stdout",
     "output_type": "stream",
     "text": [
      "  run: 8\n"
     ]
    },
    {
     "name": "stderr",
     "output_type": "stream",
     "text": [
      "Epoch: 100%|██████████| 1000/1000 [02:16<00:00,  7.31it/s, loss=0.492, epoch acc\n",
      "Epoch: 100%|██████████| 1000/1000 [02:36<00:00,  6.39it/s, rules cancelled=19, l\n",
      "Epoch: 100%|██████████| 1000/1000 [02:36<00:00,  6.37it/s, rules cancelled=19, l\n",
      "Epoch: 100%|██████████| 1000/1000 [02:37<00:00,  6.35it/s, rules cancelled=31, l\n"
     ]
    },
    {
     "name": "stdout",
     "output_type": "stream",
     "text": [
      "  run: 9\n"
     ]
    },
    {
     "name": "stderr",
     "output_type": "stream",
     "text": [
      "Epoch: 100%|██████████| 1000/1000 [02:16<00:00,  7.35it/s, loss=0.494, epoch acc\n",
      "Epoch: 100%|██████████| 1000/1000 [02:36<00:00,  6.40it/s, rules cancelled=21, l\n",
      "Epoch: 100%|██████████| 1000/1000 [02:36<00:00,  6.39it/s, rules cancelled=19, l\n",
      "Epoch: 100%|██████████| 1000/1000 [02:36<00:00,  6.38it/s, rules cancelled=27, l\n"
     ]
    },
    {
     "name": "stdout",
     "output_type": "stream",
     "text": [
      "  run: 10\n"
     ]
    },
    {
     "name": "stderr",
     "output_type": "stream",
     "text": [
      "Epoch: 100%|██████████| 1000/1000 [02:17<00:00,  7.26it/s, loss=0.491, epoch acc\n",
      "Epoch: 100%|██████████| 1000/1000 [02:37<00:00,  6.36it/s, rules cancelled=19, l\n",
      "Epoch: 100%|██████████| 1000/1000 [02:37<00:00,  6.33it/s, rules cancelled=19, l\n",
      "Epoch: 100%|██████████| 1000/1000 [02:37<00:00,  6.34it/s, rules cancelled=25, l\n"
     ]
    }
   ],
   "source": [
    "DRNetAccusOverTime = []\n",
    "DRNetRuleConditions = []\n",
    "R2NTab1AccusOverTime = []\n",
    "R2NTab1RuleConditions = []\n",
    "R2NTab2AccusOverTime = []\n",
    "R2NTab2RuleConditions = []\n",
    "R2NTab3AccusOverTime = []\n",
    "R2NTab3RuleConditions = []\n",
    "runs = 10\n",
    "# Read datasets\n",
    "for name in ['adult', 'heloc', 'house', 'magic']:\n",
    "    print('dataset:', name)\n",
    "    DRNetAccusRun = []\n",
    "    DRNetConditionsRun = []\n",
    "    R2NTab1AccusRun = []\n",
    "    R2NTab1ConditionsRun = []\n",
    "    R2NTab2AccusRun = []\n",
    "    R2NTab2ConditionsRun = []\n",
    "    R2NTab3AccusRun = []\n",
    "    R2NTab3ConditionsRun = []\n",
    "    for run in range(runs):\n",
    "        print('  run:', run+1)\n",
    "        X, Y, X_headers, Y_headers = transform_dataset(name, method='onehot-compare', negations=False, labels='binary')\n",
    "        datasets = kfold_dataset(X, Y, shuffle=1)\n",
    "        X_train, X_test, Y_train, Y_test = datasets[0]\n",
    "        train_set = torch.utils.data.TensorDataset(torch.Tensor(X_train.to_numpy()), torch.Tensor(Y_train))\n",
    "        test_set = torch.utils.data.TensorDataset(torch.Tensor(X_test.to_numpy()), torch.Tensor(Y_test))\n",
    "        \n",
    "        # DRNet\n",
    "        net = DRNet(train_set[:][0].size(1), 50, 1)\n",
    "        acc = train_drnet(net, train_set, test_set=test_set, device='cpu', lr_rules=1e-2, epochs=1000, batch_size=400,\n",
    "                    and_lam=1e-2, or_lam=1e-5, num_alter=500)\n",
    "        DRNetAccusRun.append(acc)\n",
    "        \n",
    "        rule_set = net.get_rules(X_headers)\n",
    "        DRNetConditionsRun.append(sum(map(len, rule_set)))\n",
    "\n",
    "        # R2NTab 1e-5\n",
    "        net = R2Ntab(train_set[:][0].size(1), 50, 1)\n",
    "        acc = train_r2ntab(net, train_set, test_set=test_set, device='cpu', lr_cancel=5e-3, lr_rules=1e-2, epochs=1000, batch_size=400,\n",
    "                     and_lam=1e-2, or_lam=1e-5, cancel_lam=1e-5, num_alter=500, track_performance=True)\n",
    "        R2NTab1AccusRun.append(acc)\n",
    "        \n",
    "        rule_set = net.get_rules(X_headers)\n",
    "        R2NTab1ConditionsRun.append(sum(map(len, rule_set)))\n",
    "\n",
    "        # R2NTab 1e-4\n",
    "        net = R2Ntab(train_set[:][0].size(1), 50, 1)\n",
    "        acc = train_r2ntab(net, train_set, test_set=test_set, device='cpu', lr_cancel=5e-3, lr_rules=1e-2, epochs=1000, batch_size=400,\n",
    "                     and_lam=1e-2, or_lam=1e-5, cancel_lam=1e-4, num_alter=500, track_performance=True)\n",
    "        R2NTab2AccusRun.append(acc)\n",
    "        \n",
    "        rule_set = net.get_rules(X_headers)\n",
    "        R2NTab2ConditionsRun.append(sum(map(len, rule_set)))\n",
    "\n",
    "        # R2NTab 1e-3\n",
    "        net = R2Ntab(train_set[:][0].size(1), 50, 1)\n",
    "        acc = train_r2ntab(net, train_set, test_set=test_set, device='cpu', lr_cancel=5e-3, lr_rules=1e-2, epochs=1000, batch_size=400,\n",
    "                     and_lam=1e-2, or_lam=1e-5, cancel_lam=1e-3, num_alter=500, track_performance=True)\n",
    "        R2NTab3AccusRun.append(acc)\n",
    "        \n",
    "        rule_set = net.get_rules(X_headers)\n",
    "        R2NTab3ConditionsRun.append(sum(map(len, rule_set)))\n",
    "\n",
    "    DRNetAccusRun = np.array(DRNetAccusRun)\n",
    "    DRNetAccusOverTime.append( np.mean(DRNetAccusRun, axis=0) )\n",
    "\n",
    "    DRNetConditionsRun = np.array(DRNetConditionsRun)\n",
    "    DRNetRuleConditions.append( np.mean(DRNetConditionsRun, axis=0) )\n",
    "\n",
    "    R2NTab1AccusRun = np.array(R2NTab1AccusRun)\n",
    "    R2NTab1AccusOverTime.append( np.mean(R2NTab1AccusRun, axis=0) )\n",
    "\n",
    "    R2NTab1ConditionsRun = np.array(R2NTab1ConditionsRun)\n",
    "    R2NTab1RuleConditions.append( np.mean(R2NTab1ConditionsRun, axis=0) )\n",
    "\n",
    "    R2NTab2AccusRun = np.array(R2NTab2AccusRun)\n",
    "    R2NTab2AccusOverTime.append( np.mean(R2NTab2AccusRun, axis=0) )\n",
    "\n",
    "    R2NTab2ConditionsRun = np.array(R2NTab2ConditionsRun)\n",
    "    R2NTab2RuleConditions.append( np.mean(R2NTab2ConditionsRun, axis=0) )\n",
    "\n",
    "    R2NTab3AccusRun = np.array(R2NTab3AccusRun)\n",
    "    R2NTab3AccusOverTime.append( np.mean(R2NTab3AccusRun, axis=0) )\n",
    "\n",
    "    R2NTab3ConditionsRun = np.array(R2NTab3ConditionsRun)\n",
    "    R2NTab3RuleConditions.append( np.mean(R2NTab3ConditionsRun, axis=0) )"
   ]
  },
  {
   "cell_type": "markdown",
   "id": "3dc08def-fcd4-4685-83ac-ec28e134751b",
   "metadata": {
    "tags": []
   },
   "source": [
    "# Rule set sparsity experiment\n",
    "## DRNet vs R2NTab"
   ]
  },
  {
   "cell_type": "code",
   "execution_count": 9,
   "id": "e7f765d9-2638-4741-8ba6-f86ac19a358d",
   "metadata": {},
   "outputs": [
    {
     "data": {
      "image/png": "[encoded data removed]",
      "text/plain": [
       "<Figure size 432x288 with 1 Axes>"
      ]
     },
     "metadata": {
      "needs_background": "light"
     },
     "output_type": "display_data"
    }
   ],
   "source": [
    "labels = ['adult', 'heloc', 'house', 'magic']\n",
    "legend_labels = ['DRNet', 'R2NTab 1e-5', 'R2NTab 1e-4', 'R2NTab 1e-3']\n",
    "\n",
    "x_positions = np.arange(len(labels))\n",
    "\n",
    "bar_width = 0.2\n",
    "\n",
    "DRNetRuleConditions = np.array(DRNetRuleConditions)\n",
    "R2NTab1RuleConditions = np.array(R2NTab1RuleConditions)\n",
    "R2NTab2RuleConditions = np.array(R2NTab2RuleConditions)\n",
    "R2NTab3RuleConditions = np.array(R2NTab3RuleConditions)\n",
    "\n",
    "data = np.stack((DRNetRuleConditions, R2NTab1RuleConditions, R2NTab2RuleConditions, R2NTab3RuleConditions), axis=1)\n",
    "\n",
    "fig, ax = plt.subplots()\n",
    "for i in range(data.shape[1]):\n",
    "    ax.bar(x_positions + i * bar_width, data[:, i], bar_width, label=legend_labels[i])\n",
    "\n",
    "ax.set_xlabel('Dataset')\n",
    "ax.set_ylabel('# Conditions')\n",
    "ax.set_title('# conditions in rule set per method per dataset for 1000 epochs')\n",
    "\n",
    "ax.set_xticks(x_positions + bar_width / 2)\n",
    "ax.set_xticklabels(labels)\n",
    "\n",
    "ax.legend()\n",
    "\n",
    "plt.savefig('sparsityfinal.png')\n",
    "\n",
    "plt.show()"
   ]
  },
  {
   "cell_type": "markdown",
   "id": "70f79bf3-5e59-496a-950b-90619202a6ea",
   "metadata": {},
   "source": [
    "# Performance per method\n",
    "## DRNet vs R2NTab"
   ]
  },
  {
   "cell_type": "code",
   "execution_count": 4,
   "id": "eec2416f-4be5-4564-87ea-98d9ef35333c",
   "metadata": {},
   "outputs": [
    {
     "data": {
      "image/png": "[encoded data removed]",
      "text/plain": [
       "<Figure size 432x288 with 1 Axes>"
      ]
     },
     "metadata": {
      "needs_background": "light"
     },
     "output_type": "display_data"
    },
    {
     "data": {
      "image/png": "[encoded data removed]",
      "text/plain": [
       "<Figure size 432x288 with 1 Axes>"
      ]
     },
     "metadata": {
      "needs_background": "light"
     },
     "output_type": "display_data"
    },
    {
     "data": {
      "image/png": "[encoded data removed]",
      "text/plain": [
       "<Figure size 432x288 with 1 Axes>"
      ]
     },
     "metadata": {
      "needs_background": "light"
     },
     "output_type": "display_data"
    },
    {
     "data": {
      "image/png": "[encoded data removed]",
      "text/plain": [
       "<Figure size 432x288 with 1 Axes>"
      ]
     },
     "metadata": {
      "needs_background": "light"
     },
     "output_type": "display_data"
    }
   ],
   "source": [
    "for index, dataset in enumerate(labels):\n",
    "    plt.plot(DRNetAccusOverTime[index])\n",
    "    plt.plot(R2NTab1AccusOverTime[index])\n",
    "    plt.plot(R2NTab2AccusOverTime[index])\n",
    "    plt.plot(R2NTab3AccusOverTime[index])\n",
    "    plt.xlabel('Epoch')\n",
    "    plt.ylabel('Test accuracy')\n",
    "    plt.title(f'Accuracy over time on the {dataset} dataset')\n",
    "    plt.legend(['DRNet', 'R2NTab 1e-5', 'R2NTab 1e-4', 'R2NTab 1e-3'])\n",
    "    plt.savefig(f'accuracyfinal-{dataset}.png')\n",
    "    plt.show()"
   ]
  }
 ],
 "metadata": {
  "kernelspec": {
   "display_name": "Python 3 (ipykernel)",
   "language": "python",
   "name": "python3"
  },
  "language_info": {
   "codemirror_mode": {
    "name": "ipython",
    "version": 3
   },
   "file_extension": ".py",
   "mimetype": "text/x-python",
   "name": "python",
   "nbconvert_exporter": "python",
   "pygments_lexer": "ipython3",
   "version": "3.8.10"
  }
 },
 "nbformat": 4,
 "nbformat_minor": 5
}
