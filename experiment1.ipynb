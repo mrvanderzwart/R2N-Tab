{
 "cells": [
  {
   "cell_type": "markdown",
   "id": "877bb358-c1b8-4050-98a5-2bc411a55b80",
   "metadata": {},
   "source": [
    "## Sparsity experiment"
   ]
  },
  {
   "cell_type": "code",
   "execution_count": 1,
   "id": "d47d205b-73e1-4825-842d-3043855527f4",
   "metadata": {},
   "outputs": [],
   "source": [
    "import torch\n",
    "import numpy as np\n",
    "\n",
    "from datasets.dataset import transform_dataset, kfold_dataset\n",
    "from R2Ntab import train as train_r2ntab, R2Ntab\n",
    "from DRNet import train as train_drnet, DRNet\n",
    "\n",
    "import sys\n",
    "\n",
    "import matplotlib.pyplot as plt\n",
    "import numpy as np"
   ]
  },
  {
   "cell_type": "code",
   "execution_count": 2,
   "id": "09655085-1479-4881-bc8d-620534f2d0a5",
   "metadata": {},
   "outputs": [
    {
     "name": "stdout",
     "output_type": "stream",
     "text": [
      "dataset: adult\n",
      "  run: 1\n"
     ]
    },
    {
     "name": "stderr",
     "output_type": "stream",
     "text": [
      "Epoch: 100%|██████████| 1000/1000 [03:36<00:00,  4.63it/s, loss=0.546, epoch acc\n",
      "2023-06-09 01:37:36.303156: I tensorflow/tsl/cuda/cudart_stub.cc:28] Could not find cuda drivers on your machine, GPU will not be used.\n",
      "2023-06-09 01:37:37.058204: I tensorflow/tsl/cuda/cudart_stub.cc:28] Could not find cuda drivers on your machine, GPU will not be used.\n",
      "2023-06-09 01:37:37.062305: I tensorflow/core/platform/cpu_feature_guard.cc:182] This TensorFlow binary is optimized to use available CPU instructions in performance-critical operations.\n",
      "To enable the following instructions: AVX2 FMA, in other operations, rebuild TensorFlow with the appropriate compiler flags.\n",
      "2023-06-09 01:37:38.752579: W tensorflow/compiler/tf2tensorrt/utils/py_utils.cc:38] TF-TRT Warning: Could not find TensorRT\n",
      "Epoch: 100%|██████████| 1000/1000 [04:06<00:00,  4.05it/s, rules cancelled=50, l\n"
     ]
    },
    {
     "name": "stdout",
     "output_type": "stream",
     "text": [
      "  run: 2\n"
     ]
    },
    {
     "name": "stderr",
     "output_type": "stream",
     "text": [
      "Epoch: 100%|██████████| 1000/1000 [03:33<00:00,  4.69it/s, loss=0.551, epoch acc\n",
      "Epoch: 100%|██████████| 1000/1000 [04:08<00:00,  4.03it/s, rules cancelled=55, l\n"
     ]
    },
    {
     "name": "stdout",
     "output_type": "stream",
     "text": [
      "  run: 3\n"
     ]
    },
    {
     "name": "stderr",
     "output_type": "stream",
     "text": [
      "Epoch: 100%|██████████| 1000/1000 [03:33<00:00,  4.68it/s, loss=0.547, epoch acc\n",
      "Epoch: 100%|██████████| 1000/1000 [04:10<00:00,  3.99it/s, rules cancelled=50, l\n"
     ]
    },
    {
     "name": "stdout",
     "output_type": "stream",
     "text": [
      "  run: 4\n"
     ]
    },
    {
     "name": "stderr",
     "output_type": "stream",
     "text": [
      "Epoch: 100%|██████████| 1000/1000 [03:32<00:00,  4.72it/s, loss=0.546, epoch acc\n",
      "Epoch: 100%|██████████| 1000/1000 [04:09<00:00,  4.01it/s, rules cancelled=60, l\n"
     ]
    },
    {
     "name": "stdout",
     "output_type": "stream",
     "text": [
      "  run: 5\n"
     ]
    },
    {
     "name": "stderr",
     "output_type": "stream",
     "text": [
      "Epoch: 100%|██████████| 1000/1000 [03:32<00:00,  4.70it/s, loss=0.543, epoch acc\n",
      "Epoch: 100%|██████████| 1000/1000 [04:09<00:00,  4.00it/s, rules cancelled=60, l\n"
     ]
    },
    {
     "name": "stdout",
     "output_type": "stream",
     "text": [
      "  run: 6\n"
     ]
    },
    {
     "name": "stderr",
     "output_type": "stream",
     "text": [
      "Epoch: 100%|██████████| 1000/1000 [03:34<00:00,  4.66it/s, loss=0.546, epoch acc\n",
      "Epoch: 100%|██████████| 1000/1000 [04:09<00:00,  4.00it/s, rules cancelled=58, l\n"
     ]
    },
    {
     "name": "stdout",
     "output_type": "stream",
     "text": [
      "  run: 7\n"
     ]
    },
    {
     "name": "stderr",
     "output_type": "stream",
     "text": [
      "Epoch: 100%|██████████| 1000/1000 [03:33<00:00,  4.69it/s, loss=0.55, epoch accu\n",
      "Epoch: 100%|██████████| 1000/1000 [04:09<00:00,  4.00it/s, rules cancelled=54, l\n"
     ]
    },
    {
     "name": "stdout",
     "output_type": "stream",
     "text": [
      "  run: 8\n"
     ]
    },
    {
     "name": "stderr",
     "output_type": "stream",
     "text": [
      "Epoch: 100%|██████████| 1000/1000 [03:33<00:00,  4.69it/s, loss=0.545, epoch acc\n",
      "Epoch: 100%|██████████| 1000/1000 [04:11<00:00,  3.98it/s, rules cancelled=60, l\n"
     ]
    },
    {
     "name": "stdout",
     "output_type": "stream",
     "text": [
      "  run: 9\n"
     ]
    },
    {
     "name": "stderr",
     "output_type": "stream",
     "text": [
      "Epoch: 100%|██████████| 1000/1000 [03:33<00:00,  4.69it/s, loss=0.544, epoch acc\n",
      "Epoch: 100%|██████████| 1000/1000 [04:10<00:00,  3.99it/s, rules cancelled=49, l\n"
     ]
    },
    {
     "name": "stdout",
     "output_type": "stream",
     "text": [
      "  run: 10\n"
     ]
    },
    {
     "name": "stderr",
     "output_type": "stream",
     "text": [
      "Epoch: 100%|██████████| 1000/1000 [03:34<00:00,  4.67it/s, loss=0.544, epoch acc\n",
      "Epoch: 100%|██████████| 1000/1000 [04:11<00:00,  3.98it/s, rules cancelled=54, l\n"
     ]
    },
    {
     "name": "stdout",
     "output_type": "stream",
     "text": [
      "dataset: heloc\n",
      "  run: 1\n"
     ]
    },
    {
     "name": "stderr",
     "output_type": "stream",
     "text": [
      "Epoch: 100%|██████████| 1000/1000 [01:15<00:00, 13.28it/s, loss=0.629, epoch acc\n",
      "Epoch: 100%|██████████| 1000/1000 [01:29<00:00, 11.18it/s, rules cancelled=31, l\n"
     ]
    },
    {
     "name": "stdout",
     "output_type": "stream",
     "text": [
      "  run: 2\n"
     ]
    },
    {
     "name": "stderr",
     "output_type": "stream",
     "text": [
      "Epoch: 100%|██████████| 1000/1000 [01:14<00:00, 13.37it/s, loss=0.628, epoch acc\n",
      "Epoch: 100%|██████████| 1000/1000 [01:30<00:00, 11.10it/s, rules cancelled=30, l\n"
     ]
    },
    {
     "name": "stdout",
     "output_type": "stream",
     "text": [
      "  run: 3\n"
     ]
    },
    {
     "name": "stderr",
     "output_type": "stream",
     "text": [
      "Epoch: 100%|██████████| 1000/1000 [01:15<00:00, 13.26it/s, loss=0.61, epoch accu\n",
      "Epoch: 100%|██████████| 1000/1000 [01:29<00:00, 11.13it/s, rules cancelled=30, l\n"
     ]
    },
    {
     "name": "stdout",
     "output_type": "stream",
     "text": [
      "  run: 4\n"
     ]
    },
    {
     "name": "stderr",
     "output_type": "stream",
     "text": [
      "Epoch: 100%|██████████| 1000/1000 [01:15<00:00, 13.30it/s, loss=0.627, epoch acc\n",
      "Epoch: 100%|██████████| 1000/1000 [01:29<00:00, 11.13it/s, rules cancelled=30, l\n"
     ]
    },
    {
     "name": "stdout",
     "output_type": "stream",
     "text": [
      "  run: 5\n"
     ]
    },
    {
     "name": "stderr",
     "output_type": "stream",
     "text": [
      "Epoch: 100%|██████████| 1000/1000 [01:15<00:00, 13.22it/s, loss=0.628, epoch acc\n",
      "Epoch: 100%|██████████| 1000/1000 [01:29<00:00, 11.20it/s, rules cancelled=31, l\n"
     ]
    },
    {
     "name": "stdout",
     "output_type": "stream",
     "text": [
      "  run: 6\n"
     ]
    },
    {
     "name": "stderr",
     "output_type": "stream",
     "text": [
      "Epoch: 100%|██████████| 1000/1000 [01:15<00:00, 13.22it/s, loss=0.637, epoch acc\n",
      "Epoch: 100%|██████████| 1000/1000 [01:30<00:00, 11.05it/s, rules cancelled=30, l\n"
     ]
    },
    {
     "name": "stdout",
     "output_type": "stream",
     "text": [
      "  run: 7\n"
     ]
    },
    {
     "name": "stderr",
     "output_type": "stream",
     "text": [
      "Epoch: 100%|██████████| 1000/1000 [01:15<00:00, 13.17it/s, loss=0.63, epoch accu\n",
      "Epoch: 100%|██████████| 1000/1000 [01:29<00:00, 11.15it/s, rules cancelled=34, l\n"
     ]
    },
    {
     "name": "stdout",
     "output_type": "stream",
     "text": [
      "  run: 8\n"
     ]
    },
    {
     "name": "stderr",
     "output_type": "stream",
     "text": [
      "Epoch: 100%|██████████| 1000/1000 [01:14<00:00, 13.39it/s, loss=0.635, epoch acc\n",
      "Epoch: 100%|██████████| 1000/1000 [01:30<00:00, 11.04it/s, rules cancelled=32, l\n"
     ]
    },
    {
     "name": "stdout",
     "output_type": "stream",
     "text": [
      "  run: 9\n"
     ]
    },
    {
     "name": "stderr",
     "output_type": "stream",
     "text": [
      "Epoch: 100%|██████████| 1000/1000 [01:15<00:00, 13.20it/s, loss=0.637, epoch acc\n",
      "Epoch: 100%|██████████| 1000/1000 [01:30<00:00, 11.07it/s, rules cancelled=30, l\n"
     ]
    },
    {
     "name": "stdout",
     "output_type": "stream",
     "text": [
      "  run: 10\n"
     ]
    },
    {
     "name": "stderr",
     "output_type": "stream",
     "text": [
      "Epoch: 100%|██████████| 1000/1000 [01:15<00:00, 13.25it/s, loss=0.639, epoch acc\n",
      "Epoch: 100%|██████████| 1000/1000 [01:30<00:00, 11.03it/s, rules cancelled=30, l\n"
     ]
    },
    {
     "name": "stdout",
     "output_type": "stream",
     "text": [
      "dataset: house\n",
      "  run: 1\n"
     ]
    },
    {
     "name": "stderr",
     "output_type": "stream",
     "text": [
      "Epoch: 100%|██████████| 1000/1000 [02:42<00:00,  6.15it/s, loss=0.35, epoch accu\n",
      "Epoch: 100%|██████████| 1000/1000 [03:11<00:00,  5.23it/s, rules cancelled=46, l\n"
     ]
    },
    {
     "name": "stdout",
     "output_type": "stream",
     "text": [
      "  run: 2\n"
     ]
    },
    {
     "name": "stderr",
     "output_type": "stream",
     "text": [
      "Epoch: 100%|██████████| 1000/1000 [02:44<00:00,  6.09it/s, loss=0.351, epoch acc\n",
      "Epoch: 100%|██████████| 1000/1000 [03:10<00:00,  5.26it/s, rules cancelled=52, l\n"
     ]
    },
    {
     "name": "stdout",
     "output_type": "stream",
     "text": [
      "  run: 3\n"
     ]
    },
    {
     "name": "stderr",
     "output_type": "stream",
     "text": [
      "Epoch: 100%|██████████| 1000/1000 [02:42<00:00,  6.17it/s, loss=0.345, epoch acc\n",
      "Epoch: 100%|██████████| 1000/1000 [03:11<00:00,  5.21it/s, rules cancelled=47, l\n"
     ]
    },
    {
     "name": "stdout",
     "output_type": "stream",
     "text": [
      "  run: 4\n"
     ]
    },
    {
     "name": "stderr",
     "output_type": "stream",
     "text": [
      "Epoch: 100%|██████████| 1000/1000 [02:44<00:00,  6.07it/s, loss=0.346, epoch acc\n",
      "Epoch: 100%|██████████| 1000/1000 [03:12<00:00,  5.19it/s, rules cancelled=44, l\n"
     ]
    },
    {
     "name": "stdout",
     "output_type": "stream",
     "text": [
      "  run: 5\n"
     ]
    },
    {
     "name": "stderr",
     "output_type": "stream",
     "text": [
      "Epoch: 100%|██████████| 1000/1000 [02:44<00:00,  6.07it/s, loss=0.344, epoch acc\n",
      "Epoch: 100%|██████████| 1000/1000 [03:13<00:00,  5.16it/s, rules cancelled=48, l\n"
     ]
    },
    {
     "name": "stdout",
     "output_type": "stream",
     "text": [
      "  run: 6\n"
     ]
    },
    {
     "name": "stderr",
     "output_type": "stream",
     "text": [
      "Epoch: 100%|██████████| 1000/1000 [02:42<00:00,  6.16it/s, loss=0.35, epoch accu\n",
      "Epoch: 100%|██████████| 1000/1000 [03:10<00:00,  5.24it/s, rules cancelled=51, l\n"
     ]
    },
    {
     "name": "stdout",
     "output_type": "stream",
     "text": [
      "  run: 7\n"
     ]
    },
    {
     "name": "stderr",
     "output_type": "stream",
     "text": [
      "Epoch: 100%|██████████| 1000/1000 [02:42<00:00,  6.17it/s, loss=0.353, epoch acc\n",
      "Epoch: 100%|██████████| 1000/1000 [03:10<00:00,  5.24it/s, rules cancelled=49, l\n"
     ]
    },
    {
     "name": "stdout",
     "output_type": "stream",
     "text": [
      "  run: 8\n"
     ]
    },
    {
     "name": "stderr",
     "output_type": "stream",
     "text": [
      "Epoch: 100%|██████████| 1000/1000 [02:41<00:00,  6.19it/s, loss=0.351, epoch acc\n",
      "Epoch: 100%|██████████| 1000/1000 [03:10<00:00,  5.24it/s, rules cancelled=48, l\n"
     ]
    },
    {
     "name": "stdout",
     "output_type": "stream",
     "text": [
      "  run: 9\n"
     ]
    },
    {
     "name": "stderr",
     "output_type": "stream",
     "text": [
      "Epoch: 100%|██████████| 1000/1000 [02:43<00:00,  6.12it/s, loss=0.346, epoch acc\n",
      "Epoch: 100%|██████████| 1000/1000 [03:11<00:00,  5.23it/s, rules cancelled=46, l\n"
     ]
    },
    {
     "name": "stdout",
     "output_type": "stream",
     "text": [
      "  run: 10\n"
     ]
    },
    {
     "name": "stderr",
     "output_type": "stream",
     "text": [
      "Epoch: 100%|██████████| 1000/1000 [02:43<00:00,  6.12it/s, loss=0.352, epoch acc\n",
      "Epoch: 100%|██████████| 1000/1000 [03:12<00:00,  5.20it/s, rules cancelled=47, l\n"
     ]
    },
    {
     "name": "stdout",
     "output_type": "stream",
     "text": [
      "dataset: magic\n",
      "  run: 1\n"
     ]
    },
    {
     "name": "stderr",
     "output_type": "stream",
     "text": [
      "Epoch: 100%|██████████| 1000/1000 [02:11<00:00,  7.62it/s, loss=0.495, epoch acc\n",
      "Epoch: 100%|██████████| 1000/1000 [02:29<00:00,  6.68it/s, rules cancelled=23, l\n"
     ]
    },
    {
     "name": "stdout",
     "output_type": "stream",
     "text": [
      "  run: 2\n"
     ]
    },
    {
     "name": "stderr",
     "output_type": "stream",
     "text": [
      "Epoch: 100%|██████████| 1000/1000 [02:12<00:00,  7.57it/s, loss=0.492, epoch acc\n",
      "Epoch: 100%|██████████| 1000/1000 [02:30<00:00,  6.65it/s, rules cancelled=20, l\n"
     ]
    },
    {
     "name": "stdout",
     "output_type": "stream",
     "text": [
      "  run: 3\n"
     ]
    },
    {
     "name": "stderr",
     "output_type": "stream",
     "text": [
      "Epoch: 100%|██████████| 1000/1000 [02:11<00:00,  7.61it/s, loss=0.497, epoch acc\n",
      "Epoch: 100%|██████████| 1000/1000 [02:31<00:00,  6.60it/s, rules cancelled=21, l\n"
     ]
    },
    {
     "name": "stdout",
     "output_type": "stream",
     "text": [
      "  run: 4\n"
     ]
    },
    {
     "name": "stderr",
     "output_type": "stream",
     "text": [
      "Epoch: 100%|██████████| 1000/1000 [02:11<00:00,  7.58it/s, loss=0.491, epoch acc\n",
      "Epoch: 100%|██████████| 1000/1000 [02:30<00:00,  6.63it/s, rules cancelled=17, l\n"
     ]
    },
    {
     "name": "stdout",
     "output_type": "stream",
     "text": [
      "  run: 5\n"
     ]
    },
    {
     "name": "stderr",
     "output_type": "stream",
     "text": [
      "Epoch: 100%|██████████| 1000/1000 [02:12<00:00,  7.55it/s, loss=0.494, epoch acc\n",
      "Epoch: 100%|██████████| 1000/1000 [02:31<00:00,  6.62it/s, rules cancelled=21, l\n"
     ]
    },
    {
     "name": "stdout",
     "output_type": "stream",
     "text": [
      "  run: 6\n"
     ]
    },
    {
     "name": "stderr",
     "output_type": "stream",
     "text": [
      "Epoch: 100%|██████████| 1000/1000 [02:12<00:00,  7.55it/s, loss=0.492, epoch acc\n",
      "Epoch: 100%|██████████| 1000/1000 [02:31<00:00,  6.60it/s, rules cancelled=20, l\n"
     ]
    },
    {
     "name": "stdout",
     "output_type": "stream",
     "text": [
      "  run: 7\n"
     ]
    },
    {
     "name": "stderr",
     "output_type": "stream",
     "text": [
      "Epoch: 100%|██████████| 1000/1000 [02:11<00:00,  7.60it/s, loss=0.498, epoch acc\n",
      "Epoch: 100%|██████████| 1000/1000 [02:30<00:00,  6.63it/s, rules cancelled=16, l\n"
     ]
    },
    {
     "name": "stdout",
     "output_type": "stream",
     "text": [
      "  run: 8\n"
     ]
    },
    {
     "name": "stderr",
     "output_type": "stream",
     "text": [
      "Epoch: 100%|██████████| 1000/1000 [02:11<00:00,  7.59it/s, loss=0.493, epoch acc\n",
      "Epoch: 100%|██████████| 1000/1000 [02:31<00:00,  6.60it/s, rules cancelled=18, l\n"
     ]
    },
    {
     "name": "stdout",
     "output_type": "stream",
     "text": [
      "  run: 9\n"
     ]
    },
    {
     "name": "stderr",
     "output_type": "stream",
     "text": [
      "Epoch: 100%|██████████| 1000/1000 [02:12<00:00,  7.54it/s, loss=0.495, epoch acc\n",
      "Epoch: 100%|██████████| 1000/1000 [02:31<00:00,  6.59it/s, rules cancelled=20, l\n"
     ]
    },
    {
     "name": "stdout",
     "output_type": "stream",
     "text": [
      "  run: 10\n"
     ]
    },
    {
     "name": "stderr",
     "output_type": "stream",
     "text": [
      "Epoch: 100%|██████████| 1000/1000 [02:12<00:00,  7.52it/s, loss=0.49, epoch accu\n",
      "Epoch: 100%|██████████| 1000/1000 [02:31<00:00,  6.60it/s, rules cancelled=25, l\n"
     ]
    },
    {
     "ename": "OSError",
     "evalue": "[Errno 36] File name too long: '[0.8309298856290402, 0.820321564727333, 0.8291065804740594, 0.8319244157135753, 0.840046411403945, 0.8334162108403779, 0.8286093154317918, 0.8307641306149511, 0.8345764959390022, 0.8334162108403779, 0.7184512428298279, 0.7174952198852772, 0.7151051625239006, 0.7088910133843213, 0.7055449330783938, 0.7103250478011472, 0.7131931166347992, 0.7165391969407265, 0.7021988527724665, 0.7079349904397706, 0.8556067588325653, 0.8624094799210007, 0.8613122668422207, 0.8626289225367566, 0.8608733816107088, 0.8635066929997806, 0.8648233486943164, 0.8648233486943164, 0.8562650866798333, 0.8659205617730963, 0.8443743427970557, 0.8509463722397477, 0.8477917981072555, 0.8454258675078864, 0.8422712933753943, 0.8406940063091483, 0.8446372239747634, 0.8464773922187171, 0.8446372239747634, 0.8485804416403786].txt'",
     "output_type": "error",
     "traceback": [
      "\u001b[0;31m---------------------------------------------------------------------------\u001b[0m",
      "\u001b[0;31mOSError\u001b[0m                                   Traceback (most recent call last)",
      "Input \u001b[0;32mIn [2]\u001b[0m, in \u001b[0;36m<cell line: 43>\u001b[0;34m()\u001b[0m\n\u001b[1;32m     39\u001b[0m         R2NTabRuleConditions\u001b[38;5;241m.\u001b[39mappend(\u001b[38;5;28msum\u001b[39m(\u001b[38;5;28mmap\u001b[39m(\u001b[38;5;28mlen\u001b[39m, rule_set)))\n\u001b[1;32m     41\u001b[0m \u001b[38;5;28;01mimport\u001b[39;00m \u001b[38;5;21;01mjson\u001b[39;00m\n\u001b[0;32m---> 43\u001b[0m \u001b[38;5;28;01mwith\u001b[39;00m \u001b[38;5;28;43mopen\u001b[39;49m\u001b[43m(\u001b[49m\u001b[38;5;124;43mf\u001b[39;49m\u001b[38;5;124;43m'\u001b[39;49m\u001b[38;5;132;43;01m{\u001b[39;49;00m\u001b[43mDRNetAccus\u001b[49m\u001b[38;5;132;43;01m}\u001b[39;49;00m\u001b[38;5;124;43m.txt\u001b[39;49m\u001b[38;5;124;43m'\u001b[39;49m\u001b[43m,\u001b[49m\u001b[43m \u001b[49m\u001b[38;5;124;43m'\u001b[39;49m\u001b[38;5;124;43mw\u001b[39;49m\u001b[38;5;124;43m'\u001b[39;49m\u001b[43m)\u001b[49m \u001b[38;5;28;01mas\u001b[39;00m filehandle:\n\u001b[1;32m     44\u001b[0m     json\u001b[38;5;241m.\u001b[39mdump(DRNetAccus, filehandle)\n\u001b[1;32m     46\u001b[0m \u001b[38;5;28;01mwith\u001b[39;00m \u001b[38;5;28mopen\u001b[39m(\u001b[38;5;124mf\u001b[39m\u001b[38;5;124m'\u001b[39m\u001b[38;5;132;01m{\u001b[39;00mDRNetAccusOverTime \u001b[38;5;132;01m}\u001b[39;00m\u001b[38;5;124m.txt\u001b[39m\u001b[38;5;124m'\u001b[39m, \u001b[38;5;124m'\u001b[39m\u001b[38;5;124mw\u001b[39m\u001b[38;5;124m'\u001b[39m) \u001b[38;5;28;01mas\u001b[39;00m filehandle:\n",
      "\u001b[0;31mOSError\u001b[0m: [Errno 36] File name too long: '[0.8309298856290402, 0.820321564727333, 0.8291065804740594, 0.8319244157135753, 0.840046411403945, 0.8334162108403779, 0.8286093154317918, 0.8307641306149511, 0.8345764959390022, 0.8334162108403779, 0.7184512428298279, 0.7174952198852772, 0.7151051625239006, 0.7088910133843213, 0.7055449330783938, 0.7103250478011472, 0.7131931166347992, 0.7165391969407265, 0.7021988527724665, 0.7079349904397706, 0.8556067588325653, 0.8624094799210007, 0.8613122668422207, 0.8626289225367566, 0.8608733816107088, 0.8635066929997806, 0.8648233486943164, 0.8648233486943164, 0.8562650866798333, 0.8659205617730963, 0.8443743427970557, 0.8509463722397477, 0.8477917981072555, 0.8454258675078864, 0.8422712933753943, 0.8406940063091483, 0.8446372239747634, 0.8464773922187171, 0.8446372239747634, 0.8485804416403786].txt'"
     ]
    }
   ],
   "source": [
    "DRNetAccus = []\n",
    "DRNetAccusOverTime = []\n",
    "DRNetRuleConditions = []\n",
    "R2NTabAccus = []\n",
    "R2NTabAccusOverTime = []\n",
    "R2NTabRuleConditions = []\n",
    "runs = 10\n",
    "# Read datasets\n",
    "for name in ['adult', 'heloc', 'house', 'magic']:\n",
    "    print('dataset:', name)\n",
    "    for run in range(runs):\n",
    "        print('  run:', run+1)\n",
    "        X, Y, X_headers, Y_headers = transform_dataset(name, method='onehot-compare', negations=False, labels='binary')\n",
    "        datasets = kfold_dataset(X, Y, shuffle=1)\n",
    "        X_train, X_test, Y_train, Y_test = datasets[0]\n",
    "        train_set = torch.utils.data.TensorDataset(torch.Tensor(X_train.to_numpy()), torch.Tensor(Y_train))\n",
    "        test_set = torch.utils.data.TensorDataset(torch.Tensor(X_test.to_numpy()), torch.Tensor(Y_test))\n",
    "        \n",
    "        # Train DR-Net\n",
    "        # Default learning rate (1e-2), and_lam (1e-2), and and_lam (1e-5) usually work the best. A large epochs number is necessary for a sparse rule set i.e 10000 epochs.\n",
    "        net = DRNet(train_set[:][0].size(1), 50, 1)\n",
    "        acc = train_drnet(net, train_set, test_set=test_set, device='cpu', lr_rules=1e-2, epochs=1000, batch_size=400,\n",
    "                    and_lam=1e-2, or_lam=1e-5, num_alter=500)\n",
    "        DRNetAccusOverTime.append(acc)\n",
    "        \n",
    "        rule_set = net.get_rules(X_headers)\n",
    "        DRNetAccus.append((net.predict(np.array(X_test)) == Y_test).mean())\n",
    "        DRNetRuleConditions.append(sum(map(len, rule_set)))\n",
    "        \n",
    "        # Train R2N-tab\n",
    "        # Default learning rate (1e-2), and_lam (1e-2), and and_lam (1e-5) usually work the best. \n",
    "        net = R2Ntab(train_set[:][0].size(1), 50, 1)\n",
    "        acc = train_r2ntab(net, train_set, test_set=test_set, device='cpu', lr_cancel=5e-3, lr_rules=1e-2, epochs=1000, batch_size=400,\n",
    "                     and_lam=1e-2, or_lam=1e-5, cancel_lam=1e-4, num_alter=500)\n",
    "        R2NTabAccusOverTime.append(acc)\n",
    "        \n",
    "        rule_set = net.get_rules(X_headers)\n",
    "        R2NTabAccus.append((net.predict(np.array(X_test)) == Y_test).mean())\n",
    "        R2NTabRuleConditions.append(sum(map(len, rule_set)))\n",
    "\n",
    "import json\n",
    "\n",
    "with open(f'{DRNetAccus}.txt', 'w') as filehandle:\n",
    "    json.dump(DRNetAccus, filehandle)\n",
    "\n",
    "with open(f'{DRNetAccusOverTime }.txt', 'w') as filehandle:\n",
    "    json.dump(DRNetAccusOverTime , filehandle)\n",
    "\n",
    "with open(f'{DRNetRuleConditions}.txt', 'w') as filehandle:\n",
    "    json.dump(DRNetRuleConditions, filehandle)\n",
    "\n",
    "with open(f'{R2NTabAccus}.txt', 'w') as filehandle:\n",
    "    json.dump(R2NTabAccus, filehandle)\n",
    "\n",
    "with open(f'{R2NTabAccusOverTime}.txt', 'w') as filehandle:\n",
    "    json.dump(R2NTabAccusOverTime, filehandle)\n",
    "\n",
    "with open(f'{R2NTabRuleConditions}.txt', 'w') as filehandle:\n",
    "    json.dump(R2NTabRuleConditions, filehandle)"
   ]
  },
  {
   "cell_type": "markdown",
   "id": "3dc08def-fcd4-4685-83ac-ec28e134751b",
   "metadata": {
    "tags": []
   },
   "source": [
    "# Rule set sparsity experiment\n",
    "## DRNet vs R2NTab"
   ]
  },
  {
   "cell_type": "code",
   "execution_count": null,
   "id": "e7f765d9-2638-4741-8ba6-f86ac19a358d",
   "metadata": {},
   "outputs": [],
   "source": [
    "labels = ['adult', 'heloc', 'house', 'magic']\n",
    "legend_labels = ['DRNet', 'R2N-Tab']\n",
    "\n",
    "x_positions = np.arange(len(labels))\n",
    "\n",
    "bar_width = 0.35\n",
    "\n",
    "DRNetConditions = []\n",
    "R2NTabConditions = []\n",
    "for i in range(4):\n",
    "    start = i*runs\n",
    "    end = (i+1)*runs\n",
    "    DRNetConditionsPerDataset = sum(DRNetRuleConditions[start:end])/len(DRNetRuleConditions[start:end])\n",
    "    R2NTabConditionsPerDataset = sum(R2NTabRuleConditions[start:end])/len(R2NTabRuleConditions[start:end])\n",
    "    DRNetConditions.append(DRNetConditionsPerDataset)\n",
    "    R2NTabConditions.append(R2NTabConditions)\n",
    "\n",
    "DRNetRuleConditions = np.array(DRNetConditions)\n",
    "R2NTabRuleConditions = np.array(R2NTabConditions)\n",
    "\n",
    "data = np.stack((DRNetRuleConditions, R2NTabRuleConditions), axis=1)\n",
    "\n",
    "fig, ax = plt.subplots()\n",
    "for i in range(data.shape[1]):\n",
    "    ax.bar(x_positions + i * bar_width, data[:, i], bar_width, label=legend_labels[i])\n",
    "\n",
    "ax.set_xlabel('Dataset')\n",
    "ax.set_ylabel('# Conditions')\n",
    "ax.set_title('# conditions in rule set per method per dataset for 1000 epochs')\n",
    "\n",
    "ax.set_xticks(x_positions + bar_width / 2)\n",
    "ax.set_xticklabels(labels)\n",
    "\n",
    "ax.legend()\n",
    "\n",
    "plt.savefig('sparsityexperiment1-1e-4.png')\n",
    "\n",
    "plt.show()"
   ]
  },
  {
   "cell_type": "markdown",
   "id": "70f79bf3-5e59-496a-950b-90619202a6ea",
   "metadata": {},
   "source": [
    "# Performance per method\n",
    "## DRNet vs R2NTab"
   ]
  },
  {
   "cell_type": "code",
   "execution_count": null,
   "id": "eec2416f-4be5-4564-87ea-98d9ef35333c",
   "metadata": {},
   "outputs": [],
   "source": [
    "labels = ['adult', 'heloc', 'house', 'magic']\n",
    "for index, dataset in enumerate(labels):\n",
    "    start = index*runs\n",
    "    end = (index+1)*runs\n",
    "    dataDRNet = DRNetAccusOverTime[start:end]\n",
    "    dataDRNet = np.array(dataDRNet)\n",
    "    dataDRNet = np.mean(dataDRNet, axis=0)\n",
    "    \n",
    "    dataR2NTab = R2NTabAccusOverTime[start:end]\n",
    "    dataR2NTab = np.array(dataR2NTab)\n",
    "    dataR2NTab = np.mean(dataR2NTab, axis=0)\n",
    "    plt.plot(dataDRNet)\n",
    "    plt.plot(dataR2NTab)\n",
    "    plt.savefig(f'accuracyexperiment1-1e-4.png')\n",
    "    plt.show()"
   ]
  }
 ],
 "metadata": {
  "kernelspec": {
   "display_name": "Python 3 (ipykernel)",
   "language": "python",
   "name": "python3"
  },
  "language_info": {
   "codemirror_mode": {
    "name": "ipython",
    "version": 3
   },
   "file_extension": ".py",
   "mimetype": "text/x-python",
   "name": "python",
   "nbconvert_exporter": "python",
   "pygments_lexer": "ipython3",
   "version": "3.8.10"
  }
 },
 "nbformat": 4,
 "nbformat_minor": 5
}
