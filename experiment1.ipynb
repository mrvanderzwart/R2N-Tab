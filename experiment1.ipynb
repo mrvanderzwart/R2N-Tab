{
 "cells": [
  {
   "cell_type": "code",
   "execution_count": null,
   "id": "d47d205b-73e1-4825-842d-3043855527f4",
   "metadata": {},
   "outputs": [],
   "source": [
    "import torch\n",
    "import numpy as np\n",
    "\n",
    "from datasets.dataset import transform_dataset, kfold_dataset\n",
    "from R2Ntab import train as train_r2ntab, R2Ntab\n",
    "from DRNet import train as train_drnet, DRNet\n",
    "\n",
    "import sys\n",
    "\n",
    "import matplotlib.pyplot as plt\n",
    "import numpy as np"
   ]
  },
  {
   "cell_type": "code",
   "execution_count": null,
   "id": "09655085-1479-4881-bc8d-620534f2d0a5",
   "metadata": {},
   "outputs": [],
   "source": [
    "DRNetRules = []\n",
    "R2NTabRules = []\n",
    "\n",
    "# Read datasets\n",
    "for name in ['adult', 'heloc', 'house', 'magic']:\n",
    "    X, Y, X_headers, Y_headers = transform_dataset(name, method='onehot-compare', negations=False, labels='binary')\n",
    "    datasets = kfold_dataset(X, Y, shuffle=1)\n",
    "    X_train, X_test, Y_train, Y_test = datasets[0]\n",
    "    train_set = torch.utils.data.TensorDataset(torch.Tensor(X_train.to_numpy()), torch.Tensor(Y_train))\n",
    "    test_set = torch.utils.data.TensorDataset(torch.Tensor(X_test.to_numpy()), torch.Tensor(Y_test))\n",
    "    \n",
    "    # Train DR-Net\n",
    "    # Default learning rate (1e-2), and_lam (1e-2), and and_lam (1e-5) usually work the best. A large epochs number is necessary for a sparse rule set i.e 10000 epochs.\n",
    "    net = DRNet(train_set[:][0].size(1), 50, 1)\n",
    "    train_drnet(net, train_set, test_set=test_set, device='cpu', lr=1e-2, epochs=1000, batch_size=400,\n",
    "                and_lam=1e-2, or_lam=1e-5, num_alter=500)\n",
    "    \n",
    "    # Get accuracy and the rule net\n",
    "    accu = (net.predict(np.array(X_test)) == Y_test).mean()\n",
    "    rules = net.get_rules(X_headers)\n",
    "    DRNetRules.append(len(rules))\n",
    "    \n",
    "    # Train R2N-tab\n",
    "    # Default learning rate (1e-2), and_lam (1e-2), and and_lam (1e-5) usually work the best. A large epochs number is necessary for a sparse rule set i.e 10000 epochs.\n",
    "    net = R2Ntab(train_set[:][0].size(1), 50, 1)\n",
    "    train_r2ntab(net, train_set, test_set=test_set, device='cpu', lr=1e-2, epochs=1000, batch_size=400,\n",
    "                 and_lam=1e-2, or_lam=1e-5, num_alter=500)\n",
    "    \n",
    "    # Get accuracy and the rule net\n",
    "    accu = (net.predict(np.array(X_test)) == Y_test).mean()\n",
    "    rules = net.get_rules(X_headers)\n",
    "    R2NTabRules.append(len(rules))"
   ]
  },
  {
   "cell_type": "code",
   "execution_count": null,
   "id": "e7f765d9-2638-4741-8ba6-f86ac19a358d",
   "metadata": {},
   "outputs": [],
   "source": [
    "# Define the data for the bars\n",
    "data = np.array([[DRNetRules[0], R2NTabRules[0]], [DRNetRules[1], R2NTabRules[1]], [DRNetRules[2], R2NTabRules[2]], [DRNetRules[3], R2NTabRules[3]]])\n",
    "\n",
    "# Define the labels for the x-axis and the legend\n",
    "labels = ['adult', 'heloc', 'house', 'magic']\n",
    "legend_labels = ['DR-Net', 'R2N-Tab']\n",
    "\n",
    "# Define the positions of the bars on the x-axis\n",
    "x_positions = np.arange(len(labels))\n",
    "\n",
    "# Define the width of the bars\n",
    "bar_width = 0.35\n",
    "\n",
    "# Plot the bars\n",
    "fig, ax = plt.subplots()\n",
    "for i in range(data.shape[1]):\n",
    "    ax.bar(x_positions + i * bar_width, data[:, i], bar_width, label=legend_labels[i])\n",
    "\n",
    "# Add labels and title to the plot\n",
    "ax.set_xlabel('Dataset')\n",
    "ax.set_ylabel('# Rules')\n",
    "ax.set_title('# Rules per network per dataset')\n",
    "\n",
    "# Add x-axis ticks and labels\n",
    "ax.set_xticks(x_positions + bar_width / 2)\n",
    "ax.set_xticklabels(labels)\n",
    "\n",
    "# Add a legend to the plot\n",
    "ax.legend()\n",
    "\n",
    "# Show the plot\n",
    "plt.show()"
   ]
  }
 ],
 "metadata": {
  "kernelspec": {
   "display_name": "Python 3",
   "language": "python",
   "name": "python3"
  },
  "language_info": {
   "codemirror_mode": {
    "name": "ipython",
    "version": 3
   },
   "file_extension": ".py",
   "mimetype": "text/x-python",
   "name": "python",
   "nbconvert_exporter": "python",
   "pygments_lexer": "ipython3",
   "version": "3.6.9"
  }
 },
 "nbformat": 4,
 "nbformat_minor": 5
}
