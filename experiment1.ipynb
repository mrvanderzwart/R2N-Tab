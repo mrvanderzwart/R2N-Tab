{
 "cells": [
  {
   "cell_type": "markdown",
   "id": "877bb358-c1b8-4050-98a5-2bc411a55b80",
   "metadata": {},
   "source": [
    "## Experiment 1: Comparison against the rule network"
   ]
  },
  {
   "cell_type": "code",
   "execution_count": 1,
   "id": "d47d205b-73e1-4825-842d-3043855527f4",
   "metadata": {},
   "outputs": [],
   "source": [
    "import torch\n",
    "import numpy as np\n",
    "import matplotlib.pyplot as plt\n",
    "import json\n",
    "\n",
    "from datasets.dataset import transform_dataset, kfold_dataset\n",
    "from R2Ntab import R2Ntab\n",
    "from DRNet import train as train, DRNet"
   ]
  },
  {
   "cell_type": "code",
   "execution_count": 4,
   "id": "3892ce10-62f3-49da-8358-5ff1b051015d",
   "metadata": {},
   "outputs": [],
   "source": [
    "networks = ['drnet', 'r2ntab2', 'r2ntab4', 'r2ntab6']\n",
    "def run_network(network):\n",
    "    if network == 'drnet':\n",
    "        net = DRNet(train_set[:][0].size(1), 50, 1)\n",
    "        train(net, train_set, test_set=test_set, device='cpu', epochs=1000, batch_size=400)\n",
    "        accuracy = (net.predict(np.array(X_test)) == Y_test).mean()\n",
    "        sparsity = sum(map(len, net.get_rules(X_headers)))\n",
    "    elif network == 'r2ntab2':\n",
    "        net = R2Ntab(train_set[:][0].size(1), 50, 1)\n",
    "        net.fit(train_set, test_set=test_set, device='cpu', epochs=1000, batch_size=400, cancel_lam=1e-2)\n",
    "        accuracy = net.predict(X_test, Y_test)\n",
    "        sparsity = sum(map(len, net.extract_rules(X_headers)))\n",
    "    elif network == 'r2ntab4':\n",
    "        net = R2Ntab(train_set[:][0].size(1), 50, 1)\n",
    "        net.fit(train_set, test_set=test_set, device='cpu', epochs=1000, batch_size=400, cancel_lam=1e-4)\n",
    "        accuracy = net.predict(X_test, Y_test)\n",
    "        sparsity = sum(map(len, net.extract_rules(X_headers)))\n",
    "    elif network == 'r2ntab6':\n",
    "        net = R2Ntab(train_set[:][0].size(1), 50, 1)\n",
    "        net.fit(train_set, test_set=test_set, device='cpu', epochs=1000, batch_size=400, cancel_lam=1e-6)\n",
    "        accuracy = net.predict(X_test, Y_test)\n",
    "        sparsity = sum(map(len, net.extract_rules(X_headers)))\n",
    "        \n",
    "    return accuracy, sparsity"
   ]
  },
  {
   "cell_type": "code",
   "execution_count": 5,
   "id": "09655085-1479-4881-bc8d-620534f2d0a5",
   "metadata": {},
   "outputs": [
    {
     "name": "stdout",
     "output_type": "stream",
     "text": [
      "dataset: adult\n",
      "  run: 1\n"
     ]
    },
    {
     "name": "stderr",
     "output_type": "stream",
     "text": [
      "Epoch: 100%|██████████| 1000/1000 [03:36<00:00,  4.63it/s, loss=0.549, epoch acc\n",
      "100%|███████████████████| 1000/1000 [05:38<00:00,  2.96it/s]\n",
      "100%|███████████████████| 1000/1000 [04:37<00:00,  3.60it/s]\n",
      "100%|███████████████████| 1000/1000 [04:23<00:00,  3.80it/s]\n"
     ]
    },
    {
     "name": "stdout",
     "output_type": "stream",
     "text": [
      "  run: 2\n"
     ]
    },
    {
     "name": "stderr",
     "output_type": "stream",
     "text": [
      "Epoch: 100%|██████████| 1000/1000 [03:38<00:00,  4.57it/s, loss=0.546, epoch acc\n",
      "100%|███████████████████| 1000/1000 [05:35<00:00,  2.98it/s]\n",
      "100%|███████████████████| 1000/1000 [04:44<00:00,  3.51it/s]\n",
      "100%|███████████████████| 1000/1000 [04:46<00:00,  3.49it/s]\n"
     ]
    },
    {
     "name": "stdout",
     "output_type": "stream",
     "text": [
      "  run: 3\n"
     ]
    },
    {
     "name": "stderr",
     "output_type": "stream",
     "text": [
      "Epoch: 100%|██████████| 1000/1000 [03:46<00:00,  4.42it/s, loss=0.544, epoch acc\n",
      "100%|███████████████████| 1000/1000 [05:52<00:00,  2.84it/s]\n",
      "100%|███████████████████| 1000/1000 [04:48<00:00,  3.47it/s]\n",
      "100%|███████████████████| 1000/1000 [04:43<00:00,  3.52it/s]\n"
     ]
    },
    {
     "name": "stdout",
     "output_type": "stream",
     "text": [
      "  run: 4\n"
     ]
    },
    {
     "name": "stderr",
     "output_type": "stream",
     "text": [
      "Epoch: 100%|██████████| 1000/1000 [03:43<00:00,  4.48it/s, loss=0.549, epoch acc\n",
      "100%|███████████████████| 1000/1000 [05:42<00:00,  2.92it/s]\n",
      "100%|███████████████████| 1000/1000 [04:45<00:00,  3.50it/s]\n",
      "100%|███████████████████| 1000/1000 [04:30<00:00,  3.69it/s]\n"
     ]
    },
    {
     "name": "stdout",
     "output_type": "stream",
     "text": [
      "  run: 5\n"
     ]
    },
    {
     "name": "stderr",
     "output_type": "stream",
     "text": [
      "Epoch: 100%|██████████| 1000/1000 [03:37<00:00,  4.60it/s, loss=0.544, epoch acc\n",
      "100%|███████████████████| 1000/1000 [05:26<00:00,  3.06it/s]\n",
      "100%|███████████████████| 1000/1000 [04:30<00:00,  3.70it/s]\n",
      "100%|███████████████████| 1000/1000 [04:29<00:00,  3.72it/s]\n"
     ]
    },
    {
     "name": "stdout",
     "output_type": "stream",
     "text": [
      "  run: 6\n"
     ]
    },
    {
     "name": "stderr",
     "output_type": "stream",
     "text": [
      "Epoch: 100%|██████████| 1000/1000 [03:32<00:00,  4.71it/s, loss=0.545, epoch acc\n",
      "100%|███████████████████| 1000/1000 [05:26<00:00,  3.06it/s]\n",
      "100%|███████████████████| 1000/1000 [04:33<00:00,  3.66it/s]\n",
      "100%|███████████████████| 1000/1000 [04:26<00:00,  3.75it/s]\n"
     ]
    },
    {
     "name": "stdout",
     "output_type": "stream",
     "text": [
      "  run: 7\n"
     ]
    },
    {
     "name": "stderr",
     "output_type": "stream",
     "text": [
      "Epoch: 100%|██████████| 1000/1000 [03:33<00:00,  4.67it/s, loss=0.546, epoch acc\n",
      "100%|███████████████████| 1000/1000 [05:22<00:00,  3.10it/s]\n",
      "100%|███████████████████| 1000/1000 [04:44<00:00,  3.51it/s]\n",
      "100%|███████████████████| 1000/1000 [04:22<00:00,  3.81it/s]\n"
     ]
    },
    {
     "name": "stdout",
     "output_type": "stream",
     "text": [
      "  run: 8\n"
     ]
    },
    {
     "name": "stderr",
     "output_type": "stream",
     "text": [
      "Epoch: 100%|██████████| 1000/1000 [03:34<00:00,  4.66it/s, loss=0.55, epoch accu\n",
      "100%|███████████████████| 1000/1000 [05:22<00:00,  3.10it/s]\n",
      "100%|███████████████████| 1000/1000 [04:34<00:00,  3.64it/s]\n",
      "100%|███████████████████| 1000/1000 [04:23<00:00,  3.80it/s]\n"
     ]
    },
    {
     "name": "stdout",
     "output_type": "stream",
     "text": [
      "  run: 9\n"
     ]
    },
    {
     "name": "stderr",
     "output_type": "stream",
     "text": [
      "Epoch: 100%|██████████| 1000/1000 [03:34<00:00,  4.66it/s, loss=0.546, epoch acc\n",
      "100%|███████████████████| 1000/1000 [05:33<00:00,  3.00it/s]\n",
      "100%|███████████████████| 1000/1000 [04:38<00:00,  3.59it/s]\n",
      "100%|███████████████████| 1000/1000 [04:25<00:00,  3.77it/s]\n"
     ]
    },
    {
     "name": "stdout",
     "output_type": "stream",
     "text": [
      "  run: 10\n"
     ]
    },
    {
     "name": "stderr",
     "output_type": "stream",
     "text": [
      "Epoch: 100%|██████████| 1000/1000 [03:33<00:00,  4.68it/s, loss=0.55, epoch accu\n",
      "100%|███████████████████| 1000/1000 [05:26<00:00,  3.07it/s]\n",
      "100%|███████████████████| 1000/1000 [04:39<00:00,  3.58it/s]\n",
      "100%|███████████████████| 1000/1000 [04:31<00:00,  3.68it/s]\n"
     ]
    },
    {
     "name": "stdout",
     "output_type": "stream",
     "text": [
      "dataset: heloc\n",
      "  run: 1\n"
     ]
    },
    {
     "name": "stderr",
     "output_type": "stream",
     "text": [
      "Epoch: 100%|██████████| 1000/1000 [01:16<00:00, 13.16it/s, loss=0.625, epoch acc\n",
      "100%|███████████████████| 1000/1000 [01:23<00:00, 11.95it/s]\n",
      "100%|███████████████████| 1000/1000 [01:24<00:00, 11.87it/s]\n",
      "100%|███████████████████| 1000/1000 [01:24<00:00, 11.86it/s]\n"
     ]
    },
    {
     "name": "stdout",
     "output_type": "stream",
     "text": [
      "  run: 2\n"
     ]
    },
    {
     "name": "stderr",
     "output_type": "stream",
     "text": [
      "Epoch: 100%|██████████| 1000/1000 [01:15<00:00, 13.29it/s, loss=0.634, epoch acc\n",
      "100%|███████████████████| 1000/1000 [01:24<00:00, 11.85it/s]\n",
      "100%|███████████████████| 1000/1000 [01:24<00:00, 11.78it/s]\n",
      "100%|███████████████████| 1000/1000 [01:24<00:00, 11.84it/s]\n"
     ]
    },
    {
     "name": "stdout",
     "output_type": "stream",
     "text": [
      "  run: 3\n"
     ]
    },
    {
     "name": "stderr",
     "output_type": "stream",
     "text": [
      "Epoch: 100%|██████████| 1000/1000 [01:14<00:00, 13.35it/s, loss=0.629, epoch acc\n",
      "100%|███████████████████| 1000/1000 [01:24<00:00, 11.77it/s]\n",
      "100%|███████████████████| 1000/1000 [01:24<00:00, 11.90it/s]\n",
      "100%|███████████████████| 1000/1000 [01:24<00:00, 11.80it/s]\n"
     ]
    },
    {
     "name": "stdout",
     "output_type": "stream",
     "text": [
      "  run: 4\n"
     ]
    },
    {
     "name": "stderr",
     "output_type": "stream",
     "text": [
      "Epoch: 100%|██████████| 1000/1000 [01:16<00:00, 13.15it/s, loss=0.636, epoch acc\n",
      "100%|███████████████████| 1000/1000 [01:24<00:00, 11.90it/s]\n",
      "100%|███████████████████| 1000/1000 [01:24<00:00, 11.84it/s]\n",
      "100%|███████████████████| 1000/1000 [01:24<00:00, 11.86it/s]\n"
     ]
    },
    {
     "name": "stdout",
     "output_type": "stream",
     "text": [
      "  run: 5\n"
     ]
    },
    {
     "name": "stderr",
     "output_type": "stream",
     "text": [
      "Epoch: 100%|██████████| 1000/1000 [01:14<00:00, 13.34it/s, loss=0.627, epoch acc\n",
      "100%|███████████████████| 1000/1000 [01:24<00:00, 11.87it/s]\n",
      "100%|███████████████████| 1000/1000 [01:25<00:00, 11.70it/s]\n",
      "100%|███████████████████| 1000/1000 [01:24<00:00, 11.78it/s]\n"
     ]
    },
    {
     "name": "stdout",
     "output_type": "stream",
     "text": [
      "  run: 6\n"
     ]
    },
    {
     "name": "stderr",
     "output_type": "stream",
     "text": [
      "Epoch: 100%|██████████| 1000/1000 [01:15<00:00, 13.26it/s, loss=0.637, epoch acc\n",
      "100%|███████████████████| 1000/1000 [01:24<00:00, 11.87it/s]\n",
      "100%|███████████████████| 1000/1000 [01:25<00:00, 11.74it/s]\n",
      "100%|███████████████████| 1000/1000 [01:24<00:00, 11.83it/s]\n"
     ]
    },
    {
     "name": "stdout",
     "output_type": "stream",
     "text": [
      "  run: 7\n"
     ]
    },
    {
     "name": "stderr",
     "output_type": "stream",
     "text": [
      "Epoch: 100%|██████████| 1000/1000 [01:14<00:00, 13.34it/s, loss=0.619, epoch acc\n",
      "100%|███████████████████| 1000/1000 [01:24<00:00, 11.89it/s]\n",
      "100%|███████████████████| 1000/1000 [01:24<00:00, 11.78it/s]\n",
      "100%|███████████████████| 1000/1000 [01:24<00:00, 11.83it/s]\n"
     ]
    },
    {
     "name": "stdout",
     "output_type": "stream",
     "text": [
      "  run: 8\n"
     ]
    },
    {
     "name": "stderr",
     "output_type": "stream",
     "text": [
      "Epoch: 100%|██████████| 1000/1000 [01:15<00:00, 13.24it/s, loss=0.637, epoch acc\n",
      "100%|███████████████████| 1000/1000 [01:24<00:00, 11.87it/s]\n",
      "100%|███████████████████| 1000/1000 [01:24<00:00, 11.79it/s]\n",
      "100%|███████████████████| 1000/1000 [01:24<00:00, 11.79it/s]\n"
     ]
    },
    {
     "name": "stdout",
     "output_type": "stream",
     "text": [
      "  run: 9\n"
     ]
    },
    {
     "name": "stderr",
     "output_type": "stream",
     "text": [
      "Epoch: 100%|██████████| 1000/1000 [01:15<00:00, 13.28it/s, loss=0.642, epoch acc\n",
      "100%|███████████████████| 1000/1000 [01:24<00:00, 11.78it/s]\n",
      "100%|███████████████████| 1000/1000 [01:23<00:00, 11.91it/s]\n",
      "100%|███████████████████| 1000/1000 [01:24<00:00, 11.83it/s]\n"
     ]
    },
    {
     "name": "stdout",
     "output_type": "stream",
     "text": [
      "  run: 10\n"
     ]
    },
    {
     "name": "stderr",
     "output_type": "stream",
     "text": [
      "Epoch: 100%|██████████| 1000/1000 [01:15<00:00, 13.25it/s, loss=0.634, epoch acc\n",
      "100%|███████████████████| 1000/1000 [01:24<00:00, 11.82it/s]\n",
      "100%|███████████████████| 1000/1000 [01:24<00:00, 11.86it/s]\n",
      "100%|███████████████████| 1000/1000 [01:24<00:00, 11.77it/s]\n"
     ]
    },
    {
     "name": "stdout",
     "output_type": "stream",
     "text": [
      "dataset: house\n",
      "  run: 1\n"
     ]
    },
    {
     "name": "stderr",
     "output_type": "stream",
     "text": [
      "Epoch: 100%|██████████| 1000/1000 [02:42<00:00,  6.14it/s, loss=0.353, epoch acc\n",
      "100%|███████████████████| 1000/1000 [03:57<00:00,  4.20it/s]\n",
      "100%|███████████████████| 1000/1000 [03:46<00:00,  4.41it/s]\n",
      "100%|███████████████████| 1000/1000 [03:48<00:00,  4.38it/s]\n"
     ]
    },
    {
     "name": "stdout",
     "output_type": "stream",
     "text": [
      "  run: 2\n"
     ]
    },
    {
     "name": "stderr",
     "output_type": "stream",
     "text": [
      "Epoch: 100%|██████████| 1000/1000 [02:55<00:00,  5.71it/s, loss=0.353, epoch acc\n",
      "100%|███████████████████| 1000/1000 [04:15<00:00,  3.91it/s]\n",
      "100%|███████████████████| 1000/1000 [03:45<00:00,  4.43it/s]\n",
      "100%|███████████████████| 1000/1000 [03:40<00:00,  4.53it/s]\n"
     ]
    },
    {
     "name": "stdout",
     "output_type": "stream",
     "text": [
      "  run: 3\n"
     ]
    },
    {
     "name": "stderr",
     "output_type": "stream",
     "text": [
      "Epoch: 100%|██████████| 1000/1000 [02:41<00:00,  6.18it/s, loss=0.349, epoch acc\n",
      "100%|███████████████████| 1000/1000 [03:52<00:00,  4.30it/s]\n",
      "100%|███████████████████| 1000/1000 [03:32<00:00,  4.71it/s]\n",
      "100%|███████████████████| 1000/1000 [03:31<00:00,  4.73it/s]\n"
     ]
    },
    {
     "name": "stdout",
     "output_type": "stream",
     "text": [
      "  run: 4\n"
     ]
    },
    {
     "name": "stderr",
     "output_type": "stream",
     "text": [
      "Epoch: 100%|██████████| 1000/1000 [02:42<00:00,  6.14it/s, loss=0.348, epoch acc\n",
      "100%|███████████████████| 1000/1000 [03:52<00:00,  4.30it/s]\n",
      "100%|███████████████████| 1000/1000 [03:28<00:00,  4.79it/s]\n",
      "100%|███████████████████| 1000/1000 [03:30<00:00,  4.75it/s]\n"
     ]
    },
    {
     "name": "stdout",
     "output_type": "stream",
     "text": [
      "  run: 5\n"
     ]
    },
    {
     "name": "stderr",
     "output_type": "stream",
     "text": [
      "Epoch: 100%|██████████| 1000/1000 [02:42<00:00,  6.16it/s, loss=0.355, epoch acc\n",
      "100%|███████████████████| 1000/1000 [03:52<00:00,  4.31it/s]\n",
      "100%|███████████████████| 1000/1000 [03:31<00:00,  4.73it/s]\n",
      "100%|███████████████████| 1000/1000 [03:31<00:00,  4.72it/s]\n"
     ]
    },
    {
     "name": "stdout",
     "output_type": "stream",
     "text": [
      "  run: 6\n"
     ]
    },
    {
     "name": "stderr",
     "output_type": "stream",
     "text": [
      "Epoch: 100%|██████████| 1000/1000 [02:43<00:00,  6.13it/s, loss=0.348, epoch acc\n",
      "100%|███████████████████| 1000/1000 [03:43<00:00,  4.47it/s]\n",
      "100%|███████████████████| 1000/1000 [03:32<00:00,  4.71it/s]\n",
      "100%|███████████████████| 1000/1000 [03:30<00:00,  4.75it/s]\n"
     ]
    },
    {
     "name": "stdout",
     "output_type": "stream",
     "text": [
      "  run: 7\n"
     ]
    },
    {
     "name": "stderr",
     "output_type": "stream",
     "text": [
      "Epoch: 100%|██████████| 1000/1000 [02:41<00:00,  6.21it/s, loss=0.354, epoch acc\n",
      "100%|███████████████████| 1000/1000 [03:52<00:00,  4.30it/s]\n",
      "100%|███████████████████| 1000/1000 [03:31<00:00,  4.73it/s]\n",
      "100%|███████████████████| 1000/1000 [03:32<00:00,  4.70it/s]\n"
     ]
    },
    {
     "name": "stdout",
     "output_type": "stream",
     "text": [
      "  run: 8\n"
     ]
    },
    {
     "name": "stderr",
     "output_type": "stream",
     "text": [
      "Epoch: 100%|██████████| 1000/1000 [02:42<00:00,  6.15it/s, loss=0.347, epoch acc\n",
      "100%|███████████████████| 1000/1000 [03:46<00:00,  4.41it/s]\n",
      "100%|███████████████████| 1000/1000 [03:32<00:00,  4.72it/s]\n",
      "100%|███████████████████| 1000/1000 [03:29<00:00,  4.76it/s]\n"
     ]
    },
    {
     "name": "stdout",
     "output_type": "stream",
     "text": [
      "  run: 9\n"
     ]
    },
    {
     "name": "stderr",
     "output_type": "stream",
     "text": [
      "Epoch: 100%|██████████| 1000/1000 [02:40<00:00,  6.21it/s, loss=0.357, epoch acc\n",
      "100%|███████████████████| 1000/1000 [03:50<00:00,  4.34it/s]\n",
      "100%|███████████████████| 1000/1000 [03:31<00:00,  4.73it/s]\n",
      "100%|███████████████████| 1000/1000 [03:32<00:00,  4.71it/s]\n"
     ]
    },
    {
     "name": "stdout",
     "output_type": "stream",
     "text": [
      "  run: 10\n"
     ]
    },
    {
     "name": "stderr",
     "output_type": "stream",
     "text": [
      "Epoch: 100%|██████████| 1000/1000 [02:42<00:00,  6.14it/s, loss=0.347, epoch acc\n",
      "100%|███████████████████| 1000/1000 [03:54<00:00,  4.26it/s]\n",
      "100%|███████████████████| 1000/1000 [03:31<00:00,  4.72it/s]\n",
      "100%|███████████████████| 1000/1000 [03:32<00:00,  4.71it/s]\n"
     ]
    },
    {
     "name": "stdout",
     "output_type": "stream",
     "text": [
      "dataset: magic\n",
      "  run: 1\n"
     ]
    },
    {
     "name": "stderr",
     "output_type": "stream",
     "text": [
      "Epoch: 100%|██████████| 1000/1000 [02:10<00:00,  7.65it/s, loss=0.491, epoch acc\n",
      "100%|███████████████████| 1000/1000 [02:58<00:00,  5.61it/s]\n",
      "100%|███████████████████| 1000/1000 [02:33<00:00,  6.51it/s]\n",
      "100%|███████████████████| 1000/1000 [02:37<00:00,  6.34it/s]\n"
     ]
    },
    {
     "name": "stdout",
     "output_type": "stream",
     "text": [
      "  run: 2\n"
     ]
    },
    {
     "name": "stderr",
     "output_type": "stream",
     "text": [
      "Epoch: 100%|██████████| 1000/1000 [02:10<00:00,  7.63it/s, loss=0.494, epoch acc\n",
      "100%|███████████████████| 1000/1000 [02:59<00:00,  5.58it/s]\n",
      "100%|███████████████████| 1000/1000 [02:36<00:00,  6.41it/s]\n",
      "100%|███████████████████| 1000/1000 [02:36<00:00,  6.41it/s]\n"
     ]
    },
    {
     "name": "stdout",
     "output_type": "stream",
     "text": [
      "  run: 3\n"
     ]
    },
    {
     "name": "stderr",
     "output_type": "stream",
     "text": [
      "Epoch: 100%|██████████| 1000/1000 [02:11<00:00,  7.61it/s, loss=0.493, epoch acc\n",
      "100%|███████████████████| 1000/1000 [02:54<00:00,  5.72it/s]\n",
      "100%|███████████████████| 1000/1000 [02:34<00:00,  6.45it/s]\n",
      "100%|███████████████████| 1000/1000 [02:34<00:00,  6.47it/s]\n"
     ]
    },
    {
     "name": "stdout",
     "output_type": "stream",
     "text": [
      "  run: 4\n"
     ]
    },
    {
     "name": "stderr",
     "output_type": "stream",
     "text": [
      "Epoch: 100%|██████████| 1000/1000 [02:11<00:00,  7.63it/s, loss=0.493, epoch acc\n",
      "100%|███████████████████| 1000/1000 [02:58<00:00,  5.60it/s]\n",
      "100%|███████████████████| 1000/1000 [02:36<00:00,  6.37it/s]\n",
      "100%|███████████████████| 1000/1000 [02:37<00:00,  6.35it/s]\n"
     ]
    },
    {
     "name": "stdout",
     "output_type": "stream",
     "text": [
      "  run: 5\n"
     ]
    },
    {
     "name": "stderr",
     "output_type": "stream",
     "text": [
      "Epoch: 100%|██████████| 1000/1000 [02:11<00:00,  7.58it/s, loss=0.49, epoch accu\n",
      "100%|███████████████████| 1000/1000 [02:56<00:00,  5.67it/s]\n",
      "100%|███████████████████| 1000/1000 [02:36<00:00,  6.40it/s]\n",
      "100%|███████████████████| 1000/1000 [02:37<00:00,  6.34it/s]\n"
     ]
    },
    {
     "name": "stdout",
     "output_type": "stream",
     "text": [
      "  run: 6\n"
     ]
    },
    {
     "name": "stderr",
     "output_type": "stream",
     "text": [
      "Epoch: 100%|██████████| 1000/1000 [02:11<00:00,  7.62it/s, loss=0.489, epoch acc\n",
      "100%|███████████████████| 1000/1000 [03:03<00:00,  5.45it/s]\n",
      "100%|███████████████████| 1000/1000 [02:37<00:00,  6.36it/s]\n",
      "100%|███████████████████| 1000/1000 [02:37<00:00,  6.36it/s]\n"
     ]
    },
    {
     "name": "stdout",
     "output_type": "stream",
     "text": [
      "  run: 7\n"
     ]
    },
    {
     "name": "stderr",
     "output_type": "stream",
     "text": [
      "Epoch: 100%|██████████| 1000/1000 [02:14<00:00,  7.44it/s, loss=0.492, epoch acc\n",
      "100%|███████████████████| 1000/1000 [03:04<00:00,  5.43it/s]\n",
      "100%|███████████████████| 1000/1000 [02:38<00:00,  6.32it/s]\n",
      "100%|███████████████████| 1000/1000 [02:40<00:00,  6.22it/s]\n"
     ]
    },
    {
     "name": "stdout",
     "output_type": "stream",
     "text": [
      "  run: 8\n"
     ]
    },
    {
     "name": "stderr",
     "output_type": "stream",
     "text": [
      "Epoch: 100%|██████████| 1000/1000 [02:13<00:00,  7.48it/s, loss=0.492, epoch acc\n",
      "100%|███████████████████| 1000/1000 [03:01<00:00,  5.51it/s]\n",
      "100%|███████████████████| 1000/1000 [02:37<00:00,  6.33it/s]\n",
      "100%|███████████████████| 1000/1000 [02:37<00:00,  6.34it/s]\n"
     ]
    },
    {
     "name": "stdout",
     "output_type": "stream",
     "text": [
      "  run: 9\n"
     ]
    },
    {
     "name": "stderr",
     "output_type": "stream",
     "text": [
      "Epoch: 100%|██████████| 1000/1000 [02:15<00:00,  7.39it/s, loss=0.493, epoch acc\n",
      "100%|███████████████████| 1000/1000 [02:59<00:00,  5.56it/s]\n",
      "100%|███████████████████| 1000/1000 [02:39<00:00,  6.28it/s]\n",
      "100%|███████████████████| 1000/1000 [02:37<00:00,  6.33it/s]\n"
     ]
    },
    {
     "name": "stdout",
     "output_type": "stream",
     "text": [
      "  run: 10\n"
     ]
    },
    {
     "name": "stderr",
     "output_type": "stream",
     "text": [
      "Epoch: 100%|██████████| 1000/1000 [02:15<00:00,  7.38it/s, loss=0.494, epoch acc\n",
      "100%|███████████████████| 1000/1000 [03:01<00:00,  5.52it/s]\n",
      "100%|███████████████████| 1000/1000 [02:38<00:00,  6.33it/s]\n",
      "100%|███████████████████| 1000/1000 [02:40<00:00,  6.21it/s]\n"
     ]
    }
   ],
   "source": [
    "runs = 10\n",
    "for name in ['adult', 'heloc', 'house', 'magic']:\n",
    "    accuracies = {}\n",
    "    sparsities = {}\n",
    "    for network in networks:\n",
    "        accuracies[network] = []\n",
    "        sparsities[network] = []\n",
    "        \n",
    "    print('dataset:', name)\n",
    "    for run in range(runs):\n",
    "        print('  run:', run+1)\n",
    "        X, Y, X_headers, Y_headers = transform_dataset(name, method='onehot-compare', negations=False, labels='binary')\n",
    "        datasets = kfold_dataset(X, Y, shuffle=1)\n",
    "        X_train, X_test, Y_train, Y_test = datasets[0]\n",
    "        train_set = torch.utils.data.TensorDataset(torch.Tensor(X_train.to_numpy()), torch.Tensor(Y_train))\n",
    "        test_set = torch.utils.data.TensorDataset(torch.Tensor(X_test.to_numpy()), torch.Tensor(Y_test))\n",
    "        \n",
    "        for network in networks:\n",
    "            accuracy, sparsity = run_network(network)\n",
    "            accuracies[network].append(accuracy)\n",
    "            sparsities[network].append(sparsity)\n",
    "\n",
    "    with open(f'exp1-accuracies-{name}.json', 'w') as file:\n",
    "        json.dump(accuracies, file)\n",
    "\n",
    "    with open(f'exp1-sparsities-{name}.json', 'w') as file:\n",
    "        json.dump(sparsities, file)"
   ]
  }
 ],
 "metadata": {
  "kernelspec": {
   "display_name": "Python 3 (ipykernel)",
   "language": "python",
   "name": "python3"
  },
  "language_info": {
   "codemirror_mode": {
    "name": "ipython",
    "version": 3
   },
   "file_extension": ".py",
   "mimetype": "text/x-python",
   "name": "python",
   "nbconvert_exporter": "python",
   "pygments_lexer": "ipython3",
   "version": "3.8.10"
  }
 },
 "nbformat": 4,
 "nbformat_minor": 5
}
