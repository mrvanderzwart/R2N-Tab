{
 "cells": [
  {
   "cell_type": "code",
   "execution_count": 1,
   "id": "d47d205b-73e1-4825-842d-3043855527f4",
   "metadata": {},
   "outputs": [],
   "source": [
    "import torch\n",
    "import numpy as np\n",
    "\n",
    "from datasets.dataset import transform_dataset, kfold_dataset\n",
    "from R2Ntab import train as train_r2ntab, R2Ntab\n",
    "from DRNet import train as train_drnet, DRNet\n",
    "\n",
    "import sys\n",
    "\n",
    "import matplotlib.pyplot as plt\n",
    "import numpy as np"
   ]
  },
  {
   "cell_type": "code",
   "execution_count": 2,
   "id": "09655085-1479-4881-bc8d-620534f2d0a5",
   "metadata": {},
   "outputs": [
    {
     "name": "stderr",
     "output_type": "stream",
     "text": [
      "Epoch: 100%|██████████| 1000/1000 [07:51<00:00,  2.12it/s, loss=0.543, epoch accu=0.833, test accu=0.833, num rules=20, sparsity=0.856]\n",
      "Epoch: 100%|██████████| 1000/1000 [09:16<00:00,  1.80it/s, loss=0.558, epoch accu=0.811, test accu=0.818, num rules=10, sparsity=0.976]\n",
      "Epoch: 100%|██████████| 1000/1000 [02:48<00:00,  5.94it/s, loss=0.633, epoch accu=0.628, test accu=0.726, num rules=37, sparsity=0.864]\n",
      "Epoch: 100%|██████████| 1000/1000 [03:16<00:00,  5.09it/s, loss=0.611, epoch accu=0.662, test accu=0.698, num rules=8, sparsity=0.963]\n",
      "Epoch: 100%|██████████| 1000/1000 [05:43<00:00,  2.91it/s, loss=0.352, epoch accu=0.848, test accu=0.863, num rules=37, sparsity=0.91]\n",
      "Epoch: 100%|██████████| 1000/1000 [06:40<00:00,  2.50it/s, loss=0.358, epoch accu=0.846, test accu=0.843, num rules=20, sparsity=0.967]\n",
      "Epoch: 100%|██████████| 1000/1000 [04:38<00:00,  3.59it/s, loss=0.495, epoch accu=0.838, test accu=0.847, num rules=35, sparsity=0.878]\n",
      "Epoch: 100%|██████████| 1000/1000 [05:15<00:00,  3.17it/s, loss=0.503, epoch accu=0.832, test accu=0.835, num rules=16, sparsity=0.96]\n"
     ]
    }
   ],
   "source": [
    "DRNetRules = []\n",
    "DRNetAccus = []\n",
    "R2NTabRules = []\n",
    "R2NTabAccus = []\n",
    "\n",
    "# Read datasets\n",
    "for name in ['adult', 'heloc', 'house', 'magic']:\n",
    "    X, Y, X_headers, Y_headers = transform_dataset(name, method='onehot-compare', negations=False, labels='binary')\n",
    "    datasets = kfold_dataset(X, Y, shuffle=1)\n",
    "    X_train, X_test, Y_train, Y_test = datasets[0]\n",
    "    train_set = torch.utils.data.TensorDataset(torch.Tensor(X_train.to_numpy()), torch.Tensor(Y_train))\n",
    "    test_set = torch.utils.data.TensorDataset(torch.Tensor(X_test.to_numpy()), torch.Tensor(Y_test))\n",
    "    \n",
    "    # Train DR-Net\n",
    "    # Default learning rate (1e-2), and_lam (1e-2), and and_lam (1e-5) usually work the best. A large epochs number is necessary for a sparse rule set i.e 10000 epochs.\n",
    "    net = DRNet(train_set[:][0].size(1), 50, 1)\n",
    "    train_drnet(net, train_set, test_set=test_set, device='cpu', lr=1e-2, epochs=1000, batch_size=400,\n",
    "                and_lam=1e-2, or_lam=1e-5, num_alter=500)\n",
    "    \n",
    "    # Get accuracy and the rule net\n",
    "    accu = (net.predict(np.array(X_test)) == Y_test).mean()\n",
    "    rules = net.get_rules(X_headers)\n",
    "    DRNetRules.append(len(rules))\n",
    "    DRNetAccus.append(accu)\n",
    "    \n",
    "    # Train R2N-tab\n",
    "    # Default learning rate (1e-2), and_lam (1e-2), and and_lam (1e-5) usually work the best. A large epochs number is necessary for a sparse rule set i.e 10000 epochs.\n",
    "    net = R2Ntab(train_set[:][0].size(1), 50, 1)\n",
    "    train_r2ntab(net, train_set, test_set=test_set, device='cpu', lr=1e-2, epochs=1000, batch_size=400,\n",
    "                 and_lam=1e-2, or_lam=1e-5, num_alter=500)\n",
    "    \n",
    "    # Get accuracy and the rule net\n",
    "    accu = (net.predict(np.array(X_test)) == Y_test).mean()\n",
    "    rules = net.get_rules(X_headers)\n",
    "    R2NTabRules.append(len(rules))\n",
    "    R2NTabAccus.append(accu)"
   ]
  },
  {
   "cell_type": "code",
   "execution_count": 3,
   "id": "e7f765d9-2638-4741-8ba6-f86ac19a358d",
   "metadata": {},
   "outputs": [
    {
     "data": {
      "image/png": "[encoded data removed]",
      "text/plain": [
       "<Figure size 432x288 with 1 Axes>"
      ]
     },
     "metadata": {
      "needs_background": "light"
     },
     "output_type": "display_data"
    }
   ],
   "source": [
    "DRNetAccus = np.round(DRNetAccus, decimals=2)\n",
    "R2NTabAccus = np.round(R2NTabAccus, decimals=2)\n",
    "\n",
    "# Define the data for the bars\n",
    "data = np.stack((DRNetRules, R2NTabRules), axis=1)\n",
    "\n",
    "# Define the labels for the x-axis and the legend\n",
    "labels = ['adult', 'heloc', 'house', 'magic']\n",
    "legend_labels = ['DR-Net', 'R2N-Tab']\n",
    "\n",
    "# Define the positions of the bars on the x-axis\n",
    "x_positions = np.arange(len(labels))\n",
    "\n",
    "# Define the width of the bars\n",
    "bar_width = 0.35\n",
    "\n",
    "# Plot the bars\n",
    "fig, ax = plt.subplots()\n",
    "for i in range(data.shape[1]):\n",
    "    rects = ax.bar(x_positions + i * bar_width, data[:, i], bar_width, label=legend_labels[i])\n",
    "    # Add text labels above the bars\n",
    "    for j, rect in enumerate(rects):\n",
    "        height = rect.get_height()\n",
    "        if i == 0:\n",
    "            label = DRNetAccus[j]\n",
    "        else:\n",
    "            label = R2NTabAccus[j]\n",
    "        ax.text(rect.get_x() + rect.get_width() / 2, height, label, ha='center', va='bottom')\n",
    "\n",
    "# Add labels and title to the plot\n",
    "ax.set_xlabel('Dataset')\n",
    "ax.set_ylabel('# Rules')\n",
    "ax.set_title('# Rules / accuracy per network per dataset for 1000 epochs')\n",
    "\n",
    "# Add x-axis ticks and labels\n",
    "ax.set_xticks(x_positions + bar_width / 2)\n",
    "ax.set_xticklabels(labels)\n",
    "\n",
    "# Add a legend to the plot\n",
    "ax.legend()\n",
    "\n",
    "# Show the plot\n",
    "plt.show()"
   ]
  },
  {
   "cell_type": "code",
   "execution_count": null,
   "id": "8bedbd45-d271-4e13-abe1-4c8eeb54d924",
   "metadata": {},
   "outputs": [],
   "source": []
  }
 ],
 "metadata": {
  "kernelspec": {
   "display_name": "Python 3",
   "language": "python",
   "name": "python3"
  },
  "language_info": {
   "codemirror_mode": {
    "name": "ipython",
    "version": 3
   },
   "file_extension": ".py",
   "mimetype": "text/x-python",
   "name": "python",
   "nbconvert_exporter": "python",
   "pygments_lexer": "ipython3",
   "version": "3.6.9"
  }
 },
 "nbformat": 4,
 "nbformat_minor": 5
}
