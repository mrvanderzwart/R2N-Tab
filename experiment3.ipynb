{
 "cells": [
  {
   "cell_type": "code",
   "execution_count": 1,
   "id": "820097fa-7317-4014-a998-368608a0c39b",
   "metadata": {},
   "outputs": [],
   "source": [
    "import torch\n",
    "import numpy as np\n",
    "import matplotlib.pyplot as plt\n",
    "\n",
    "from datasets.dataset import transform_dataset, kfold_dataset\n",
    "from sklearn.ensemble import GradientBoostingClassifier\n",
    "from sklearn.decomposition import PCA\n",
    "from R2Ntab import train as train, R2Ntab"
   ]
  },
  {
   "cell_type": "code",
   "execution_count": 7,
   "id": "c6194a87-9a5c-4787-a6dd-482eb341930f",
   "metadata": {},
   "outputs": [],
   "source": [
    "def fix_cancel_layer(net, features):\n",
    "    with torch.no_grad():\n",
    "        for feature in features:\n",
    "            net.cancelout_layer.weights[feature] = -1\n",
    "\n",
    "feature_selectors = ['r2ntab', 'gb', 'pca']\n",
    "def run_selector(feature_selector):\n",
    "    if feature_selector == 'r2ntab':\n",
    "        model = R2Ntab(train_set[:][0].size(1), 50, 1)\n",
    "        acc = train(model, train_set, test_set=test_set, device='cpu', lr_rules=1e-2, lr_cancel=1e-2, \n",
    "                epochs=1000, batch_size=400, and_lam=1e-2, or_lam=1e-5, cancel_lam=1e-4, num_alter=500, track_performance=True)\n",
    "        sparsity = sum(map(len, model.get_rules(X_headers)))\n",
    "    elif feature_selector == 'gb':\n",
    "        gb = GradientBoostingClassifier(n_estimators=50, random_state=0)\n",
    "        gb.fit(X_train, Y_train)\n",
    "        cancelled_features = np.where(gb.feature_importances_ == 0)[0]\n",
    "        model = R2Ntab(train_set[:][0].size(1), 50, 1)\n",
    "        fix_cancel_layer(model, cancelled_features)\n",
    "        acc = train(model, train_set, test_set=test_set, device='cpu', lr_rules=1e-2, lr_cancel=0, \n",
    "                epochs=1000, batch_size=400, and_lam=1e-2, or_lam=1e-5, num_alter=500, track_performance=True)\n",
    "        sparsity = sum(map(len, model.get_rules(X_headers)))\n",
    "    elif feature_selector == 'pca':\n",
    "        pca = PCA(n_components=1)\n",
    "        pca.fit(X_train)\n",
    "        component = pca.components_[0]\n",
    "        cancelled_features = list(torch.where(torch.tensor(component) < 0)[0].numpy())\n",
    "        model = R2Ntab(train_set[:][0].size(1), 50, 1)\n",
    "        fix_cancel_layer(model, cancelled_features)\n",
    "        acc = train(model, train_set, test_set=test_set, device='cpu', lr_rules=1e-2, lr_cancel=0, \n",
    "                epochs=1000, batch_size=400, and_lam=1e-2, or_lam=1e-5, num_alter=500, track_performance=True)\n",
    "        sparsity = sum(map(len, model.get_rules(X_headers)))\n",
    "        \n",
    "    return acc, sparsity"
   ]
  },
  {
   "cell_type": "code",
   "execution_count": 8,
   "id": "d6e47a7b-781b-4e49-a818-6a33e6f9485e",
   "metadata": {},
   "outputs": [
    {
     "name": "stdout",
     "output_type": "stream",
     "text": [
      "run 1\n"
     ]
    },
    {
     "name": "stderr",
     "output_type": "stream",
     "text": [
      "Epoch: 100%|██████████| 1000/1000 [01:32<00:00, 10.77it/s, rules cancelled=56, l\n",
      "Epoch: 100%|██████████| 1000/1000 [01:34<00:00, 10.61it/s, rules cancelled=63, l\n",
      "Epoch: 100%|██████████| 1000/1000 [01:35<00:00, 10.50it/s, rules cancelled=73, l\n"
     ]
    }
   ],
   "source": [
    "datasets = ['heloc']\n",
    "runs = 1\n",
    "accuracies = {}\n",
    "sparsities = {}\n",
    "for fs in feature_selectors:\n",
    "    accuracies[fs] = []\n",
    "    sparsities[fs] = []\n",
    "    \n",
    "for dataset in datasets:\n",
    "    # Read datasets\n",
    "    X, Y, X_headers, Y_headers = transform_dataset(dataset, method='onehot-compare', negations=False, labels='binary')\n",
    "    datasets = kfold_dataset(X, Y, shuffle=1)\n",
    "    X_train, X_test, Y_train, Y_test = datasets[0]\n",
    "    train_set = torch.utils.data.TensorDataset(torch.Tensor(X_train.to_numpy()), torch.Tensor(Y_train))\n",
    "    test_set = torch.utils.data.TensorDataset(torch.Tensor(X_test.to_numpy()), torch.Tensor(Y_test))\n",
    "\n",
    "    for run in range(runs):\n",
    "        print(f'run {run+1}') \n",
    "        for fs in feature_selectors:\n",
    "            acc, sparsity = run_selector(fs)\n",
    "            \n",
    "            accuracies[fs].append(acc)\n",
    "            sparsities[fs].append(sparsity)"
   ]
  },
  {
   "cell_type": "code",
   "execution_count": 4,
   "id": "03db154e-8a0c-477a-b1c5-2f89098fa374",
   "metadata": {},
   "outputs": [
    {
     "data": {
      "text/plain": [
       "GradientBoostingClassifier(n_estimators=50, random_state=0)"
      ]
     },
     "execution_count": 4,
     "metadata": {},
     "output_type": "execute_result"
    }
   ],
   "source": [
    "forest = GradientBoostingClassifier(n_estimators=50, random_state=0)\n",
    "forest.fit(X_train, Y_train)"
   ]
  },
  {
   "cell_type": "code",
   "execution_count": 5,
   "id": "211524c6-2e6c-4647-901a-48287fb3d774",
   "metadata": {
    "tags": []
   },
   "outputs": [
    {
     "name": "stdout",
     "output_type": "stream",
     "text": [
      "Features removed using Gradient Boosting: [0, 6, 7, 8, 11, 14, 15, 16, 19, 20, 21, 23, 24, 25, 26, 28, 29, 30, 31, 38, 40, 50, 51, 52, 54, 55, 61, 63, 68, 69, 73, 74, 75, 76, 77, 85, 86, 87, 88, 89, 90, 91, 92, 93, 94, 95, 96, 99, 100, 101, 102, 103, 104, 106, 107, 108, 109, 111, 112, 113, 114, 115, 116, 117, 118, 119, 120, 121, 122, 123, 127]\n",
      "# Features removed using Gradient Boosting: 71\n"
     ]
    }
   ],
   "source": [
    "feature_weight = forest.feature_importances_\n",
    "gb_features = np.where(feature_weight == 0)[0]\n",
    "print('Features removed using Gradient Boosting:', sorted(gb_features))\n",
    "print('# Features removed using Gradient Boosting:', len(gb_features))"
   ]
  },
  {
   "cell_type": "code",
   "execution_count": 6,
   "id": "b64dc53c-2923-4dd5-bdc8-feccb41dd137",
   "metadata": {
    "tags": []
   },
   "outputs": [
    {
     "name": "stderr",
     "output_type": "stream",
     "text": [
      "Epoch: 100%|██████████| 1000/1000 [14:41<00:00,  1.13it/s, rules cancelled=71, loss=0.553, epoch accu=0.82, test accu=0.821, num rules=32, sparsity=0.909] \n"
     ]
    }
   ],
   "source": [
    "gb_net = R2Ntab(train_set[:][0].size(1), 50, 1)\n",
    "with torch.no_grad():\n",
    "    for feature in gb_features:\n",
    "        gb_net.cancelout_layer.weight[feature] = -1\n",
    "    \n",
    "gb_acc, gb_rules = train(gb_net, train_set, test_set=test_set, device='cpu', lr_rules=1e-2, lr_cancel=0, epochs=1000, batch_size=400,\n",
    "                     and_lam=1e-2, or_lam=1e-5, cancel_lam=1e-5, num_alter=500, track_performance=True)"
   ]
  },
  {
   "cell_type": "code",
   "execution_count": 7,
   "id": "2bc23bcf-c9c4-4ea8-8aa5-e93ce695191a",
   "metadata": {},
   "outputs": [
    {
     "data": {
      "text/plain": [
       "PCA(n_components=1)"
      ]
     },
     "execution_count": 7,
     "metadata": {},
     "output_type": "execute_result"
    }
   ],
   "source": [
    "pca = PCA(n_components=1)\n",
    "pca.fit(X_train)"
   ]
  },
  {
   "cell_type": "code",
   "execution_count": 8,
   "id": "5995d381-4f37-4e15-92df-40a33840cc8b",
   "metadata": {},
   "outputs": [
    {
     "name": "stdout",
     "output_type": "stream",
     "text": [
      "Features removed using PCA: [0, 1, 2, 3, 4, 5, 6, 7, 8, 11, 25, 26, 27, 28, 29, 31, 36, 38, 40, 41, 42, 43, 44, 45, 47, 49, 50, 51, 53, 54, 58, 59, 60, 61, 64, 65, 68, 69, 70, 71, 73, 75, 76, 79, 80, 81, 82, 83, 84, 85, 86, 87, 90, 92, 93, 94, 99, 100, 101, 102, 103, 107, 109, 111, 112, 113, 114, 115, 119, 123, 126]\n",
      "# Features removed using PCA: 71\n"
     ]
    }
   ],
   "source": [
    "component = pca.components_[0]\n",
    "pca_features = list(torch.where(torch.tensor(component) < 0)[0].numpy())\n",
    "print('Features removed using PCA:', pca_features)\n",
    "print('# Features removed using PCA:', len(pca_features))"
   ]
  },
  {
   "cell_type": "code",
   "execution_count": 9,
   "id": "07625176-eb27-46d3-99da-4bf20ded5613",
   "metadata": {},
   "outputs": [
    {
     "name": "stderr",
     "output_type": "stream",
     "text": [
      "Epoch: 100%|██████████| 1000/1000 [14:30<00:00,  1.15it/s, rules cancelled=71, loss=0.547, epoch accu=0.831, test accu=0.831, num rules=25, sparsity=0.945]\n"
     ]
    }
   ],
   "source": [
    "pca_net = R2Ntab(train_set[:][0].size(1), 50, 1)\n",
    "with torch.no_grad():\n",
    "    for feature in pca_features:\n",
    "        pca_net.cancelout_layer.weight[feature] = -1\n",
    "    \n",
    "pca_acc, pca_rules = train(gb_net, train_set, test_set=test_set, device='cpu', lr_rules=1e-2, lr_cancel=0, epochs=1000, batch_size=400,\n",
    "                     and_lam=1e-2, or_lam=1e-5, cancel_lam=1e-5, num_alter=500, track_performance=True)"
   ]
  },
  {
   "cell_type": "code",
   "execution_count": 10,
   "id": "998136bb-5bb5-47f4-a3c0-39f2c7cd023b",
   "metadata": {},
   "outputs": [
    {
     "name": "stderr",
     "output_type": "stream",
     "text": [
      "Epoch: 100%|██████████| 1000/1000 [14:37<00:00,  1.14it/s, rules cancelled=62, loss=1.07, epoch accu=0.815, test accu=0.822, num rules=6, sparsity=0.867]\n"
     ]
    }
   ],
   "source": [
    "net = R2Ntab(train_set[:][0].size(1), 50, 1)\n",
    "acc, rules = train(net, train_set, test_set=test_set, device='cpu', lr_rules=1e-2, lr_cancel=1e-2, epochs=1000, batch_size=400,\n",
    "                     and_lam=1e-2, or_lam=1e-5, cancel_lam=1, num_alter=500, track_performance=True)"
   ]
  },
  {
   "cell_type": "code",
   "execution_count": 11,
   "id": "cea76f66-8145-4193-99cb-790c832b8950",
   "metadata": {},
   "outputs": [
    {
     "name": "stdout",
     "output_type": "stream",
     "text": [
      "Features removed using R2NTab: [5, 6, 7, 8, 9, 10, 11, 12, 14, 17, 18, 19, 20, 21, 22, 23, 24, 28, 33, 34, 35, 36, 37, 38, 39, 40, 45, 47, 48, 56, 62, 65, 67, 72, 74, 75, 77, 78, 79, 80, 83, 84, 85, 86, 88, 89, 91, 93, 95, 96, 97, 101, 102, 107, 110, 116, 118, 120, 122, 123, 125, 127]\n"
     ]
    }
   ],
   "source": [
    "features = list(torch.where(net.cancelout_layer.weight < 0)[0].numpy())\n",
    "print('Features removed using R2NTab:', features)"
   ]
  },
  {
   "cell_type": "code",
   "execution_count": 21,
   "id": "120530a2-4551-4db4-8542-9b537b8ca21c",
   "metadata": {},
   "outputs": [
    {
     "data": {
      "image/png": "[encoded data removed]",
      "text/plain": [
       "<Figure size 432x288 with 1 Axes>"
      ]
     },
     "metadata": {
      "needs_background": "light"
     },
     "output_type": "display_data"
    }
   ],
   "source": [
    "plt.plot(gb_acc)\n",
    "plt.plot(pca_acc)\n",
    "plt.plot(acc)\n",
    "plt.title('Test accuracy over time for different feature selection approaches')\n",
    "plt.xlabel('Epoch')\n",
    "plt.ylabel('Test accuracy')\n",
    "plt.legend(['Gradient Boosting', 'PCA', 'R2N-Tab'])\n",
    "plt.savefig('accfeatureselection.png')\n",
    "plt.show()"
   ]
  },
  {
   "cell_type": "code",
   "execution_count": 20,
   "id": "ed6597ee-e284-41a3-a318-1af1908a1537",
   "metadata": {},
   "outputs": [
    {
     "data": {
      "image/png": "[encoded data removed]",
      "text/plain": [
       "<Figure size 432x288 with 1 Axes>"
      ]
     },
     "metadata": {
      "needs_background": "light"
     },
     "output_type": "display_data"
    }
   ],
   "source": [
    "plt.plot(gb_rules)\n",
    "plt.plot(pca_rules)\n",
    "plt.plot(rules)\n",
    "plt.title('# Rules over time for different feature selection approaches')\n",
    "plt.xlabel('Epoch')\n",
    "plt.ylabel('# Rules')\n",
    "plt.legend(['Gradient Boosting', 'PCA', 'R2N-Tab'])\n",
    "plt.xlim([500,1000])\n",
    "plt.savefig('rulesfeatureselection.png')\n",
    "plt.show()"
   ]
  }
 ],
 "metadata": {
  "kernelspec": {
   "display_name": "Python 3 (ipykernel)",
   "language": "python",
   "name": "python3"
  },
  "language_info": {
   "codemirror_mode": {
    "name": "ipython",
    "version": 3
   },
   "file_extension": ".py",
   "mimetype": "text/x-python",
   "name": "python",
   "nbconvert_exporter": "python",
   "pygments_lexer": "ipython3",
   "version": "3.8.10"
  }
 },
 "nbformat": 4,
 "nbformat_minor": 5
}
