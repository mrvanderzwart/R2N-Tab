{
 "cells": [
  {
   "cell_type": "code",
   "execution_count": 16,
   "id": "820097fa-7317-4014-a998-368608a0c39b",
   "metadata": {},
   "outputs": [],
   "source": [
    "import torch\n",
    "import numpy as np\n",
    "import matplotlib.pyplot as plt\n",
    "\n",
    "from datasets.dataset import transform_dataset, kfold_dataset\n",
    "from sklearn.ensemble import GradientBoostingClassifier\n",
    "from sklearn.decomposition import PCA\n",
    "from R2Ntab import train as train, R2Ntab"
   ]
  },
  {
   "cell_type": "code",
   "execution_count": 2,
   "id": "d6e47a7b-781b-4e49-a818-6a33e6f9485e",
   "metadata": {},
   "outputs": [],
   "source": [
    "# Read datasets\n",
    "name = 'adult'\n",
    "X, Y, X_headers, Y_headers = transform_dataset(name, method='onehot-compare', negations=False, labels='binary')\n",
    "datasets = kfold_dataset(X, Y, shuffle=1)\n",
    "X_train, X_test, Y_train, Y_test = datasets[0]\n",
    "train_set = torch.utils.data.TensorDataset(torch.Tensor(X_train.to_numpy()), torch.Tensor(Y_train))\n",
    "test_set = torch.utils.data.TensorDataset(torch.Tensor(X_test.to_numpy()), torch.Tensor(Y_test))"
   ]
  },
  {
   "cell_type": "code",
   "execution_count": 3,
   "id": "03db154e-8a0c-477a-b1c5-2f89098fa374",
   "metadata": {},
   "outputs": [
    {
     "data": {
      "text/plain": [
       "GradientBoostingClassifier(n_estimators=50, random_state=0)"
      ]
     },
     "execution_count": 3,
     "metadata": {},
     "output_type": "execute_result"
    }
   ],
   "source": [
    "forest = GradientBoostingClassifier(n_estimators=50, random_state=0)\n",
    "forest.fit(X_train, Y_train)"
   ]
  },
  {
   "cell_type": "code",
   "execution_count": 12,
   "id": "211524c6-2e6c-4647-901a-48287fb3d774",
   "metadata": {
    "tags": []
   },
   "outputs": [
    {
     "name": "stdout",
     "output_type": "stream",
     "text": [
      "Features removed using Gradient Boosting: [0, 6, 7, 8, 11, 14, 15, 16, 19, 20, 21, 23, 24, 25, 26, 28, 29, 30, 31, 38, 40, 50, 51, 52, 54, 55, 61, 63, 68, 69, 73, 74, 75, 76, 77, 85, 86, 87, 88, 89, 90, 91, 92, 93, 94, 95, 96, 99, 100, 101, 102, 103, 104, 106, 107, 108, 109, 111, 112, 113, 114, 115, 116, 117, 118, 119, 120, 121, 122, 123, 127]\n"
     ]
    }
   ],
   "source": [
    "feature_weight = forest.feature_importances_\n",
    "features = np.where(feature_weight == 0)[0]\n",
    "print('Features removed using Gradient Boosting:', sorted(features))"
   ]
  },
  {
   "cell_type": "code",
   "execution_count": 5,
   "id": "b64dc53c-2923-4dd5-bdc8-feccb41dd137",
   "metadata": {
    "tags": []
   },
   "outputs": [
    {
     "name": "stderr",
     "output_type": "stream",
     "text": [
      "Epoch: 100%|██████████| 1000/1000 [15:14<00:00,  1.09it/s, rules cancelled=71, loss=0.547, epoch accu=0.827, test accu=0.829, num rules=26, sparsity=0.913]\n"
     ]
    }
   ],
   "source": [
    "net1 = R2Ntab(train_set[:][0].size(1), 50, 1)\n",
    "with torch.no_grad():\n",
    "    for feature in features:\n",
    "        net1.cancelout_layer.weight[feature] = -1\n",
    "    \n",
    "acc1, rules1 = train(net1, train_set, test_set=test_set, device='cpu', lr_rules=1e-2, lr_cancel=0, epochs=1000, batch_size=400,\n",
    "                     and_lam=1e-2, or_lam=1e-5, cancel_lam=1e-5, num_alter=500, track_performance=True)"
   ]
  },
  {
   "cell_type": "code",
   "execution_count": 6,
   "id": "07625176-eb27-46d3-99da-4bf20ded5613",
   "metadata": {},
   "outputs": [
    {
     "name": "stderr",
     "output_type": "stream",
     "text": [
      "Epoch: 100%|██████████| 1000/1000 [14:44<00:00,  1.13it/s, rules cancelled=79, loss=0.595, epoch accu=0.754, test accu=0.758, num rules=6, sparsity=0.952]\n"
     ]
    }
   ],
   "source": [
    "net2 = R2Ntab(train_set[:][0].size(1), 50, 1)\n",
    "acc2, rules2 = train(net2, train_set, test_set=test_set, device='cpu', lr_rules=1e-2, lr_cancel=2e-3, epochs=1000, batch_size=400,\n",
    "                     and_lam=1e-2, or_lam=1e-5, cancel_lam=1e-5, num_alter=500, track_performance=True)"
   ]
  },
  {
   "cell_type": "code",
   "execution_count": 13,
   "id": "cea76f66-8145-4193-99cb-790c832b8950",
   "metadata": {},
   "outputs": [
    {
     "name": "stdout",
     "output_type": "stream",
     "text": [
      "Features removed using R2NTab: [0, 1, 2, 3, 6, 7, 8, 12, 13, 14, 15, 19, 20, 24, 25, 26, 27, 28, 29, 30, 31, 34, 35, 36, 37, 38, 39, 40, 41, 42, 43, 44, 45, 46, 48, 49, 50, 51, 52, 55, 56, 57, 58, 59, 60, 61, 62, 66, 67, 68, 69, 70, 71, 72, 73, 77, 78, 79, 81, 84, 85, 86, 90, 92, 94, 98, 99, 103, 109, 111, 112, 113, 114, 115, 117, 121, 124, 125, 126]\n"
     ]
    }
   ],
   "source": [
    "features = list(torch.where(net2.cancelout_layer.weight < 0)[0].numpy())\n",
    "print('Features removed using R2NTab:', features)"
   ]
  },
  {
   "cell_type": "code",
   "execution_count": 26,
   "id": "120530a2-4551-4db4-8542-9b537b8ca21c",
   "metadata": {},
   "outputs": [
    {
     "name": "stdout",
     "output_type": "stream",
     "text": [
      "Features removed using PCA: [0, 1, 2, 3, 4, 5, 6, 7, 8, 11, 25, 26, 27, 28, 29, 31, 36, 38, 40, 41, 42, 43, 44, 45, 47, 49, 50, 51, 53, 54, 58, 59, 60, 61, 64, 65, 68, 69, 70, 71, 73, 75, 76, 79, 80, 81, 82, 83, 84, 85, 86, 87, 90, 92, 93, 94, 99, 100, 101, 102, 103, 107, 109, 111, 112, 113, 114, 115, 119, 123, 126]\n"
     ]
    }
   ],
   "source": [
    "pca = PCA(n_components=1)\n",
    "pca.fit(X_train)\n",
    "component = pca.components_[0]\n",
    "features = list(torch.where(torch.tensor(component) < 0)[0].numpy())\n",
    "print('Features removed using PCA:', features)"
   ]
  },
  {
   "cell_type": "code",
   "execution_count": 16,
   "id": "2a6fc98f-0ffa-4c2c-8893-aa73623db1c2",
   "metadata": {},
   "outputs": [
    {
     "data": {
      "image/png": "[encoded data removed]",
      "text/plain": [
       "<Figure size 432x288 with 1 Axes>"
      ]
     },
     "metadata": {
      "needs_background": "light"
     },
     "output_type": "display_data"
    }
   ],
   "source": [
    "plt.plot(acc1)\n",
    "plt.plot(acc2)\n",
    "plt.legend(['GB acc', 'R2NTab acc'])\n",
    "plt.show()"
   ]
  },
  {
   "cell_type": "code",
   "execution_count": 17,
   "id": "ed6597ee-e284-41a3-a318-1af1908a1537",
   "metadata": {},
   "outputs": [
    {
     "data": {
      "image/png": "[encoded data removed]",
      "text/plain": [
       "<Figure size 432x288 with 1 Axes>"
      ]
     },
     "metadata": {
      "needs_background": "light"
     },
     "output_type": "display_data"
    }
   ],
   "source": [
    "plt.plot(rules1)\n",
    "plt.plot(rules2)\n",
    "plt.legend(['GB rules', 'R2NTab rules'])\n",
    "plt.show()"
   ]
  }
 ],
 "metadata": {
  "kernelspec": {
   "display_name": "Python 3",
   "language": "python",
   "name": "python3"
  },
  "language_info": {
   "codemirror_mode": {
    "name": "ipython",
    "version": 3
   },
   "file_extension": ".py",
   "mimetype": "text/x-python",
   "name": "python",
   "nbconvert_exporter": "python",
   "pygments_lexer": "ipython3",
   "version": "3.6.9"
  }
 },
 "nbformat": 4,
 "nbformat_minor": 5
}
