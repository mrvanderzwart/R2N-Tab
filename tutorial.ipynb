{
 "cells": [
  {
   "cell_type": "code",
   "execution_count": 1,
   "id": "b44bab5d-a11d-4003-96ff-4f71c083fef0",
   "metadata": {
    "tags": []
   },
   "outputs": [],
   "source": [
    "import torch\n",
    "import numpy as np\n",
    "import sys\n",
    "\n",
    "sys.path.insert(0, './src')\n",
    "sys.path.insert(0, './src/include')\n",
    "\n",
    "from datasets.dataset import transform_dataset, kfold_dataset\n",
    "from sklearn.metrics import roc_auc_score\n",
    "from R2Ntab import R2Ntab\n",
    "from DRNet import train as train_drnet, DRNet"
   ]
  },
  {
   "cell_type": "markdown",
   "id": "0a0eb08c-46fa-4cec-bb5c-ec61ba0b1b71",
   "metadata": {},
   "source": [
    "## Prepare data"
   ]
  },
  {
   "cell_type": "code",
   "execution_count": 2,
   "id": "f49dd5dd-aca4-46a7-8bbe-781f1a057ed3",
   "metadata": {
    "tags": []
   },
   "outputs": [],
   "source": [
    "name = 'adult'\n",
    "X, Y, X_headers, Y_headers = transform_dataset(name, method='onehot-compare', negations=False, labels='binary')\n",
    "datasets = kfold_dataset(X, Y, shuffle=1)\n",
    "X_train, X_test, Y_train, Y_test = datasets[0]\n",
    "train_set = torch.utils.data.TensorDataset(torch.Tensor(X_train.to_numpy()), torch.Tensor(Y_train))\n",
    "test_set = torch.utils.data.TensorDataset(torch.Tensor(X_test.to_numpy()), torch.Tensor(Y_test))"
   ]
  },
  {
   "cell_type": "markdown",
   "id": "ce0e7170-647b-4d86-ba79-0510a69459b4",
   "metadata": {},
   "source": [
    "## Run DR-Net"
   ]
  },
  {
   "cell_type": "code",
   "execution_count": 3,
   "id": "164b1653-7cf7-4cbe-9c3b-0ad0bbbc5f15",
   "metadata": {
    "tags": []
   },
   "outputs": [
    {
     "name": "stderr",
     "output_type": "stream",
     "text": [
      "Epoch: 100%|██████████| 1000/1000 [03:11<00:00,  5.22it/s, loss=0.552, epoch acc\n"
     ]
    }
   ],
   "source": [
    "drnet = DRNet(train_set[:][0].size(1), 20, 1)\n",
    "train_drnet(drnet, train_set, test_set, device='cpu', epochs=1000, batch_size=400)"
   ]
  },
  {
   "cell_type": "code",
   "execution_count": 7,
   "id": "a30dd87a-a164-4952-8e41-9f98334ca059",
   "metadata": {},
   "outputs": [
    {
     "name": "stdout",
     "output_type": "stream",
     "text": [
      "[['NOT age<=26.0', 'NOT education==7th-8th', 'NOT education==9th', 'NOT marital-status==Divorced', 'marital-status==Married-civ-spouse', 'NOT occupation==Farming-fishing', 'NOT occupation==Handlers-cleaners', 'NOT occupation==Machine-op-inspct', 'NOT occupation==Other-service', 'NOT occupation==Sales', 'NOT relationship==Not-in-family', 'NOT relationship==Own-child', 'NOT capital-gain<=0.0', 'NOT hours-per-week<=25.0', 'NOT hours-per-week<=40.0', 'NOT hours-per-week<=42.0', 'NOT native-country==Poland'], ['NOT age<=26.0', 'NOT workclass==Local-gov', 'NOT education==Assoc-voc', 'NOT education==Bachelors', 'NOT education==Some-college', 'NOT education_num<=7.0', 'marital-status==Married-civ-spouse', 'NOT occupation==Adm-clerical', 'NOT occupation==Craft-repair', 'NOT occupation==Farming-fishing', 'NOT occupation==Handlers-cleaners', 'NOT occupation==Machine-op-inspct', 'NOT occupation==Other-service', 'NOT occupation==Priv-house-serv', 'NOT occupation==Protective-serv', 'NOT occupation==Sales', 'NOT occupation==Transport-moving', 'NOT relationship==Not-in-family', 'NOT relationship==Other-relative', 'NOT relationship==Own-child', 'NOT relationship==Unmarried', 'NOT hours-per-week<=25.0', 'NOT hours-per-week<=40.0', 'NOT hours-per-week<=42.0', 'NOT native-country==Greece', 'NOT native-country==Mexico', 'NOT native-country==South', 'NOT native-country==Vietnam'], ['age<=57.0', 'workclass==Self-emp-inc', 'NOT fnlwgt<=106260.20000000001', 'fnlwgt<=178425.0', 'NOT education_num<=10.0', 'NOT occupation==Adm-clerical', 'NOT occupation==Craft-repair', 'relationship==Husband', 'NOT race==Other', 'NOT hours-per-week<=36.0', 'NOT native-country==Jamaica'], ['NOT age<=26.0', 'NOT education_num<=7.0', 'marital-status==Married-civ-spouse', 'NOT occupation==Farming-fishing', 'NOT occupation==Handlers-cleaners', 'NOT occupation==Other-service', 'NOT occupation==Protective-serv', 'NOT relationship==Not-in-family', 'NOT relationship==Own-child', 'NOT capital-gain<=0.0', 'NOT hours-per-week<=25.0', 'NOT native-country==Columbia', 'NOT native-country==El-Salvador', 'NOT native-country==Greece', 'NOT native-country==Jamaica', 'NOT native-country==Poland', 'NOT native-country==Vietnam'], ['NOT age<=26.0', 'NOT education==10th', 'NOT education==7th-8th', 'NOT education==9th', 'NOT education==Assoc-voc', 'NOT education==HS-grad', 'NOT education==Some-college', 'NOT education_num<=9.0', 'NOT education_num<=11.0', 'NOT occupation==Adm-clerical', 'NOT occupation==Craft-repair', 'NOT occupation==Farming-fishing', 'NOT occupation==Machine-op-inspct', 'NOT occupation==Other-service', 'NOT occupation==Protective-serv', 'relationship==Not-in-family', 'NOT relationship==Own-child', 'NOT relationship==Unmarried', 'NOT capital-gain<=0.0', 'NOT hours-per-week<=25.0', 'NOT native-country==Greece', 'NOT native-country==India', 'NOT native-country==Poland'], ['workclass==Self-emp-inc', 'education==Prof-school', 'race==Amer-Indian-Eskimo', 'native-country==Poland'], ['age<=57.0', 'education==Doctorate', 'NOT education_num<=11.0', 'marital-status==Married-AF-spouse', 'relationship==Husband', 'native-country==Mexico'], ['NOT age<=26.0', 'NOT education==Some-college', 'NOT education_num<=7.0', 'NOT education_num<=9.0', 'marital-status==Married-civ-spouse', 'NOT occupation==Craft-repair', 'NOT occupation==Farming-fishing', 'NOT occupation==Handlers-cleaners', 'NOT occupation==Other-service', 'occupation==Transport-moving', 'NOT relationship==Not-in-family', 'NOT relationship==Other-relative', 'NOT capital-gain<=0.0', 'NOT hours-per-week<=40.0'], ['NOT age<=26.0', 'NOT education==Assoc-acdm', 'NOT education==Assoc-voc', 'NOT education==Some-college', 'NOT education_num<=9.0', 'NOT education_num<=10.0', 'marital-status==Married-civ-spouse', 'NOT occupation==Handlers-cleaners', 'NOT relationship==Own-child', 'NOT native-country==Columbia', 'NOT native-country==Mexico', 'NOT native-country==Puerto-Rico']]\n",
      "AUC: 0.7847621418206414, num rules: 9, num conditions: 132\n"
     ]
    }
   ],
   "source": [
    "auc_drnet = roc_auc_score(drnet.predict(np.array(X_test)), Y_test)\n",
    "rules_drnet = drnet.get_rules(X_headers)\n",
    "print(rules_drnet)\n",
    "print(f'AUC: {auc_drnet}, num rules: {len(rules_drnet)}, num conditions: {sum(map(len, rules_drnet))}')"
   ]
  },
  {
   "cell_type": "markdown",
   "id": "f32ebba1-791c-44e3-be94-dacb3ee7abc5",
   "metadata": {},
   "source": [
    "## Run R2N-Tab"
   ]
  },
  {
   "cell_type": "code",
   "execution_count": 5,
   "id": "8f37ea8a-e801-4275-bc56-8f1bf2a6196c",
   "metadata": {
    "tags": []
   },
   "outputs": [
    {
     "name": "stderr",
     "output_type": "stream",
     "text": [
      "100%|█████████| 1000/1000 [03:42<00:00,  4.50it/s]\n"
     ]
    }
   ],
   "source": [
    "# Train R2N-tab\n",
    "r2ntab = R2Ntab(len(X_headers), 20, 1)\n",
    "r2ntab.fit(train_set, epochs=1000, batch_size=400, cancel_lam=1e-2)"
   ]
  },
  {
   "cell_type": "code",
   "execution_count": 6,
   "id": "0cb8b468-011e-48c9-aad1-24974f3bfaa2",
   "metadata": {
    "tags": []
   },
   "outputs": [
    {
     "name": "stdout",
     "output_type": "stream",
     "text": [
      "Rulelist:\n",
      "if [ not age<=26.0 && not education_num<=7.0 && not marital-status==Divorced && marital-status==Married-civ-spouse && not marital-status==Never-married && not occupation==Farming-fishing && not occupation==Machine-op-inspct && not occupation==Other-service && not relationship==Not-in-family && not capital-gain<=0.0 && not hours-per-week<=25.0 && native-country==United-States ]:\n",
      "  prediction = true\n",
      "else if [ not age<=26.0 && not age<=30.0 && marital-status==Married-civ-spouse && occupation==Exec-managerial && not capital-loss<=0.0 && not hours-per-week<=25.0 && hours-per-week<=42.0 ]:\n",
      "  prediction = true\n",
      "else if [ not age<=26.0 && not education_num<=10.0 && not education_num<=11.0 && not marital-status==Married-civ-spouse && not occupation==Other-service && not capital-gain<=0.0 && not hours-per-week<=25.0 ]:\n",
      "  prediction = true\n",
      "else if [ not age<=30.0 && age<=57.0 && not education_num<=13.0 && not marital-status==Divorced && marital-status==Married-civ-spouse && not marital-status==Never-married && not occupation==Farming-fishing && not occupation==Machine-op-inspct && not occupation==Other-service && native-country==United-States ]:\n",
      "  prediction = true\n",
      "else if [ not age<=26.0 && not education_num<=10.0 && not education_num<=11.0 && marital-status==Married-civ-spouse && not occupation==Farming-fishing && not occupation==Machine-op-inspct && not occupation==Other-service && not occupation==Transport-moving ]:\n",
      "  prediction = true\n",
      "else\n",
      "  prediction = false\n",
      "AUC: 0.7936632129675733, num rules: 5, num conditions: 44\n"
     ]
    }
   ],
   "source": [
    "# Get accuracy and the rule net\n",
    "Y_pred = r2ntab.predict(X_test)\n",
    "rules = r2ntab.extract_rules(X_headers, print_rules=True)\n",
    "print(f'AUC: {r2ntab.score(Y_pred, Y_test, metric=\"auc\")}, num rules: {len(rules)}, num conditions: {sum(map(len, rules))}')"
   ]
  }
 ],
 "metadata": {
  "kernelspec": {
   "display_name": "Python 3 (ipykernel)",
   "language": "python",
   "name": "python3"
  },
  "language_info": {
   "codemirror_mode": {
    "name": "ipython",
    "version": 3
   },
   "file_extension": ".py",
   "mimetype": "text/x-python",
   "name": "python",
   "nbconvert_exporter": "python",
   "pygments_lexer": "ipython3",
   "version": "3.8.18"
  }
 },
 "nbformat": 4,
 "nbformat_minor": 5
}
