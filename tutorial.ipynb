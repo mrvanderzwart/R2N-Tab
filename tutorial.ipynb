{
 "cells": [
  {
   "cell_type": "code",
   "execution_count": 1,
   "id": "b44bab5d-a11d-4003-96ff-4f71c083fef0",
   "metadata": {
    "tags": []
   },
   "outputs": [],
   "source": [
    "import torch\n",
    "import numpy as np\n",
    "\n",
    "from datasets.dataset import transform_dataset, kfold_dataset\n",
    "from R2Ntab import R2Ntab\n",
    "from DRNet import train as train_drnet, DRNet"
   ]
  },
  {
   "cell_type": "code",
   "execution_count": 5,
   "id": "f49dd5dd-aca4-46a7-8bbe-781f1a057ed3",
   "metadata": {
    "tags": []
   },
   "outputs": [],
   "source": [
    "# Read datasets\n",
    "name = 'house'\n",
    "X, Y, X_headers, Y_headers = transform_dataset(name, method='onehot-compare', negations=False, labels='binary')\n",
    "datasets = kfold_dataset(X, Y, shuffle=1)\n",
    "X_train, X_test, Y_train, Y_test = datasets[0]\n",
    "train_set = torch.utils.data.TensorDataset(torch.Tensor(X_train.to_numpy()), torch.Tensor(Y_train))\n",
    "test_set = torch.utils.data.TensorDataset(torch.Tensor(X_test.to_numpy()), torch.Tensor(Y_test))"
   ]
  },
  {
   "cell_type": "code",
   "execution_count": 6,
   "id": "164b1653-7cf7-4cbe-9c3b-0ad0bbbc5f15",
   "metadata": {
    "tags": []
   },
   "outputs": [
    {
     "name": "stderr",
     "output_type": "stream",
     "text": [
      "Epoch: 100%|██████████| 2000/2000 [09:01<00:00,  3.69it/s, loss=0.389, epoch acc\n"
     ]
    }
   ],
   "source": [
    "# Train DR-Net\n",
    "net = DRNet(train_set[:][0].size(1), 50, 1)\n",
    "acc = train_drnet(net, train_set, test_set, device='cpu', epochs=2000)"
   ]
  },
  {
   "cell_type": "code",
   "execution_count": 7,
   "id": "a30dd87a-a164-4952-8e41-9f98334ca059",
   "metadata": {},
   "outputs": [
    {
     "name": "stdout",
     "output_type": "stream",
     "text": [
      "Accuracy: 0.7170172084130019, num rules: 46, num conditions: 790\n"
     ]
    }
   ],
   "source": [
    "# Get accuracy and the rule net\n",
    "accu = (net.predict(np.array(X_test)) == Y_test).mean()\n",
    "rules = net.get_rules(X_headers)\n",
    "print(f'Accuracy: {accu}, num rules: {len(rules)}, num conditions: {sum(map(len, rules))}')"
   ]
  },
  {
   "cell_type": "code",
   "execution_count": 3,
   "id": "8f37ea8a-e801-4275-bc56-8f1bf2a6196c",
   "metadata": {
    "tags": []
   },
   "outputs": [
    {
     "name": "stderr",
     "output_type": "stream",
     "text": [
      "100%|███████████████████| 2000/2000 [14:18<00:00,  2.33it/s]\n"
     ]
    }
   ],
   "source": [
    "# Train R2N-tab\n",
    "net = R2Ntab(len(X_headers), 50, 1, cancel_lam=1e-4)\n",
    "net.fit(train_set, test_set, epochs=2000, cancel_iterations=600)"
   ]
  },
  {
   "cell_type": "code",
   "execution_count": 4,
   "id": "d210260d-0752-4843-b3bb-c41ed1e2538a",
   "metadata": {
    "tags": []
   },
   "outputs": [
    {
     "name": "stdout",
     "output_type": "stream",
     "text": [
      "Rulelist:\n",
      "if [ P27p4<=0.039107299999999984 && P27p4<=0.047619 && not H2p2<=0.0306126 && not H13p1<=0.270492 ]:\n",
      "  prediction = true\n",
      "else if [ P1<=3392.0 && P6p2<=0.0013712000000000008 && P27p4<=0.047619 && H8p2<=0.0 && not H13p1<=0.1456992 ]:\n",
      "  prediction = true\n",
      "else if [ P1<=875.2000000000007 && not H13p1<=0.1456992 ]:\n",
      "  prediction = true\n",
      "else if [ not P14p9<=0.0535168 && P16p2<=0.785714 && P27p4<=0.039107299999999984 && P27p4<=0.047619 && H2p2<=0.21393460000000009 && not H18pA<=0.072727 ]:\n",
      "  prediction = true\n",
      "else if [ H2p2<=0.1491182 && H2p2<=0.21393460000000009 && not H10p1<=0.9981952000000001 && not H13p1<=0.1456992 ]:\n",
      "  prediction = true\n",
      "else if [ P1<=1345.5 && P1<=2089.7999999999993 && not P14p9<=0.0535168 && P27p4<=0.047619 && H2p2<=0.21393460000000009 ]:\n",
      "  prediction = true\n",
      "else if [ P1<=875.2000000000007 && P6p2<=0.003413 && P11p4<=0.19204449999999998 && not P14p9<=0.0535168 && P15p3<=0.012762799999999989 && not H18pA<=0.072727 ]:\n",
      "  prediction = true\n",
      "else if [ P1<=323.0 && P1<=543.0 && not H2p2<=0.0306126 ]:\n",
      "  prediction = true\n",
      "else if [ not P1<=543.0 && P5p1<=0.4803965 && P5p1<=0.4863876 && not P18p2<=0.001642 && P27p4<=0.039107299999999984 && P27p4<=0.047619 && not H2p2<=0.0306126 && not H13p1<=0.1456992 ]:\n",
      "  prediction = true\n",
      "else if [ P11p4<=0.21700360000000005 && not P14p9<=0.1478271 && P16p2<=0.8254627 && not H2p2<=0.0306126 && H2p2<=0.21393460000000009 ]:\n",
      "  prediction = true\n",
      "else\n",
      "  prediction = false\n",
      "Accuracy: 0.8437568575817423, num rules: 10, num conditions: 48\n"
     ]
    }
   ],
   "source": [
    "# Get accuracy and the rule net\n",
    "accu = net.predict(X_test, Y_test)\n",
    "rules = net.extract_rules(X_headers, print_rules=True)\n",
    "print(f'Accuracy: {accu}, num rules: {len(rules)}, num conditions: {sum(map(len, rules))}')"
   ]
  },
  {
   "cell_type": "code",
   "execution_count": null,
   "id": "a844825e-79f8-4a2f-a0ce-56cb6def3eea",
   "metadata": {},
   "outputs": [],
   "source": []
  }
 ],
 "metadata": {
  "kernelspec": {
   "display_name": "Python 3",
   "language": "python",
   "name": "python3"
  },
  "language_info": {
   "codemirror_mode": {
    "name": "ipython",
    "version": 3
   },
   "file_extension": ".py",
   "mimetype": "text/x-python",
   "name": "python",
   "nbconvert_exporter": "python",
   "pygments_lexer": "ipython3",
   "version": "3.7.16"
  }
 },
 "nbformat": 4,
 "nbformat_minor": 5
}
