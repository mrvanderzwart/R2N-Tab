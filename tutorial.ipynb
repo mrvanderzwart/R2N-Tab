{
 "cells": [
  {
   "cell_type": "code",
   "execution_count": 1,
   "id": "b44bab5d-a11d-4003-96ff-4f71c083fef0",
   "metadata": {
    "tags": []
   },
   "outputs": [],
   "source": [
    "import torch\n",
    "import numpy as np\n",
    "\n",
    "from datasets.dataset import transform_dataset, kfold_dataset\n",
    "from R2Ntab import train as train_r2ntab, R2Ntab\n",
    "from DRNet import train as train_drnet, DRNet\n",
    "\n",
    "import sys"
   ]
  },
  {
   "cell_type": "code",
   "execution_count": 2,
   "id": "f49dd5dd-aca4-46a7-8bbe-781f1a057ed3",
   "metadata": {
    "tags": []
   },
   "outputs": [],
   "source": [
    "# Read datasets\n",
    "name = 'adult'\n",
    "X, Y, X_headers, Y_headers = transform_dataset(name, method='onehot-compare', negations=False, labels='binary')\n",
    "datasets = kfold_dataset(X, Y, shuffle=1)\n",
    "X_train, X_test, Y_train, Y_test = datasets[0]\n",
    "train_set = torch.utils.data.TensorDataset(torch.Tensor(X_train.to_numpy()), torch.Tensor(Y_train))\n",
    "test_set = torch.utils.data.TensorDataset(torch.Tensor(X_test.to_numpy()), torch.Tensor(Y_test))"
   ]
  },
  {
   "cell_type": "code",
   "execution_count": 3,
   "id": "b60c1c84-8267-4a3a-9e86-89363f8ec696",
   "metadata": {
    "tags": []
   },
   "outputs": [
    {
     "name": "stderr",
     "output_type": "stream",
     "text": [
      "Epoch: 100%|██████████| 1000/1000 [07:33<00:00,  2.21it/s, loss=0.544, epoch accu=0.831, test accu=0.833, num rules=14, sparsity=0.883]\n"
     ]
    }
   ],
   "source": [
    "# Train DR-Net\n",
    "# Default learning rate (1e-2), and_lam (1e-2), and and_lam (1e-5) usually work the best. A large epochs number is necessary for a sparse rule set i.e 10000 epochs.\n",
    "net = DRNet(train_set[:][0].size(1), 50, 1)\n",
    "train_drnet(net, train_set, test_set=test_set, device='cpu', lr=1e-2, epochs=1000, batch_size=400,\n",
    "      and_lam=1e-2, or_lam=1e-5, num_alter=500)"
   ]
  },
  {
   "cell_type": "code",
   "execution_count": 4,
   "id": "f208a470-759a-4499-a3a8-e4cf004c8663",
   "metadata": {
    "tags": []
   },
   "outputs": [
    {
     "name": "stdout",
     "output_type": "stream",
     "text": [
      "Accuracy: 0.8332504558262888, num rules: 14, num conditions: 209\n"
     ]
    }
   ],
   "source": [
    "# Get accuracy and the rule net\n",
    "accu = (net.predict(np.array(X_test)) == Y_test).mean()\n",
    "rules = net.get_rules(X_headers)\n",
    "print(f'Accuracy: {accu}, num rules: {len(rules)}, num conditions: {sum(map(len, rules))}')"
   ]
  },
  {
   "cell_type": "code",
   "execution_count": 5,
   "id": "e1260593-6f2b-44e2-9a11-27ffdea0d14b",
   "metadata": {
    "tags": []
   },
   "outputs": [
    {
     "name": "stdout",
     "output_type": "stream",
     "text": [
      "[['NOT age<=30.0', 'NOT workclass==Self-emp-not-inc', 'NOT education_num<=7.0', 'education_num<=9.0', 'marital-status==Married-civ-spouse', 'NOT occupation==Adm-clerical', 'NOT occupation==Craft-repair', 'NOT occupation==Machine-op-inspct', 'NOT occupation==Other-service', 'NOT occupation==Protective-serv', 'NOT occupation==Sales', 'NOT occupation==Transport-moving', 'race==Amer-Indian-Eskimo', 'NOT capital-gain<=0.0', 'NOT hours-per-week<=25.0'], ['education==Doctorate', 'occupation==Prof-specialty', 'NOT capital-loss<=0.0'], ['NOT age<=33.0', 'age<=57.0', 'NOT workclass==Self-emp-not-inc', 'NOT education_num<=13.0', 'marital-status==Married-civ-spouse', 'NOT occupation==Adm-clerical', 'NOT occupation==Craft-repair', 'NOT occupation==Machine-op-inspct', 'NOT occupation==Other-service', 'NOT occupation==Sales', 'NOT occupation==Transport-moving', 'NOT relationship==Not-in-family', 'NOT relationship==Own-child', 'NOT relationship==Unmarried', 'NOT hours-per-week<=25.0', 'NOT native-country==France', 'NOT native-country==India', 'NOT native-country==South'], ['NOT age<=26.0', 'NOT workclass==Local-gov', 'NOT education==Assoc-acdm', 'NOT education==Assoc-voc', 'NOT education_num<=10.0', 'NOT education_num<=11.0', 'NOT marital-status==Divorced', 'NOT marital-status==Never-married', 'NOT occupation==Adm-clerical', 'NOT occupation==Craft-repair', 'NOT occupation==Farming-fishing', 'NOT occupation==Handlers-cleaners', 'NOT occupation==Other-service', 'NOT occupation==Transport-moving', 'NOT relationship==Not-in-family', 'NOT relationship==Other-relative', 'NOT relationship==Own-child', 'NOT relationship==Unmarried', 'NOT race==Other', 'NOT native-country==Dominican-Republic', 'NOT native-country==Greece', 'NOT native-country==Iran', 'NOT native-country==Jamaica', 'NOT native-country==Poland', 'NOT native-country==Puerto-Rico', 'NOT native-country==South', 'NOT native-country==Vietnam'], ['NOT age<=22.0', 'NOT education_num<=7.0', 'marital-status==Married-civ-spouse', 'NOT occupation==Machine-op-inspct', 'NOT occupation==Protective-serv', 'NOT relationship==Not-in-family', 'NOT relationship==Other-relative', 'NOT relationship==Own-child', 'NOT capital-gain<=0.0', 'NOT hours-per-week<=25.0', 'NOT native-country==China', 'NOT native-country==Columbia', 'NOT native-country==Germany', 'NOT native-country==Italy', 'NOT native-country==Japan', 'NOT native-country==Mexico'], ['NOT age<=22.0', 'NOT age<=26.0', 'NOT education==11th', 'NOT education==5th-6th', 'NOT education==7th-8th', 'marital-status==Married-civ-spouse', 'NOT relationship==Own-child', 'NOT capital-loss<=0.0', 'NOT native-country==Mexico'], ['NOT age<=30.0', 'NOT age<=33.0', 'NOT age<=37.0', 'NOT workclass==Self-emp-not-inc', 'NOT fnlwgt<=106260.20000000001', 'NOT education==10th', 'NOT education==12th', 'NOT education==Assoc-voc', 'NOT education_num<=7.0', 'education_num<=10.0', 'education_num<=11.0', 'marital-status==Married-civ-spouse', 'NOT occupation==Adm-clerical', 'NOT occupation==Craft-repair', 'NOT occupation==Farming-fishing', 'NOT occupation==Handlers-cleaners', 'NOT occupation==Machine-op-inspct', 'NOT occupation==Other-service', 'NOT occupation==Priv-house-serv', 'NOT occupation==Protective-serv', 'NOT occupation==Sales', 'NOT occupation==Transport-moving', 'NOT relationship==Unmarried', 'NOT race==Black', 'NOT hours-per-week<=25.0', 'NOT native-country==Hungary', 'NOT native-country==Jamaica', 'NOT native-country==Peru'], ['NOT age<=33.0', 'NOT age<=37.0', 'NOT workclass==State-gov', 'NOT fnlwgt<=106260.20000000001', 'education==HS-grad', 'NOT education_num<=7.0', 'education_num<=9.0', 'education_num<=11.0', 'marital-status==Married-civ-spouse', 'NOT occupation==Adm-clerical', 'NOT occupation==Craft-repair', 'NOT occupation==Farming-fishing', 'NOT occupation==Handlers-cleaners', 'NOT occupation==Machine-op-inspct', 'NOT occupation==Other-service', 'NOT occupation==Priv-house-serv', 'NOT occupation==Sales', 'NOT occupation==Transport-moving', 'NOT capital-loss<=0.0', 'NOT hours-per-week<=25.0', 'NOT hours-per-week<=36.0'], ['NOT workclass==Local-gov', 'NOT education_num<=10.0', 'NOT education_num<=11.0', 'marital-status==Married-civ-spouse', 'NOT occupation==Adm-clerical', 'NOT occupation==Other-service', 'NOT relationship==Husband', 'NOT relationship==Own-child', 'NOT sex', 'hours-per-week<=25.0', 'NOT native-country==Puerto-Rico'], ['NOT age<=26.0', 'NOT fnlwgt<=106260.20000000001', 'NOT education_num<=11.0', 'NOT marital-status==Married-civ-spouse', 'NOT occupation==Adm-clerical', 'NOT occupation==Craft-repair', 'NOT occupation==Handlers-cleaners', 'NOT occupation==Machine-op-inspct', 'NOT relationship==Own-child', 'NOT capital-gain<=0.0'], ['NOT age<=26.0', 'NOT workclass==Self-emp-not-inc', 'NOT education==Assoc-acdm', 'NOT education==Bachelors', 'NOT education_num<=7.0', 'marital-status==Married-civ-spouse', 'NOT occupation==Adm-clerical', 'NOT occupation==Craft-repair', 'NOT occupation==Farming-fishing', 'NOT occupation==Handlers-cleaners', 'NOT occupation==Machine-op-inspct', 'NOT occupation==Other-service', 'NOT occupation==Protective-serv', 'NOT occupation==Sales', 'NOT occupation==Transport-moving', 'NOT relationship==Not-in-family', 'NOT relationship==Own-child', 'NOT capital-gain<=0.0', 'NOT hours-per-week<=25.0', 'NOT hours-per-week<=40.0', 'NOT native-country==Greece', 'NOT native-country==India', 'NOT native-country==Mexico', 'NOT native-country==Poland', 'NOT native-country==South'], ['age<=57.0', 'NOT education_num<=11.0', 'NOT education_num<=13.0', 'marital-status==Married-civ-spouse', 'NOT occupation==Other-service', 'NOT capital-loss<=0.0', 'NOT native-country==Haiti'], ['NOT age<=22.0', 'NOT education==Assoc-voc', 'NOT education_num<=9.0', 'NOT education_num<=10.0', 'marital-status==Married-civ-spouse', 'NOT occupation==Farming-fishing', 'NOT relationship==Not-in-family', 'NOT capital-gain<=0.0', 'NOT hours-per-week<=25.0', 'NOT native-country==El-Salvador', 'NOT native-country==Germany', 'NOT native-country==India'], ['NOT workclass==Self-emp-not-inc', 'marital-status==Married-civ-spouse', 'NOT occupation==Machine-op-inspct', 'occupation==Transport-moving', 'NOT relationship==Unmarried', 'NOT capital-gain<=0.0', 'NOT hours-per-week<=42.0']]\n"
     ]
    }
   ],
   "source": [
    "print(rules)"
   ]
  },
  {
   "cell_type": "code",
   "execution_count": 6,
   "id": "164b1653-7cf7-4cbe-9c3b-0ad0bbbc5f15",
   "metadata": {},
   "outputs": [
    {
     "name": "stderr",
     "output_type": "stream",
     "text": [
      "Epoch: 100%|██████████| 1000/1000 [08:45<00:00,  1.90it/s, loss=0.552, epoch accu=0.822, test accu=0.827, num rules=9, sparsity=0.971]\n"
     ]
    }
   ],
   "source": [
    "# Train R2N-tab\n",
    "# Default learning rate (1e-2), and_lam (1e-2), and and_lam (1e-5) usually work the best. A large epochs number is necessary for a sparse rule set i.e 10000 epochs.\n",
    "net = R2Ntab(train_set[:][0].size(1), 50, 1)\n",
    "train_r2ntab(net, train_set, test_set=test_set, device='cpu', lr=1e-2, epochs=1000, batch_size=400,\n",
    "      and_lam=1e-2, or_lam=1e-5, num_alter=500)"
   ]
  },
  {
   "cell_type": "code",
   "execution_count": 7,
   "id": "a30dd87a-a164-4952-8e41-9f98334ca059",
   "metadata": {},
   "outputs": [
    {
     "name": "stdout",
     "output_type": "stream",
     "text": [
      "Accuracy: 0.8267860102768109, num rules: 9, num conditions: 33\n"
     ]
    }
   ],
   "source": [
    "# Get accuracy and the rule net\n",
    "accu = (net.predict(np.array(X_test)) == Y_test).mean()\n",
    "rules = net.get_rules(X_headers)\n",
    "print(f'Accuracy: {accu}, num rules: {len(rules)}, num conditions: {sum(map(len, rules))}')"
   ]
  },
  {
   "cell_type": "code",
   "execution_count": 8,
   "id": "a7d09e14-08a3-4a91-a55d-ab62fa516f58",
   "metadata": {},
   "outputs": [
    {
     "name": "stdout",
     "output_type": "stream",
     "text": [
      "[['education==Prof-school', 'NOT hours-per-week<=40.0'], ['NOT education_num<=9.0', 'marital-status==Married-civ-spouse', 'occupation==Exec-managerial', 'NOT sex'], ['NOT education_num<=13.0', 'NOT capital-gain<=0.0'], ['NOT education_num<=9.0', 'relationship==Husband', 'NOT capital-gain<=0.0'], ['NOT education_num<=13.0', 'marital-status==Married-civ-spouse', 'NOT sex', 'NOT hours-per-week<=42.0'], ['marital-status==Married-civ-spouse', 'NOT capital-loss<=0.0'], ['NOT age<=26.0', 'NOT education_num<=11.0', 'NOT occupation==Craft-repair', 'NOT occupation==Handlers-cleaners', 'NOT occupation==Other-service', 'relationship==Husband', 'NOT hours-per-week<=25.0'], ['NOT age<=33.0', 'NOT education_num<=9.0', 'marital-status==Married-civ-spouse', 'NOT relationship==Husband', 'NOT capital-gain<=0.0'], ['marital-status==Married-civ-spouse', 'occupation==Prof-specialty', 'NOT sex', 'NOT capital-gain<=0.0']]\n"
     ]
    }
   ],
   "source": [
    "print(rules)"
   ]
  },
  {
   "cell_type": "code",
   "execution_count": null,
   "id": "4a57618b-38b1-4988-9c57-41850d5c154d",
   "metadata": {},
   "outputs": [],
   "source": []
  }
 ],
 "metadata": {
  "kernelspec": {
   "display_name": "Python 3",
   "language": "python",
   "name": "python3"
  },
  "language_info": {
   "codemirror_mode": {
    "name": "ipython",
    "version": 3
   },
   "file_extension": ".py",
   "mimetype": "text/x-python",
   "name": "python",
   "nbconvert_exporter": "python",
   "pygments_lexer": "ipython3",
   "version": "3.6.9"
  }
 },
 "nbformat": 4,
 "nbformat_minor": 5
}
