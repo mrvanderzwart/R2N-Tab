{
 "cells": [
  {
   "cell_type": "code",
   "execution_count": 1,
   "id": "b44bab5d-a11d-4003-96ff-4f71c083fef0",
   "metadata": {
    "tags": []
   },
   "outputs": [
    {
     "name": "stderr",
     "output_type": "stream",
     "text": [
      "/home/mike/.local/lib/python3.6/site-packages/tqdm/auto.py:22: TqdmWarning: IProgress not found. Please update jupyter and ipywidgets. See https://ipywidgets.readthedocs.io/en/stable/user_install.html\n",
      "  from .autonotebook import tqdm as notebook_tqdm\n"
     ]
    }
   ],
   "source": [
    "import torch\n",
    "import numpy as np\n",
    "\n",
    "from datasets.dataset import transform_dataset, kfold_dataset\n",
    "from R2Ntab import train, R2Ntab\n",
    "\n",
    "import sys"
   ]
  },
  {
   "cell_type": "code",
   "execution_count": 2,
   "id": "f49dd5dd-aca4-46a7-8bbe-781f1a057ed3",
   "metadata": {
    "tags": []
   },
   "outputs": [],
   "source": [
    "# Read datasets\n",
    "name = 'adult'\n",
    "X, Y, X_headers, Y_headers = transform_dataset(name, method='onehot-compare', negations=False, labels='binary')\n",
    "datasets = kfold_dataset(X, Y, shuffle=1)\n",
    "X_train, X_test, Y_train, Y_test = datasets[0]\n",
    "train_set = torch.utils.data.TensorDataset(torch.Tensor(X_train.to_numpy()), torch.Tensor(Y_train))\n",
    "test_set = torch.utils.data.TensorDataset(torch.Tensor(X_test.to_numpy()), torch.Tensor(Y_test))"
   ]
  },
  {
   "cell_type": "code",
   "execution_count": 3,
   "id": "b60c1c84-8267-4a3a-9e86-89363f8ec696",
   "metadata": {
    "tags": []
   },
   "outputs": [
    {
     "name": "stderr",
     "output_type": "stream",
     "text": [
      "Epoch: 100%|██████████| 1000/1000 [10:38<00:00,  1.57it/s, loss=0.551, epoch accu=0.824, test accu=0.827, num rules=6, sparsity=0.966]\n"
     ]
    }
   ],
   "source": [
    "# Train DR-Net\n",
    "# Default learning rate (1e-2), and_lam (1e-2), and and_lam (1e-5) usually work the best. A large epochs number is necessary for a sparse rule set i.e 10000 epochs.\n",
    "net = R2Ntab(train_set[:][0].size(1), 50, 1)\n",
    "train(net, train_set, test_set=test_set, device='cpu', lr=1e-2, epochs=1000, batch_size=400,\n",
    "      and_lam=1e-2, or_lam=1e-5, num_alter=500)"
   ]
  },
  {
   "cell_type": "code",
   "execution_count": 4,
   "id": "f208a470-759a-4499-a3a8-e4cf004c8663",
   "metadata": {
    "tags": []
   },
   "outputs": [
    {
     "name": "stdout",
     "output_type": "stream",
     "text": [
      "Accuracy: 0.8271175203049892, num rules: 6, num conditions: 26\n"
     ]
    }
   ],
   "source": [
    "# Get accuracy and the rule net\n",
    "accu = (net.predict(np.array(X_test)) == Y_test).mean()\n",
    "rules = net.get_rules(X_headers)\n",
    "print(f'Accuracy: {accu}, num rules: {len(rules)}, num conditions: {sum(map(len, rules))}')"
   ]
  },
  {
   "cell_type": "code",
   "execution_count": 5,
   "id": "e1260593-6f2b-44e2-9a11-27ffdea0d14b",
   "metadata": {
    "tags": []
   },
   "outputs": [
    {
     "name": "stdout",
     "output_type": "stream",
     "text": [
      "[['NOT education_num<=9.0', 'marital-status==Married-civ-spouse', 'NOT sex', 'NOT capital-gain<=0.0'], ['NOT education_num<=9.0', 'relationship==Husband', 'NOT capital-gain<=0.0'], ['NOT age<=30.0', 'education==Prof-school', 'NOT education_num<=13.0', 'NOT hours-per-week<=42.0'], ['NOT education_num<=13.0', 'NOT capital-gain<=0.0', 'NOT hours-per-week<=42.0'], ['NOT age<=30.0', 'NOT education_num<=11.0', 'marital-status==Married-civ-spouse', 'NOT occupation==Farming-fishing', 'NOT occupation==Handlers-cleaners', 'NOT occupation==Machine-op-inspct', 'NOT occupation==Other-service', 'NOT occupation==Transport-moving', 'NOT hours-per-week<=25.0'], ['NOT education_num<=11.0', 'marital-status==Married-civ-spouse', 'NOT capital-loss<=0.0']]\n"
     ]
    }
   ],
   "source": [
    "print(rules)"
   ]
  },
  {
   "cell_type": "code",
   "execution_count": null,
   "id": "164b1653-7cf7-4cbe-9c3b-0ad0bbbc5f15",
   "metadata": {},
   "outputs": [],
   "source": []
  }
 ],
 "metadata": {
  "kernelspec": {
   "display_name": "Python 3",
   "language": "python",
   "name": "python3"
  },
  "language_info": {
   "codemirror_mode": {
    "name": "ipython",
    "version": 3
   },
   "file_extension": ".py",
   "mimetype": "text/x-python",
   "name": "python",
   "nbconvert_exporter": "python",
   "pygments_lexer": "ipython3",
   "version": "3.6.9"
  }
 },
 "nbformat": 4,
 "nbformat_minor": 5
}
