{
 "cells": [
  {
   "cell_type": "code",
   "execution_count": 1,
   "id": "b44bab5d-a11d-4003-96ff-4f71c083fef0",
   "metadata": {
    "tags": []
   },
   "outputs": [],
   "source": [
    "import torch\n",
    "import numpy as np\n",
    "\n",
    "from datasets.dataset import transform_dataset, kfold_dataset\n",
    "from R2Ntab import train as train_r2ntab, R2Ntab\n",
    "from DRNet import train as train_drnet, DRNet\n",
    "\n",
    "import sys\n",
    "\n",
    "import matplotlib.pyplot as plt"
   ]
  },
  {
   "cell_type": "code",
   "execution_count": 2,
   "id": "f49dd5dd-aca4-46a7-8bbe-781f1a057ed3",
   "metadata": {
    "tags": []
   },
   "outputs": [],
   "source": [
    "# Read datasets\n",
    "name = 'adult'\n",
    "X, Y, X_headers, Y_headers = transform_dataset(name, method='onehot-compare', negations=False, labels='binary')\n",
    "datasets = kfold_dataset(X, Y, shuffle=1)\n",
    "X_train, X_test, Y_train, Y_test = datasets[0]\n",
    "train_set = torch.utils.data.TensorDataset(torch.Tensor(X_train.to_numpy()), torch.Tensor(Y_train))\n",
    "test_set = torch.utils.data.TensorDataset(torch.Tensor(X_test.to_numpy()), torch.Tensor(Y_test))"
   ]
  },
  {
   "cell_type": "code",
   "execution_count": null,
   "id": "164b1653-7cf7-4cbe-9c3b-0ad0bbbc5f15",
   "metadata": {
    "tags": []
   },
   "outputs": [
    {
     "name": "stderr",
     "output_type": "stream",
     "text": [
      "Epoch:  97%|█████████▋| 968/1000 [13:53<00:27,  1.18it/s, rules cancelled=61, loss=1.08, epoch accu=0.817, test accu=0.824, num rules=6, sparsity=0.883] "
     ]
    }
   ],
   "source": [
    "# Train R2N-tab\n",
    "# Default learning rate (1e-2), and_lam (1e-2), and and_lam (1e-5) usually work the best. A large epochs number is necessary for a sparse rule set i.e 10000 epochs.\n",
    "net = R2Ntab(train_set[:][0].size(1), 50, 1)\n",
    "acc, rules = train_r2ntab(net, train_set, test_set=test_set, device='cpu', lr_rules=1e-2, lr_cancel=1e-2, epochs=1000, batch_size=400,\n",
    "             and_lam=1e-2, or_lam=1e-5, cancel_lam=1, num_alter=500, track_performance=True)"
   ]
  },
  {
   "cell_type": "code",
   "execution_count": 4,
   "id": "a30dd87a-a164-4952-8e41-9f98334ca059",
   "metadata": {},
   "outputs": [
    {
     "name": "stdout",
     "output_type": "stream",
     "text": [
      "Accuracy: 0.8234709099950274, num rules: 6, num conditions: 106\n"
     ]
    }
   ],
   "source": [
    "# Get accuracy and the rule net\n",
    "accu = (net.predict(np.array(X_test)) == Y_test).mean()\n",
    "rules = net.get_rules(X_headers)\n",
    "print(f'Accuracy: {accu}, num rules: {len(rules)}, num conditions: {sum(map(len, rules))}')"
   ]
  },
  {
   "cell_type": "code",
   "execution_count": 5,
   "id": "a7d09e14-08a3-4a91-a55d-ab62fa516f58",
   "metadata": {
    "tags": []
   },
   "outputs": [
    {
     "name": "stdout",
     "output_type": "stream",
     "text": [
      "[['NOT age<=26.0', 'age<=30.0', 'age<=33.0', 'NOT workclass==State-gov', 'NOT education_num<=9.0', 'NOT education_num<=11.0', 'NOT marital-status==Divorced', 'NOT marital-status==Never-married', 'NOT marital-status==Separated', 'NOT marital-status==Widowed', 'NOT occupation==Adm-clerical', 'NOT occupation==Craft-repair', 'NOT occupation==Farming-fishing', 'NOT occupation==Other-service', 'NOT occupation==Protective-serv', 'NOT occupation==Sales', 'NOT occupation==Transport-moving', 'NOT relationship==Not-in-family', 'NOT relationship==Other-relative', 'hours-per-week<=25.0', 'NOT native-country==Puerto-Rico'], ['NOT age<=26.0', 'NOT age<=30.0', 'NOT education==Assoc-voc', 'NOT education_num<=10.0', 'NOT education_num<=11.0', 'NOT marital-status==Divorced', 'NOT marital-status==Married-spouse-absent', 'NOT marital-status==Never-married', 'NOT occupation==Adm-clerical', 'NOT occupation==Farming-fishing', 'NOT occupation==Handlers-cleaners', 'NOT occupation==Other-service', 'NOT occupation==Transport-moving', 'NOT relationship==Not-in-family', 'NOT relationship==Other-relative', 'NOT relationship==Own-child', 'NOT relationship==Unmarried', 'NOT native-country==Columbia', 'NOT native-country==Greece', 'NOT native-country==Iran', 'NOT native-country==Jamaica', 'NOT native-country==South', 'NOT native-country==Vietnam'], ['NOT age<=33.0', 'NOT workclass==State-gov', 'NOT education_num<=10.0', 'NOT education_num<=11.0', 'NOT education_num<=13.0', 'NOT marital-status==Never-married', 'occupation==Protective-serv'], ['NOT age<=33.0', 'NOT workclass==Self-emp-not-inc', 'NOT education==Assoc-acdm', 'NOT education==HS-grad', 'NOT education_num<=9.0', 'NOT marital-status==Divorced', 'NOT marital-status==Married-spouse-absent', 'NOT marital-status==Never-married', 'NOT marital-status==Separated', 'NOT marital-status==Widowed', 'NOT occupation==Craft-repair', 'NOT occupation==Handlers-cleaners', 'NOT occupation==Machine-op-inspct', 'NOT occupation==Other-service', 'NOT occupation==Sales', 'NOT occupation==Transport-moving', 'NOT relationship==Not-in-family', 'NOT race==Amer-Indian-Eskimo', 'NOT hours-per-week<=25.0', 'NOT native-country==Columbia', 'NOT native-country==Dominican-Republic', 'NOT native-country==India', 'NOT native-country==Jamaica', 'NOT native-country==Mexico', 'NOT native-country==Poland', 'NOT native-country==South', 'NOT native-country==Trinadad&Tobago', 'NOT native-country==Vietnam'], ['NOT age<=26.0', 'age<=30.0', 'NOT education==Assoc-acdm', 'NOT education==Assoc-voc', 'NOT education_num<=9.0', 'NOT marital-status==Never-married', 'NOT occupation==Adm-clerical', 'NOT occupation==Craft-repair', 'NOT occupation==Handlers-cleaners', 'NOT occupation==Other-service', 'NOT occupation==Transport-moving', 'NOT relationship==Not-in-family', 'NOT relationship==Other-relative', 'NOT relationship==Own-child', 'NOT relationship==Unmarried', 'NOT hours-per-week<=25.0', 'hours-per-week<=36.0', 'NOT native-country==Japan'], ['NOT age<=26.0', 'age<=30.0', 'NOT education==Assoc-acdm', 'NOT education_num<=9.0', 'NOT marital-status==Never-married', 'NOT occupation==Machine-op-inspct', 'NOT relationship==Not-in-family', 'NOT relationship==Unmarried', 'native-country==Nicaragua']]\n"
     ]
    }
   ],
   "source": [
    "print(rules)"
   ]
  },
  {
   "cell_type": "code",
   "execution_count": 7,
   "id": "9e1d698b-46a2-4000-845d-2b3f8f7efa05",
   "metadata": {},
   "outputs": [
    {
     "name": "stdout",
     "output_type": "stream",
     "text": [
      "(tensor([  0,   1,   2,   3,   8,  11,  12,  13,  15,  19,  21,  24,  25,  26,\n",
      "         27,  28,  29,  30,  31,  34,  35,  36,  37,  38,  39,  41,  42,  43,\n",
      "         44,  45,  46,  48,  49,  50,  51,  52,  54,  55,  56,  57,  58,  59,\n",
      "         60,  61,  62,  66,  67,  68,  69,  70,  71,  72,  73,  77,  78,  81,\n",
      "         85,  88,  90,  92,  94,  98,  99, 100, 109, 111, 112, 113, 114, 115,\n",
      "        117, 118, 119, 121, 124, 125, 126, 127]),)\n",
      "Parameter containing:\n",
      "tensor([-1.5587e-02, -1.9227e-02, -1.8510e-02, -9.4457e-03,  7.2455e+01,\n",
      "         5.8961e+01,  5.2783e+00,  3.7613e+01, -5.7379e-03,  1.0435e+01,\n",
      "         5.0213e+01, -1.4973e-02, -1.1789e-02, -4.0100e-03,  1.4281e+01,\n",
      "        -1.0465e-02,  3.0106e+01,  2.5027e+01,  1.4388e+01, -5.5581e-03,\n",
      "         1.2089e+01, -1.9776e-02,  2.3992e+00,  4.7402e+00, -1.2652e-02,\n",
      "        -1.6692e-02, -8.4564e-03, -1.2752e-02, -3.0186e-02, -1.5103e-02,\n",
      "        -1.2372e-02, -5.8284e-03,  5.0415e+01,  1.3727e+01, -1.7763e-02,\n",
      "        -1.0110e-02, -2.1633e-02, -8.3809e-03, -1.7915e-02, -1.3202e-02,\n",
      "         7.4052e+01, -1.6145e-02, -2.4182e-02, -3.5186e-02, -1.2458e-02,\n",
      "        -1.7578e-02, -1.3513e-02,  1.5753e+00, -3.3029e-02, -1.0582e-02,\n",
      "        -1.1452e-02, -1.4931e-02, -9.9710e-03,  3.1248e+01, -1.4602e-02,\n",
      "        -1.9361e-02, -2.2654e-02, -1.4783e-02, -2.0740e-02, -1.5544e-02,\n",
      "        -1.6161e-02, -1.6947e-02, -1.4083e-02,  6.7318e+00,  1.4337e+01,\n",
      "         6.8500e+01, -1.5914e-02, -1.5127e-02, -1.1076e-02, -7.2506e-03,\n",
      "        -1.3690e-02, -1.4422e-02, -7.9750e-03, -1.3918e-02,  2.0441e+01,\n",
      "         4.2821e+01,  2.7778e+01, -1.7337e-02, -2.6889e-03,  8.5007e+01,\n",
      "         6.3679e+01, -1.3665e-02,  8.6261e+01,  8.3665e+01,  5.9110e+00,\n",
      "        -1.3643e-02,  3.5887e+00,  7.3088e+00, -7.2871e-03,  4.1499e+01,\n",
      "        -1.3652e-02,  8.6133e+00, -1.4231e-02,  2.7921e+01, -1.0401e-02,\n",
      "         6.9095e+00,  3.9675e+00,  4.0917e+00, -1.9057e-02, -1.0260e-02,\n",
      "        -1.8920e-03,  3.2717e+00,  4.6545e+00,  9.5327e+00,  1.0248e+01,\n",
      "         1.2526e+01,  5.1378e+01,  1.8898e+00,  6.3715e+00, -1.3985e-02,\n",
      "         2.0893e+01, -1.1671e-02, -1.8547e-02, -7.6363e-03, -1.3616e-02,\n",
      "        -1.1054e-02,  4.6598e+00, -1.2835e-02, -2.8397e-03, -7.2664e-03,\n",
      "         3.0064e+00, -9.9860e-03,  3.1172e+01,  8.1311e+00, -1.4763e-02,\n",
      "        -1.2779e-02, -1.5871e-02, -1.0258e-02], requires_grad=True)\n"
     ]
    }
   ],
   "source": [
    "indices = torch.where(net.cancelout_layer.weight < 0)\n",
    "print(indices)\n",
    "print(net.cancelout_layer.weight)"
   ]
  },
  {
   "cell_type": "code",
   "execution_count": null,
   "id": "1b075088-e2fe-4480-933c-1061c0f25122",
   "metadata": {},
   "outputs": [],
   "source": []
  }
 ],
 "metadata": {
  "kernelspec": {
   "display_name": "Python 3",
   "language": "python",
   "name": "python3"
  },
  "language_info": {
   "codemirror_mode": {
    "name": "ipython",
    "version": 3
   },
   "file_extension": ".py",
   "mimetype": "text/x-python",
   "name": "python",
   "nbconvert_exporter": "python",
   "pygments_lexer": "ipython3",
   "version": "3.6.9"
  }
 },
 "nbformat": 4,
 "nbformat_minor": 5
}
