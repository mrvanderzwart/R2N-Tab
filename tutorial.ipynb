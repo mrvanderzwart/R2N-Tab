{
 "cells": [
  {
   "cell_type": "code",
   "execution_count": 1,
   "id": "b44bab5d-a11d-4003-96ff-4f71c083fef0",
   "metadata": {
    "tags": []
   },
   "outputs": [],
   "source": [
    "import torch\n",
    "import numpy as np\n",
    "\n",
    "from datasets.dataset import transform_dataset, kfold_dataset\n",
    "from R2Ntab import train as train_r2ntab, R2Ntab\n",
    "from DRNet import train as train_drnet, DRNet\n",
    "\n",
    "import sys"
   ]
  },
  {
   "cell_type": "code",
   "execution_count": 2,
   "id": "f49dd5dd-aca4-46a7-8bbe-781f1a057ed3",
   "metadata": {
    "tags": []
   },
   "outputs": [],
   "source": [
    "# Read datasets\n",
    "name = 'magic'\n",
    "X, Y, X_headers, Y_headers = transform_dataset(name, method='onehot-compare', negations=False, labels='binary')\n",
    "datasets = kfold_dataset(X, Y, shuffle=1)\n",
    "X_train, X_test, Y_train, Y_test = datasets[0]\n",
    "train_set = torch.utils.data.TensorDataset(torch.Tensor(X_train.to_numpy()), torch.Tensor(Y_train))\n",
    "test_set = torch.utils.data.TensorDataset(torch.Tensor(X_test.to_numpy()), torch.Tensor(Y_test))"
   ]
  },
  {
   "cell_type": "code",
   "execution_count": 3,
   "id": "b60c1c84-8267-4a3a-9e86-89363f8ec696",
   "metadata": {
    "tags": []
   },
   "outputs": [
    {
     "name": "stderr",
     "output_type": "stream",
     "text": [
      "Epoch: 100%|██████████| 1000/1000 [04:34<00:00,  3.65it/s, loss=0.495, epoch accu=0.837, test accu=0.849, num rules=34, sparsity=0.878]\n"
     ]
    }
   ],
   "source": [
    "# Train DR-Net\n",
    "# Default learning rate (1e-2), and_lam (1e-2), and and_lam (1e-5) usually work the best. A large epochs number is necessary for a sparse rule set i.e 10000 epochs.\n",
    "net = DRNet(train_set[:][0].size(1), 50, 1)\n",
    "train_drnet(net, train_set, test_set=test_set, device='cpu', lr=1e-2, epochs=1000, batch_size=400,\n",
    "      and_lam=1e-2, or_lam=1e-5, num_alter=500)"
   ]
  },
  {
   "cell_type": "code",
   "execution_count": 4,
   "id": "f208a470-759a-4499-a3a8-e4cf004c8663",
   "metadata": {
    "tags": []
   },
   "outputs": [
    {
     "name": "stdout",
     "output_type": "stream",
     "text": [
      "Accuracy: 0.849106203995794, num rules: 34, num conditions: 372\n"
     ]
    }
   ],
   "source": [
    "# Get accuracy and the rule net\n",
    "accu = (net.predict(np.array(X_test)) == Y_test).mean()\n",
    "rules = net.get_rules(X_headers)\n",
    "print(f'Accuracy: {accu}, num rules: {len(rules)}, num conditions: {sum(map(len, rules))}')"
   ]
  },
  {
   "cell_type": "code",
   "execution_count": 5,
   "id": "e1260593-6f2b-44e2-9a11-27ffdea0d14b",
   "metadata": {
    "tags": []
   },
   "outputs": [
    {
     "name": "stdout",
     "output_type": "stream",
     "text": [
      "[['fLength<=30.984860000000005', 'fWidth<=11.14812', 'fWidth<=12.70988', 'fWidth<=15.135580000000001', 'NOT fSize<=2.4216', 'NOT fSize<=2.5296', 'NOT fConc1<=0.309', 'NOT fAlpha<=1.9325999999999999', 'NOT fAlpha<=4.1578800000000005', 'NOT fAlpha<=7.29494', 'fAlpha<=11.4574'], ['NOT fLength<=37.1477', 'NOT fLength<=46.561859999999996', 'NOT fLength<=61.08167999999999', 'NOT fLength<=80.00280000000001', 'NOT fSize<=2.2867', 'fSize<=2.4216', 'fM3Long<=8.313820000000002', 'fM3Long<=28.885389999999997', 'NOT fAlpha<=7.29494', 'NOT fAlpha<=11.4574', 'NOT fAlpha<=17.6795', 'fAlpha<=26.6302', 'fAlpha<=38.9075'], ['NOT fLength<=30.984860000000005', 'fLength<=37.1477', 'NOT fSize<=2.2867', 'fSize<=2.4216', 'NOT fAlpha<=11.4574', 'NOT fAlpha<=17.6795', 'NOT fAlpha<=26.6302', 'NOT fAlpha<=38.9075', 'NOT fAlpha<=53.61464', 'NOT fDist<=130.3766', 'NOT fDist<=154.14880000000002'], ['NOT fLength<=30.984860000000005', 'NOT fLength<=37.1477', 'NOT fLength<=46.561859999999996', 'NOT fLength<=61.08167999999999', 'NOT fLength<=80.00280000000001', 'NOT fSize<=2.2867', 'NOT fSize<=2.4216', 'NOT fSize<=2.7396', 'NOT fSize<=3.0097', 'fAsym<=-3.0501399999999963', 'fAsym<=4.01305', 'NOT fAlpha<=11.4574', 'NOT fAlpha<=17.6795', 'NOT fAlpha<=26.6302'], ['fLength<=105.45940000000002', 'NOT fSize<=2.2867', 'NOT fAlpha<=17.6795', 'NOT fAlpha<=38.9075', 'NOT fAlpha<=53.61464', 'NOT fDist<=96.58213', 'NOT fDist<=130.3766', 'NOT fDist<=154.14880000000002', 'NOT fDist<=173.6184', 'NOT fDist<=191.85145', 'NOT fDist<=209.65591999999998'], ['NOT fLength<=30.984860000000005', 'NOT fSize<=2.2867', 'NOT fSize<=2.4216', 'NOT fSize<=2.5296', 'NOT fSize<=2.634', 'NOT fSize<=2.7396', 'NOT fAlpha<=17.6795', 'NOT fAlpha<=26.6302', 'NOT fDist<=154.14880000000002', 'NOT fDist<=173.6184', 'NOT fDist<=191.85145', 'NOT fDist<=209.65591999999998'], ['NOT fLength<=30.984860000000005', 'NOT fLength<=37.1477', 'NOT fLength<=46.561859999999996', 'NOT fWidth<=38.67311000000001', 'NOT fSize<=2.2867', 'NOT fSize<=2.4216', 'NOT fSize<=2.8639', 'NOT fM3Trans<=-9.503109999999998', 'NOT fAlpha<=11.4574', 'NOT fAlpha<=17.6795', 'NOT fAlpha<=26.6302', 'NOT fAlpha<=38.9075', 'NOT fDist<=96.58213', 'NOT fDist<=229.5247'], ['NOT fLength<=37.1477', 'NOT fLength<=46.561859999999996', 'fLength<=80.00280000000001', 'fWidth<=12.70988', 'fWidth<=15.135580000000001', 'NOT fSize<=2.2867', 'NOT fSize<=2.4216', 'NOT fSize<=2.5296', 'NOT fSize<=2.634', 'NOT fAsym<=-28.717059999999996', 'NOT fAlpha<=7.29494', 'NOT fAlpha<=11.4574', 'NOT fAlpha<=17.6795', 'NOT fDist<=154.14880000000002', 'NOT fDist<=173.6184', 'NOT fDist<=191.85145'], ['NOT fLength<=37.1477', 'NOT fLength<=46.561859999999996', 'NOT fLength<=61.08167999999999', 'NOT fLength<=80.00280000000001', 'NOT fSize<=2.4216', 'NOT fSize<=2.5296', 'NOT fSize<=2.634', 'NOT fSize<=2.7396', 'NOT fSize<=2.8639', 'NOT fAlpha<=4.1578800000000005', 'NOT fAlpha<=7.29494', 'NOT fAlpha<=11.4574', 'NOT fAlpha<=17.6795'], ['NOT fLength<=30.984860000000005', 'NOT fLength<=37.1477', 'fWidth<=15.135580000000001', 'fSize<=2.2867', 'fSize<=2.4216', 'NOT fM3Trans<=-9.503109999999998', 'NOT fAlpha<=17.6795', 'NOT fAlpha<=26.6302'], ['NOT fLength<=30.984860000000005', 'NOT fAlpha<=17.6795', 'NOT fAlpha<=26.6302', 'NOT fAlpha<=38.9075', 'NOT fAlpha<=53.61464', 'NOT fDist<=96.58213', 'NOT fDist<=130.3766'], ['NOT fLength<=30.984860000000005', 'NOT fLength<=37.1477', 'NOT fSize<=2.2867', 'NOT fSize<=2.4216', 'NOT fConc<=0.213', 'NOT fConc<=0.3041', 'NOT fM3Trans<=-6.43594', 'NOT fAlpha<=17.6795', 'NOT fAlpha<=26.6302', 'NOT fAlpha<=38.9075'], ['NOT fLength<=37.1477', 'NOT fLength<=46.561859999999996', 'NOT fLength<=61.08167999999999', 'NOT fLength<=80.00280000000001', 'NOT fSize<=2.4216', 'NOT fSize<=2.5296', 'NOT fSize<=2.634', 'NOT fSize<=2.7396', 'fM3Long<=8.313820000000002', 'fM3Long<=44.16412', 'NOT fAlpha<=4.1578800000000005', 'NOT fAlpha<=7.29494', 'fAlpha<=11.4574', 'fAlpha<=38.9075'], ['fWidth<=11.14812', 'fWidth<=12.70988', 'fWidth<=17.139899999999997', 'NOT fSize<=2.2867', 'NOT fSize<=2.4216', 'NOT fSize<=2.5296', 'NOT fAlpha<=4.1578800000000005', 'NOT fAlpha<=7.29494', 'NOT fAlpha<=11.4574', 'NOT fAlpha<=17.6795'], ['fLength<=80.00280000000001', 'fWidth<=11.14812', 'fWidth<=12.70988', 'fWidth<=15.135580000000001', 'NOT fSize<=2.2867', 'NOT fSize<=2.4216', 'NOT fSize<=2.5296', 'NOT fSize<=2.634', 'NOT fM3Long<=-8.297219999999998', 'NOT fAlpha<=4.1578800000000005', 'NOT fAlpha<=7.29494', 'NOT fAlpha<=11.4574', 'NOT fAlpha<=17.6795'], ['fLength<=46.561859999999996', 'fLength<=61.08167999999999', 'fLength<=80.00280000000001', 'fWidth<=9.60832', 'fWidth<=11.14812', 'fWidth<=12.70988', 'fWidth<=15.135580000000001', 'NOT fSize<=2.2867', 'NOT fSize<=2.4216', 'NOT fSize<=2.5296', 'NOT fM3Long<=-17.2748', 'NOT fAlpha<=7.29494'], ['NOT fLength<=30.984860000000005', 'NOT fM3Long<=-34.85791', 'NOT fAlpha<=17.6795', 'NOT fAlpha<=26.6302', 'NOT fAlpha<=38.9075', 'NOT fDist<=96.58213'], ['fWidth<=15.135580000000001', 'fWidth<=17.139899999999997', 'NOT fSize<=2.2867', 'NOT fSize<=2.4216', 'NOT fSize<=2.5296', 'NOT fAlpha<=11.4574', 'NOT fAlpha<=17.6795', 'NOT fAlpha<=26.6302', 'NOT fAlpha<=38.9075'], ['NOT fLength<=46.561859999999996', 'NOT fLength<=61.08167999999999', 'NOT fLength<=80.00280000000001', 'NOT fLength<=105.45940000000002', 'NOT fSize<=2.4216', 'NOT fSize<=2.5296', 'NOT fSize<=2.634', 'NOT fAlpha<=7.29494', 'NOT fAlpha<=11.4574'], ['NOT fLength<=46.561859999999996', 'NOT fLength<=80.00280000000001', 'NOT fLength<=105.45940000000002', 'NOT fSize<=2.4216', 'NOT fSize<=2.5296', 'NOT fSize<=2.634', 'NOT fAlpha<=1.9325999999999999', 'NOT fAlpha<=4.1578800000000005', 'NOT fAlpha<=7.29494', 'NOT fAlpha<=11.4574', 'fAlpha<=17.6795', 'fAlpha<=26.6302'], ['NOT fLength<=26.398090000000003', 'NOT fLength<=30.984860000000005', 'fLength<=37.1477', 'fLength<=46.561859999999996', 'fSize<=2.4216', 'NOT fConc1<=0.1418', 'NOT fConc1<=0.1676', 'NOT fM3Trans<=-6.43594', 'NOT fAlpha<=17.6795', 'NOT fAlpha<=26.6302', 'NOT fAlpha<=38.9075', 'NOT fAlpha<=53.61464'], ['fWidth<=12.70988', 'fWidth<=15.135580000000001', 'NOT fSize<=2.4216', 'NOT fSize<=2.5296', 'NOT fSize<=2.634', 'NOT fAlpha<=4.1578800000000005', 'NOT fAlpha<=7.29494', 'NOT fAlpha<=11.4574', 'fAlpha<=17.6795', 'fAlpha<=26.6302'], ['fWidth<=9.60832', 'fWidth<=11.14812', 'fWidth<=12.70988', 'fWidth<=15.135580000000001', 'fWidth<=17.139899999999997', 'NOT fSize<=2.2867', 'NOT fSize<=2.4216', 'NOT fAlpha<=7.29494', 'NOT fAlpha<=11.4574', 'NOT fAlpha<=26.6302'], ['NOT fLength<=37.1477', 'NOT fLength<=46.561859999999996', 'NOT fLength<=61.08167999999999', 'NOT fLength<=80.00280000000001', 'NOT fSize<=2.4216', 'NOT fSize<=2.5296', 'NOT fSize<=2.7396', 'NOT fSize<=3.0097', 'NOT fAlpha<=17.6795', 'NOT fAlpha<=26.6302'], ['NOT fLength<=30.984860000000005', 'NOT fLength<=37.1477', 'NOT fLength<=46.561859999999996', 'NOT fSize<=2.2867', 'NOT fSize<=2.4216', 'NOT fSize<=2.7396', 'fM3Long<=44.16412', 'NOT fAlpha<=7.29494', 'NOT fAlpha<=11.4574', 'NOT fAlpha<=17.6795'], ['fWidth<=12.70988', 'fWidth<=15.135580000000001', 'NOT fSize<=2.2867', 'NOT fSize<=2.4216', 'NOT fSize<=2.5296', 'NOT fSize<=2.634', 'NOT fM3Long<=-8.297219999999998', 'NOT fAlpha<=4.1578800000000005', 'NOT fAlpha<=7.29494', 'NOT fAlpha<=11.4574', 'NOT fAlpha<=17.6795'], ['fWidth<=11.14812', 'fWidth<=12.70988', 'NOT fSize<=2.2867', 'NOT fSize<=2.4216', 'NOT fSize<=2.5296', 'NOT fAlpha<=7.29494', 'NOT fAlpha<=11.4574', 'NOT fAlpha<=17.6795'], ['NOT fLength<=46.561859999999996', 'NOT fLength<=61.08167999999999', 'NOT fLength<=80.00280000000001', 'NOT fLength<=105.45940000000002', 'NOT fSize<=2.4216', 'NOT fSize<=2.5296', 'NOT fSize<=2.634', 'NOT fAlpha<=4.1578800000000005', 'fAlpha<=11.4574', 'fAlpha<=17.6795', 'fAlpha<=38.9075'], ['fLength<=61.08167999999999', 'fWidth<=9.60832', 'fWidth<=11.14812', 'fWidth<=12.70988', 'fWidth<=15.135580000000001', 'fWidth<=17.139899999999997', 'NOT fSize<=2.2867', 'NOT fSize<=2.4216', 'NOT fSize<=2.5296', 'NOT fM3Long<=-17.2748', 'NOT fAlpha<=7.29494', 'NOT fAlpha<=11.4574', 'NOT fAlpha<=17.6795', 'NOT fAlpha<=26.6302'], ['NOT fLength<=46.561859999999996', 'NOT fLength<=61.08167999999999', 'NOT fSize<=2.4216', 'fM3Long<=44.16412', 'fM3Long<=67.02396000000002', 'NOT fAlpha<=4.1578800000000005', 'NOT fAlpha<=7.29494', 'NOT fAlpha<=11.4574'], ['NOT fLength<=30.984860000000005', 'NOT fLength<=46.561859999999996', 'NOT fLength<=61.08167999999999', 'NOT fLength<=80.00280000000001', 'NOT fWidth<=38.67311000000001', 'NOT fSize<=2.2867', 'NOT fSize<=2.4216', 'NOT fSize<=2.5296', 'NOT fSize<=2.634', 'fAsym<=-14.45285', 'NOT fAlpha<=4.1578800000000005', 'NOT fAlpha<=7.29494', 'NOT fAlpha<=11.4574', 'fAlpha<=17.6795'], ['fWidth<=15.135580000000001', 'fWidth<=17.139899999999997', 'NOT fSize<=2.4216', 'NOT fSize<=2.5296', 'NOT fSize<=2.634', 'NOT fAlpha<=11.4574', 'NOT fAlpha<=17.6795', 'NOT fAlpha<=26.6302'], ['NOT fLength<=30.984860000000005', 'NOT fLength<=37.1477', 'NOT fLength<=46.561859999999996', 'NOT fLength<=61.08167999999999', 'NOT fWidth<=27.49262000000001', 'NOT fSize<=2.4216', 'NOT fSize<=2.5296', 'NOT fAlpha<=11.4574', 'NOT fAlpha<=17.6795', 'NOT fAlpha<=26.6302'], ['NOT fLength<=26.398090000000003', 'NOT fLength<=30.984860000000005', 'NOT fSize<=2.2867', 'NOT fSize<=2.4216', 'NOT fConc<=0.1623', 'NOT fAlpha<=17.6795', 'NOT fAlpha<=26.6302', 'NOT fAlpha<=38.9075', 'NOT fAlpha<=53.61464', 'NOT fAlpha<=70.93838000000001', 'NOT fDist<=130.3766']]\n"
     ]
    }
   ],
   "source": [
    "print(rules)"
   ]
  },
  {
   "cell_type": "code",
   "execution_count": 6,
   "id": "164b1653-7cf7-4cbe-9c3b-0ad0bbbc5f15",
   "metadata": {},
   "outputs": [
    {
     "name": "stderr",
     "output_type": "stream",
     "text": [
      "Epoch: 100%|██████████| 1000/1000 [05:09<00:00,  3.23it/s, loss=0.497, epoch accu=0.839, test accu=0.843, num rules=21, sparsity=0.962]\n"
     ]
    }
   ],
   "source": [
    "# Train R2N-tab\n",
    "# Default learning rate (1e-2), and_lam (1e-2), and and_lam (1e-5) usually work the best. A large epochs number is necessary for a sparse rule set i.e 10000 epochs.\n",
    "net = R2Ntab(train_set[:][0].size(1), 50, 1)\n",
    "train_r2ntab(net, train_set, test_set=test_set, device='cpu', lr=1e-2, epochs=1000, batch_size=400,\n",
    "      and_lam=1e-2, or_lam=1e-5, num_alter=500)"
   ]
  },
  {
   "cell_type": "code",
   "execution_count": 7,
   "id": "a30dd87a-a164-4952-8e41-9f98334ca059",
   "metadata": {},
   "outputs": [
    {
     "name": "stdout",
     "output_type": "stream",
     "text": [
      "Accuracy: 0.842534174553102, num rules: 21, num conditions: 71\n"
     ]
    }
   ],
   "source": [
    "# Get accuracy and the rule net\n",
    "accu = (net.predict(np.array(X_test)) == Y_test).mean()\n",
    "rules = net.get_rules(X_headers)\n",
    "print(f'Accuracy: {accu}, num rules: {len(rules)}, num conditions: {sum(map(len, rules))}')"
   ]
  },
  {
   "cell_type": "code",
   "execution_count": 8,
   "id": "a7d09e14-08a3-4a91-a55d-ab62fa516f58",
   "metadata": {},
   "outputs": [
    {
     "name": "stdout",
     "output_type": "stream",
     "text": [
      "[['NOT fLength<=37.1477', 'NOT fWidth<=27.49262000000001', 'NOT fConc<=0.4678'], ['fWidth<=11.14812', 'NOT fSize<=2.5296', 'NOT fAlpha<=17.6795', 'fAlpha<=26.6302'], ['NOT fLength<=105.45940000000002', 'NOT fAlpha<=7.29494', 'fAlpha<=26.6302'], ['NOT fLength<=37.1477', 'fWidth<=15.135580000000001', 'NOT fSize<=2.5296', 'NOT fAlpha<=26.6302'], ['NOT fLength<=80.00280000000001', 'NOT fAlpha<=11.4574', 'NOT fAlpha<=17.6795', 'fAlpha<=26.6302'], ['fWidth<=15.135580000000001', 'NOT fSize<=2.5296', 'NOT fAlpha<=38.9075', 'NOT fDist<=173.6184'], ['NOT fLength<=61.08167999999999', 'NOT fAlpha<=26.6302'], ['NOT fWidth<=38.67311000000001', 'NOT fAlpha<=7.29494', 'NOT fAlpha<=11.4574', 'fAlpha<=17.6795'], ['fWidth<=11.14812', 'NOT fSize<=2.4216', 'NOT fAlpha<=38.9075'], ['NOT fLength<=61.08167999999999', 'fM3Long<=-34.85791', 'NOT fAlpha<=11.4574', 'fAlpha<=26.6302'], ['fWidth<=9.60832', 'NOT fSize<=2.4216'], ['NOT fLength<=46.561859999999996', 'NOT fAlpha<=26.6302', 'NOT fDist<=209.65591999999998'], ['NOT fSize<=2.4216', 'NOT fAlpha<=53.61464', 'NOT fDist<=154.14880000000002'], ['NOT fLength<=80.00280000000001', 'NOT fAlpha<=17.6795', 'NOT fAlpha<=26.6302', 'NOT fDist<=209.65591999999998'], ['NOT fLength<=61.08167999999999', 'fAsym<=-28.717059999999996', 'NOT fAlpha<=17.6795'], ['NOT fLength<=30.984860000000005', 'NOT fSize<=2.5296', 'NOT fAlpha<=38.9075', 'NOT fDist<=130.3766'], ['NOT fLength<=30.984860000000005', 'fSize<=2.4216', 'NOT fAlpha<=38.9075'], ['fWidth<=9.60832', 'NOT fSize<=2.5296', 'NOT fAlpha<=38.9075'], ['fWidth<=12.70988', 'NOT fSize<=2.4216', 'NOT fSize<=2.5296', 'NOT fAlpha<=26.6302', 'NOT fDist<=173.6184'], ['fWidth<=12.70988', 'NOT fSize<=2.5296', 'NOT fAlpha<=17.6795'], ['fWidth<=9.60832', 'NOT fSize<=2.2867', 'NOT fAlpha<=26.6302']]\n"
     ]
    }
   ],
   "source": [
    "print(rules)"
   ]
  },
  {
   "cell_type": "code",
   "execution_count": null,
   "id": "4a57618b-38b1-4988-9c57-41850d5c154d",
   "metadata": {},
   "outputs": [],
   "source": []
  }
 ],
 "metadata": {
  "kernelspec": {
   "display_name": "Python 3",
   "language": "python",
   "name": "python3"
  },
  "language_info": {
   "codemirror_mode": {
    "name": "ipython",
    "version": 3
   },
   "file_extension": ".py",
   "mimetype": "text/x-python",
   "name": "python",
   "nbconvert_exporter": "python",
   "pygments_lexer": "ipython3",
   "version": "3.6.9"
  }
 },
 "nbformat": 4,
 "nbformat_minor": 5
}
