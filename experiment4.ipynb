{
 "cells": [
  {
   "cell_type": "code",
   "execution_count": 1,
   "id": "c0694179-5ae4-4758-a246-f2eda579d945",
   "metadata": {},
   "outputs": [],
   "source": [
    "import wittgenstein as rule\n",
    "import torch\n",
    "import numpy as np\n",
    "import pandas as pd\n",
    "from sklearn.tree import DecisionTreeClassifier\n",
    "from sklearn.tree import export_text\n",
    "from datasets.dataset import transform_dataset, kfold_dataset, predefined_dataset\n",
    "from R2Ntab import R2Ntab\n",
    "from rulelist import RuleList\n",
    "from sklearn.metrics import accuracy_score\n",
    "from sklearn.preprocessing import LabelEncoder\n",
    "#rom Orange.classification.rules import FURIA\n",
    "from ConsistentLocalRules import *\n",
    "\n",
    "#import os\n",
    "#os.environ['TF_CPP_MIN_LOG_LEVEL'] = '3'"
   ]
  },
  {
   "cell_type": "code",
   "execution_count": 4,
   "id": "ab5d4747-24be-4d2a-804b-2343f2cb1e33",
   "metadata": {},
   "outputs": [
    {
     "data": {
      "text/plain": [
       "'/home/mike/miniconda3/envs/master/bin/python'"
      ]
     },
     "execution_count": 4,
     "metadata": {},
     "output_type": "execute_result"
    }
   ],
   "source": [
    "import sys\n",
    "sys.executable"
   ]
  },
  {
   "cell_type": "code",
   "execution_count": 2,
   "id": "24ddf7d3-efca-4832-aaa1-12461786ae0c",
   "metadata": {},
   "outputs": [],
   "source": [
    "rule_learners = ['ripper', 'cart', 'c4.5', 'classy']\n",
    "def run_learner(rule_learner, dataset):\n",
    "    accuracies, sparsities = [], []\n",
    "    if rule_learner == 'r2ntab':\n",
    "        model = R2Ntab(train_set[:][0].size(1), 50, 1)\n",
    "        if dataset == 'adult':\n",
    "            train(model, train_set, test_set=test_set, device='cpu', lr_rules=1e-2, lr_cancel=1e-2, \n",
    "                    epochs=1000, batch_size=400, and_lam=1e-2, or_lam=1e-5, cancel_lam=1e-4, num_alter=500)\n",
    "        elif dataset == 'heloc':\n",
    "            train(model, train_set, test_set=test_set, device='cpu', lr_rules=1e-2, lr_cancel=1e-2, \n",
    "                    epochs=3000, batch_size=400, and_lam=1e-2, or_lam=1e-5, cancel_lam=1e-3, num_alter=500)\n",
    "        else:\n",
    "            train(model, train_set, test_set=test_set, device='cpu', lr_rules=1e-2, lr_cancel=1e-2, \n",
    "                    epochs=2000, batch_size=400, and_lam=1e-2, or_lam=1e-5, cancel_lam=1e-5, num_alter=500)\n",
    "        acc = (model.predict(np.array(X_test)) == Y_test).mean()\n",
    "        sparsity = sum(map(len, model.get_rules(X_headers)))\n",
    "    elif rule_learner == 'ripper':\n",
    "        for max_conditions in [20, 40, 60, 80, 100]\n",
    "            model = rule.RIPPER(max_total_conds=max_conditions)\n",
    "            model.fit(RX_train, Y_train)\n",
    "            accuracies.append(model.score(RX_test, Y_test))\n",
    "            sparsities.append(sum(len(rule) for rule in model.ruleset_))\n",
    "    elif rule_learner == 'cart':\n",
    "        for max_depth in [1, 2, 3, 4, 5]:\n",
    "            model = DecisionTreeClassifier(max_depth=max_depth)\n",
    "            model.fit(X_train, Y_train)\n",
    "            accuracies.append(model.score(X_test, Y_test))\n",
    "            sparsities.append(export_text(model, feature_names=X_train.columns.tolist()).count('('))\n",
    "    elif rule_learner == 'c4.5':\n",
    "        for max_depth in [1, 2, 3, 4, 5]:\n",
    "            model = DecisionTreeClassifier(criterion='entropy', max_depth=max_depth)\n",
    "            model.fit(X_train, Y_train)\n",
    "            accuracies.append(model.score(X_test, Y_test))\n",
    "            sparsities.append(export_text(model, feature_names=X_train.columns.tolist()).count('('))\n",
    "    elif rule_learner == 'classy':\n",
    "        for max_depth in [20, 40, 60, 80, 100]:\n",
    "            model = RuleList(task='prediction', target_model='categorical', max_depth=max_depth)\n",
    "            rules = model.fit(X_train, Y_train)\n",
    "            Y_pred = model.predict(X_test)\n",
    "            accuracies.append(accuracy_score(Y_test, Y_pred))\n",
    "            rules = str(rules)\n",
    "            n_rules = rules.count(\"If\") + rules.count(\"ELSE IF\")\n",
    "            sparsities.append(rules.count(\"AND\") + n_rules)\n",
    "        \n",
    "    return accuracies, sparsities"
   ]
  },
  {
   "cell_type": "code",
   "execution_count": null,
   "id": "d48439bd-1071-4dec-b850-3b632fe6b006",
   "metadata": {
    "tags": []
   },
   "outputs": [
    {
     "name": "stdout",
     "output_type": "stream",
     "text": [
      "run 1\n"
     ]
    },
    {
     "name": "stderr",
     "output_type": "stream",
     "text": [
      "2023-07-31 14:54:15.803760: I tensorflow/tsl/cuda/cudart_stub.cc:28] Could not find cuda drivers on your machine, GPU will not be used.\n",
      "2023-07-31 14:54:15.842748: I tensorflow/tsl/cuda/cudart_stub.cc:28] Could not find cuda drivers on your machine, GPU will not be used.\n",
      "2023-07-31 14:54:15.843274: I tensorflow/core/platform/cpu_feature_guard.cc:182] This TensorFlow binary is optimized to use available CPU instructions in performance-critical operations.\n",
      "To enable the following instructions: AVX2 FMA, in other operations, rebuild TensorFlow with the appropriate compiler flags.\n",
      "2023-07-31 14:54:16.427963: W tensorflow/compiler/tf2tensorrt/utils/py_utils.cc:38] TF-TRT Warning: Could not find TensorRT\n",
      "Epoch:   1%|          | 10/1000 [00:03<05:54,  2.80it/s, rules cancelled=0, loss"
     ]
    }
   ],
   "source": [
    "runs = 10\n",
    "accuracies = {}\n",
    "sparsities = {}\n",
    "for learner in rule_learners:\n",
    "    accuracies[learner] = []\n",
    "    sparsities[learner] = []\n",
    "\n",
    "dataset_names = ['adult', 'heloc', 'house', 'magic']\n",
    "for dataset in dataset_names:\n",
    "    X, Y, X_headers, Y_headers = transform_dataset(dataset, method='onehot-compare', negations=False, labels='binary')\n",
    "    datasets = kfold_dataset(X, Y, shuffle=1)\n",
    "    X_train, X_test, Y_train, Y_test = datasets[0]\n",
    "    train_set = torch.utils.data.TensorDataset(torch.Tensor(X_train.to_numpy()), torch.Tensor(Y_train))\n",
    "    test_set = torch.utils.data.TensorDataset(torch.Tensor(X_test.to_numpy()), torch.Tensor(Y_test))\n",
    "\n",
    "    RX_train = pd.DataFrame(X_train)\n",
    "    RX_train = RX_train.sort_index(axis=1)\n",
    "    RX_test = pd.DataFrame(X_test)\n",
    "    RX_test = RX_test.sort_index(axis=1)\n",
    "    \n",
    "    for run in range(runs):\n",
    "        print(f'run {run+1}') \n",
    "        for learner in rule_learners:\n",
    "            acc, sparsity = run_learner(learner, dataset)\n",
    "            \n",
    "            accuracies[learner].append(acc)\n",
    "            sparsities[learner].append(sparsity)"
   ]
  },
  {
   "cell_type": "code",
   "execution_count": 38,
   "id": "97315690-dbd8-4808-8bc0-bf83997f1794",
   "metadata": {},
   "outputs": [
    {
     "name": "stdout",
     "output_type": "stream",
     "text": [
      "ripper 0.8053543998244459 0.0 234.0 0.0\n",
      "cart 0.8240070221637041 0.0 1792.0 0.0\n",
      "c4.5 0.82642089093702 0.0 1690.0 0.0\n"
     ]
    }
   ],
   "source": [
    "for learner in rule_learners:\n",
    "    print(learner, np.mean(accuracies[learner]), np.std(accuracies[learner]), np.mean(sparsities[learner]), np.std(sparsities[learner]))"
   ]
  },
  {
   "cell_type": "code",
   "execution_count": 8,
   "id": "f454da46-b122-4432-a5cb-c5c059ab501b",
   "metadata": {},
   "outputs": [],
   "source": [
    "import json\n",
    "\n",
    "with open('exp4accs.json', 'w') as file:\n",
    "    json.dump(accuracies, file)\n",
    "\n",
    "with open('exp4spars.json', 'w') as file:\n",
    "    json.dump(sparsities, file)max_depth=1"
   ]
  },
  {
   "cell_type": "code",
   "execution_count": 9,
   "id": "12f93cf7-e1ed-4586-be30-07847fc41c11",
   "metadata": {
    "collapsed": true,
    "jupyter": {
     "outputs_hidden": true
    },
    "tags": []
   },
   "outputs": [
    {
     "name": "stdout",
     "output_type": "stream",
     "text": [
      "{'r2ntab': [0.8044090833747721, 0.8173379744737278, 0.8314271506713078, 0.8322559257417537, 0.8196585446709763, 0.8191612796287088, 0.8208188297696005, 0.831592905685397, 0.8140228741919443, 0.8352395159953588, 0.7174952198852772, 0.6964627151051626, 0.6945506692160612, 0.7146271510516252, 0.6902485659655831, 0.7122370936902486, 0.6998087954110899, 0.6988527724665392, 0.7179732313575525, 0.7050669216061185, 0.8433179723502304, 0.826201448321264, 0.8246653500109721, 0.8389291200351108, 0.836515251261795, 0.8389291200351108, 0.8283958744788238, 0.8347597103357473, 0.8305903006363836, 0.8235681369321922, 0.8228180862250263, 0.8454258675078864, 0.8309674027339643, 0.833596214511041, 0.823080967402734, 0.8338590956887487, 0.8286014721345951, 0.8046792849631966, 0.8251840168243953, 0.8299158780231335], 'ripper': [0.827780540361346, 0.8310956406431295, 0.8286093154317918, 0.8264545002486325, 0.8307641306149511, 0.8276147853472567, 0.8267860102768109, 0.8267860102768109, 0.8302668655726836, 0.8272832753190784, 0.6869024856596558, 0.6926386233269598, 0.7026768642447419, 0.7074569789674953, 0.6969407265774379, 0.6978967495219885, 0.7084130019120459, 0.7108030592734226, 0.6950286806883366, 0.6811663479923518, 0.8571428571428571, 0.7908711871845513, 0.8319069563309195, 0.8384902348035989, 0.7886767610269915, 0.7983322361202545, 0.8485845951283739, 0.8114987930656133, 0.7439104674127716, 0.8518762343647136, 0.8401682439537329, 0.8427970557308097, 0.8301787592008412, 0.8309674027339643, 0.8414826498422713, 0.8341219768664564, 0.8330704521556257, 0.8249211356466877, 0.8388538380651945, 0.844111461619348], 'cart': [0.7884966020222112, 0.7891596220785678, 0.785513011768606, 0.7848499917122493, 0.7845184816840709, 0.7856787667826952, 0.7843527266699818, 0.7903199071771921, 0.7866732968672302, 0.7835239515995359, 0.6266730401529637, 0.619980879541109, 0.6223709369024857, 0.6276290630975143, 0.6195028680688337, 0.6137667304015296, 0.6247609942638623, 0.6195028680688337, 0.6185468451242829, 0.619980879541109, 0.8270792187842879, 0.825543120473996, 0.8200570550800965, 0.82642089093702, 0.8259820057055081, 0.8277375466315559, 0.8224709238534124, 0.826201448321264, 0.8246653500109721, 0.82642089093702, 0.8033648790746583, 0.8020504731861199, 0.8025762355415352, 0.8028391167192429, 0.8078338590956887, 0.8036277602523659, 0.8070452155625657, 0.8031019978969506, 0.8049421661409043, 0.8025762355415352], 'c4.5': [0.7875020719376761, 0.7856787667826952, 0.7846842366981601, 0.7841869716558926, 0.788330847008122, 0.78269517652909, 0.785513011768606, 0.7861760318249627, 0.7863417868390519, 0.7828609315431792, 0.6328871892925431, 0.6376673040152964, 0.6419694072657743, 0.6324091778202677, 0.6376673040152964, 0.640057361376673, 0.640057361376673, 0.635755258126195, 0.6266730401529637, 0.6333652007648184, 0.8233486943164362, 0.8259820057055081, 0.8310291858678955, 0.8316875137151635, 0.8251042352424841, 0.8308097432521395, 0.8292736449418477, 0.8321263989466754, 0.8270792187842879, 0.8283958744788238, 0.7949526813880127, 0.7973186119873817, 0.795478443743428, 0.7965299684542587, 0.7920609884332281, 0.7941640378548895, 0.7981072555205048, 0.7994216614090431, 0.7939011566771819, 0.7991587802313355]}\n",
      "{'r2ntab': [90, 75, 126, 124, 98, 46, 59, 164, 91, 60, 317, 309, 257, 264, 360, 245, 313, 367, 278, 366, 109, 64, 57, 93, 83, 83, 91, 92, 82, 42, 135, 92, 129, 146, 139, 119, 83, 75, 137, 85], 'ripper': [358, 282, 280, 282, 338, 294, 215, 250, 260, 320, 95, 118, 93, 85, 134, 147, 97, 64, 122, 75, 403, 189, 353, 317, 201, 198, 319, 221, 197, 420, 247, 245, 133, 244, 228, 215, 272, 203, 222, 250], 'cart': [1252, 1248, 1250, 1250, 1256, 1248, 1252, 1256, 1256, 1250, 1444, 1438, 1432, 1440, 1438, 1440, 1444, 1442, 1440, 1444, 1792, 1798, 1790, 1794, 1794, 1796, 1794, 1792, 1794, 1796, 1492, 1494, 1488, 1498, 1494, 1492, 1488, 1490, 1488, 1492], 'c4.5': [1092, 1088, 1092, 1088, 1088, 1090, 1090, 1088, 1088, 1090, 1258, 1258, 1256, 1254, 1256, 1260, 1256, 1256, 1254, 1252, 1686, 1690, 1684, 1682, 1684, 1688, 1690, 1684, 1686, 1682, 1348, 1346, 1346, 1350, 1344, 1348, 1346, 1354, 1346, 1346]}\n"
     ]
    }
   ],
   "source": [
    "print(accuracies)\n",
    "print(sparsities)heloc"
   ]
  },
  {
   "cell_type": "code",
   "execution_count": 4,
   "id": "2f294544-0e56-4650-8af0-2ea45de531e8",
   "metadata": {
    "tags": []
   },
   "outputs": [],
   "source": [
    "X, Y, X_headers, Y_headers = transform_dataset('heloc', method='onehot-compare', negations=False, labels='binary')\n",
    "datasets = kfold_dataset(X, Y, shuffle=1)\n",
    "X_train, X_test, Y_train, Y_test = datasets[0]\n",
    "train_set = torch.utils.data.TensorDataset(torch.Tensor(X_train.to_numpy()), torch.Tensor(Y_train))\n",
    "test_set = torch.utils.data.TensorDataset(torch.Tensor(X_test.to_numpy()), torch.Tensor(Y_test))"
   ]
  },
  {
   "cell_type": "code",
   "execution_count": null,
   "id": "4f1cbbad-9db0-473e-b7d0-55837d6a1004",
   "metadata": {},
   "outputs": [
    {
     "name": "stdout",
     "output_type": "stream",
     "text": [
      "target_model\n",
      "alpha_gain\n",
      "max_depth\n",
      "beam_width\n",
      "min_support\n",
      "n_cutpoints\n",
      "discretization\n",
      "task\n",
      "number_rules\n",
      "max_rules\n",
      "_rulelist\n",
      "Iteration: 1\n",
      "Iteration: 2\n",
      "Iteration: 3\n",
      "Iteration: 4\n",
      "Iteration: 5\n",
      "Iteration: 6\n",
      "Iteration: 7\n",
      "Iteration: 8\n",
      "Iteration: 9\n",
      "Iteration: 10\n",
      "Iteration: 11\n",
      "Iteration: 12\n",
      "Iteration: 13\n",
      "Iteration: 14\n",
      "Iteration: 15\n"
     ]
    }
   ],
   "source": [
    "model = RuleList(task = 'prediction', target_model = 'categorical', max_depth=60)\n",
    "attribute_names = vars(model)  # or obj.__dict__\n",
    "for attribute_name in attribute_names:\n",
    "    print(attribute_name)\n",
    "rules = model.fit(X_train, Y_train)"
   ]
  },
  {
   "cell_type": "code",
   "execution_count": null,
   "id": "3adeddd5-2a77-497a-869c-1172678a1951",
   "metadata": {
    "tags": []
   },
   "outputs": [],
   "source": [
    "Y_pred = model.predict(X_test)\n",
    "from sklearn.metrics import accuracy_score\n",
    "accuracy_score(Y_test, Y_pred)"
   ]
  },
  {
   "cell_type": "code",
   "execution_count": null,
   "id": "a6b55ac2-9ddb-45bb-9855-4b9e71429c36",
   "metadata": {
    "tags": []
   },
   "outputs": [],
   "source": [
    "rules = str(rules)\n",
    "n_rules = rules.count(\"If\") + rules.count(\"ELSE IF\")\n",
    "n_conditions = rules.count(\"AND\") + n_rules\n",
    "print(n_rules)\n",
    "print(n_conditions)\n",
    "print(rules)"
   ]
  },
  {
   "cell_type": "code",
   "execution_count": 2,
   "id": "d315f8fe-5cc4-4423-bfe3-f2039d21307d",
   "metadata": {},
   "outputs": [],
   "source": [
    "X_T, Y_T, _, _ = predefined_dataset('heloc')\n",
    "X_T = X_T.fillna(0)\n",
    "\n",
    "le = LabelEncoder()\n",
    "Y_T = le.fit_transform(Y_T).astype(int)\n",
    "\n",
    "Y_T = pd.Series(Y_T, dtype=object)\n",
    "\n",
    "explainer = ConsistentRulesExplainer(X_T, Y_T)"
   ]
  },
  {
   "cell_type": "code",
   "execution_count": null,
   "id": "06f242a2-df84-47e7-8466-a2d8ce5eae0a",
   "metadata": {
    "tags": []
   },
   "outputs": [],
   "source": [
    "df_explanations = explainer.explain(X_T, Y_T, objective='SPARSITY', n_explanations=10, max_features=100)\n",
    "#print(df_explanations.loc[:,\"Rule\"].values)"
   ]
  },
  {
   "cell_type": "code",
   "execution_count": 96,
   "id": "c7945624-b554-40e3-a171-2905d2ce0ff7",
   "metadata": {
    "tags": []
   },
   "outputs": [
    {
     "name": "stdout",
     "output_type": "stream",
     "text": [
      "  x1 x2  y\n",
      "0  0  0  1\n",
      "1  0  1  0\n",
      "2  1  0  0\n",
      "3  1  1  0\n"
     ]
    },
    {
     "data": {
      "image/png": "[encoded data removed]",
      "text/plain": [
       "<Figure size 640x480 with 2 Axes>"
      ]
     },
     "metadata": {},
     "output_type": "display_data"
    }
   ],
   "source": [
    "X,Y_global,df = toy_binary_dataset(plot=True, print_table=True)"
   ]
  },
  {
   "cell_type": "code",
   "execution_count": 97,
   "id": "1410f2f4-a766-4ee9-a542-dd42ec57ee58",
   "metadata": {
    "tags": []
   },
   "outputs": [],
   "source": [
    "explainer = ConsistentRulesExplainer(X, Y_global)   "
   ]
  },
  {
   "cell_type": "code",
   "execution_count": 98,
   "id": "63e6a15e-461b-4d49-b052-1f140f8a6466",
   "metadata": {
    "tags": []
   },
   "outputs": [],
   "source": [
    "df_explanations = explainer.explain(X, Y_global, objective='SPARSITY', n_explanations=10, max_features=9999)"
   ]
  },
  {
   "cell_type": "code",
   "execution_count": 105,
   "id": "0ba19ed2-ec8a-443a-8d90-0290b089ced0",
   "metadata": {
    "tags": []
   },
   "outputs": [
    {
     "name": "stdout",
     "output_type": "stream",
     "text": [
      "<class 'pandas.core.frame.DataFrame'>\n",
      "hoi\n",
      "<class 'pandas.core.series.Series'>\n",
      "  x1 x2\n",
      "0  0  0\n",
      "1  0  1\n",
      "2  1  0\n",
      "3  1  1\n",
      "0    1\n",
      "1    0\n",
      "2    0\n",
      "3    0\n",
      "Name: y, dtype: object\n"
     ]
    }
   ],
   "source": [
    "print(type(X))\n",
    "print(\"hoi\")\n",
    "print(type(Y_global))\n",
    "print(X)\n",
    "print(Y_global)"
   ]
  },
  {
   "cell_type": "code",
   "execution_count": 6,
   "id": "b726d531-d035-40a4-8c2d-83d862f24345",
   "metadata": {
    "tags": []
   },
   "outputs": [
    {
     "data": {
      "text/html": [
       "<div>\n",
       "<style scoped>\n",
       "    .dataframe tbody tr th:only-of-type {\n",
       "        vertical-align: middle;\n",
       "    }\n",
       "\n",
       "    .dataframe tbody tr th {\n",
       "        vertical-align: top;\n",
       "    }\n",
       "\n",
       "    .dataframe thead th {\n",
       "        text-align: right;\n",
       "    }\n",
       "</style>\n",
       "<table border=\"1\" class=\"dataframe\">\n",
       "  <thead>\n",
       "    <tr style=\"text-align: right;\">\n",
       "      <th></th>\n",
       "      <th>#Observation</th>\n",
       "      <th>#Explanation</th>\n",
       "      <th>Rule</th>\n",
       "      <th>Prediction</th>\n",
       "      <th>Support</th>\n",
       "      <th>#Features</th>\n",
       "      <th>Runtime</th>\n",
       "      <th>Algorithm</th>\n",
       "    </tr>\n",
       "  </thead>\n",
       "  <tbody>\n",
       "    <tr>\n",
       "      <th>0</th>\n",
       "      <td>0</td>\n",
       "      <td>0</td>\n",
       "      <td>69.00&lt;=PercentTradesWBalance&lt;=69.00, ExternalR...</td>\n",
       "      <td>0</td>\n",
       "      <td>7</td>\n",
       "      <td>2</td>\n",
       "      <td>10.0</td>\n",
       "      <td>ContMinSetCover</td>\n",
       "    </tr>\n",
       "    <tr>\n",
       "      <th>1</th>\n",
       "      <td>0</td>\n",
       "      <td>1</td>\n",
       "      <td>83.00&lt;=PercentTradesNeverDelq&lt;=83.00, MaxDelq2...</td>\n",
       "      <td>0</td>\n",
       "      <td>22</td>\n",
       "      <td>2</td>\n",
       "      <td>10.0</td>\n",
       "      <td>ContMinSetCover</td>\n",
       "    </tr>\n",
       "    <tr>\n",
       "      <th>2</th>\n",
       "      <td>0</td>\n",
       "      <td>2</td>\n",
       "      <td>NumTrades60Ever2DerogPubRec&gt;=3.00, 33.00&lt;=NetF...</td>\n",
       "      <td>0</td>\n",
       "      <td>7</td>\n",
       "      <td>2</td>\n",
       "      <td>10.0</td>\n",
       "      <td>ContMinSetCover</td>\n",
       "    </tr>\n",
       "  </tbody>\n",
       "</table>\n",
       "</div>"
      ],
      "text/plain": [
       "   #Observation  #Explanation  \\\n",
       "0             0             0   \n",
       "1             0             1   \n",
       "2             0             2   \n",
       "\n",
       "                                                Rule  Prediction  Support  \\\n",
       "0  69.00<=PercentTradesWBalance<=69.00, ExternalR...           0        7   \n",
       "1  83.00<=PercentTradesNeverDelq<=83.00, MaxDelq2...           0       22   \n",
       "2  NumTrades60Ever2DerogPubRec>=3.00, 33.00<=NetF...           0        7   \n",
       "\n",
       "   #Features Runtime        Algorithm  \n",
       "0          2    10.0  ContMinSetCover  \n",
       "1          2    10.0  ContMinSetCover  \n",
       "2          2    10.0  ContMinSetCover  "
      ]
     },
     "execution_count": 6,
     "metadata": {},
     "output_type": "execute_result"
    }
   ],
   "source": [
    "df_explanations"
   ]
  },
  {
   "cell_type": "code",
   "execution_count": 8,
   "id": "5ea2ed6f-8324-4db2-a8bb-f19c8a39c449",
   "metadata": {
    "tags": []
   },
   "outputs": [],
   "source": [
    "X, Y, X_headers, Y_headers = transform_dataset('heloc', method='onehot-compare', negations=False, labels='binary')\n",
    "datasets = kfold_dataset(X, Y, shuffle=1)\n",
    "X_train, X_test, Y_train, Y_test = datasets[0]\n",
    "train_set = torch.utils.data.TensorDataset(torch.Tensor(X_train.to_numpy()), torch.Tensor(Y_train))\n",
    "test_set = torch.utils.data.TensorDataset(torch.Tensor(X_test.to_numpy()), torch.Tensor(Y_test))"
   ]
  },
  {
   "cell_type": "code",
   "execution_count": 20,
   "id": "af0c0709-a2d5-435c-86e9-353a0010ad80",
   "metadata": {},
   "outputs": [],
   "source": [
    "RX_train = pd.DataFrame(X_train)\n",
    "RX_train = RX_train.sort_index(axis=1)\n",
    "RX_test = pd.DataFrame(X_test)\n",
    "RX_test = RX_test.sort_index(axis=1)\n",
    "\n",
    "model = rule.RIPPER(max_total_conds=100)\n",
    "model.fit(RX_train, Y_train)\n",
    "acc = model.score(RX_test, Y_test)\n",
    "sparsity = sum(len(rule) for rule in model.ruleset_)"
   ]
  },
  {
   "cell_type": "code",
   "execution_count": 21,
   "id": "4de8264a-9c5b-4f53-a417-29140f15582a",
   "metadata": {
    "tags": []
   },
   "outputs": [
    {
     "name": "stdout",
     "output_type": "stream",
     "text": [
      "0.6878585086042065\n",
      "64\n",
      "[[\"(ExternalRiskEstimate^<=^74.0)=0\"^\"(ExternalRiskEstimate^<=^81.0)=0\"^\"(MSinceMostRecentInqexcl7days^<=^2.4777188328912465)=0\"] V [\"(ExternalRiskEstimate^<=^72.06044011763512)=0\"^\"(ExternalRiskEstimate^<=^78.0)=0\"^\"(MSinceMostRecentInqexcl7days^<=^0.0)=0\"^\"(NumSatisfactoryTrades^<=^12.0)=0\"^\"(AverageMInFile^<=^78.0)=0\"] V [\"(ExternalRiskEstimate^<=^72.06044011763512)=0\"^\"(ExternalRiskEstimate^<=^78.0)=0\"^\"(AverageMInFile^<=^63.0)=0\"^\"(NumBank2NatlTradesWHighUtilization^<=^0.0)=1\"^\"(PercentTradesWBalance^<=^71.0)=1\"^\"(NumSatisfactoryTrades^<=^12.0)=0\"^\"(MaxDelqEver^<=^7.0)=0\"^\"(MSinceOldestTradeOpen^<=^173.0)=1\"^\"(MSinceMostRecentTradeOpen^<=^9.588491540877317)=1\"] V [\"(ExternalRiskEstimate^<=^72.06044011763512)=0\"^\"(AverageMInFile^<=^63.0)=0\"^\"(NetFractionRevolvingBurden^<=^33.0)=1\"^\"(MaxDelq2PublicRecLast12M^<=^6.0)=0\"^\"(NetFractionRevolvingBurden^<=^14.0)=1\"^\"(NumTotalTrades^<=^8.0)=0\"] V [\"(ExternalRiskEstimate^<=^69.0)=0\"^\"(ExternalRiskEstimate^<=^74.0)=0\"^\"(NumSatisfactoryTrades^<=^12.0)=0\"^\"(NetFractionRevolvingBurden^<=^36.0)=1\"^\"(AverageMInFile^<=^70.0)=0\"] V [\"(ExternalRiskEstimate^<=^69.0)=0\"^\"(ExternalRiskEstimate^<=^74.0)=0\"^\"(PercentInstallTrades^<=^48.0)=1\"^\"(ExternalRiskEstimate^<=^78.0)=0\"^\"(NumInstallTradesWBalance^<=^2.0)=1\"^\"(ExternalRiskEstimate^<=^81.0)=0\"^\"(NumInstallTradesWBalance^<=^1.0)=1\"^\"(NetFractionRevolvingBurden^<=^2.0)=0\"^\"(PercentInstallTrades^<=^29.0)=0\"] V [\"(ExternalRiskEstimate^<=^69.0)=0\"^\"(ExternalRiskEstimate^<=^74.0)=0\"^\"(PercentInstallTrades^<=^29.0)=1\"^\"(ExternalRiskEstimate^<=^78.0)=0\"^\"(MSinceOldestTradeOpen^<=^152.0)=1\"^\"(PercentInstallTrades^<=^14.0)=0\"] V [\"(ExternalRiskEstimate^<=^66.0)=0\"^\"(NumSatisfactoryTrades^<=^22.0)=0\"^\"(NetFractionRevolvingBurden^<=^23.0)=1\"^\"(NumSatisfactoryTrades^<=^29.0)=0\"^\"(MSinceMostRecentTradeOpen^<=^3.0)=1\"^\"(NetFractionInstallBurden^<=^74.0)=1\"^\"(NetFractionInstallBurden^<=^60.0)=0\"^\"(NumInqLast6M^<=^0.0)=0\"] V [\"(ExternalRiskEstimate^<=^66.0)=0\"^\"(NumSatisfactoryTrades^<=^21.0)=0\"^\"(NumSatisfactoryTrades^<=^25.0)=0\"^\"(NumRevolvingTradesWBalance^<=^4.0)=1\"^\"(PercentTradesNeverDelq^<=^94.0)=0\"^\"(PercentTradesWBalance^<=^63.0)=0\"] V [\"(ExternalRiskEstimate^<=^66.0)=0\"^\"(NumSatisfactoryTrades^<=^18.0)=0\"^\"(PercentTradesNeverDelq^<=^96.0)=0\"^\"(NumBank2NatlTradesWHighUtilization^<=^2.0)=1\"^\"(NumTradesOpeninLast12M^<=^3.0)=1\"^\"(MSinceMostRecentInqexcl7days^<=^0.0)=0\"^\"(MSinceOldestTradeOpen^<=^173.0)=0\"]]\n"
     ]
    }
   ],
   "source": [
    "print(acc)\n",
    "print(sparsity)\n",
    "print(model.ruleset_)"
   ]
  },
  {
   "cell_type": "code",
   "execution_count": 37,
   "id": "32e9e298-6f05-4689-9725-c359b5929892",
   "metadata": {
    "tags": []
   },
   "outputs": [],
   "source": [
    "model = DecisionTreeClassifier(max_depth=1)\n",
    "model.fit(X_train, Y_train)\n",
    "acc = model.score(X_test, Y_test)\n",
    "sparsity = export_text(model, feature_names=X_train.columns.tolist()).count('(')"
   ]
  },
  {
   "cell_type": "code",
   "execution_count": 38,
   "id": "58add265-8f1d-40b4-b2bb-bf2842b9b29d",
   "metadata": {
    "tags": []
   },
   "outputs": [
    {
     "name": "stdout",
     "output_type": "stream",
     "text": [
      "0.7031548757170172\n",
      "2\n"
     ]
    }
   ],
   "source": [
    "print(acc)\n",
    "print(sparsity)"
   ]
  },
  {
   "cell_type": "code",
   "execution_count": 39,
   "id": "6ff9a628-ee84-4d2b-926e-19e7108bae87",
   "metadata": {
    "tags": []
   },
   "outputs": [
    {
     "name": "stdout",
     "output_type": "stream",
     "text": [
      "|--- ('ExternalRiskEstimate', '<=', 74.0) <= 0.50\n",
      "|   |--- class: 1\n",
      "|--- ('ExternalRiskEstimate', '<=', 74.0) >  0.50\n",
      "|   |--- class: 0\n",
      "\n"
     ]
    }
   ],
   "source": [
    "print(export_text(model, feature_names=X_train.columns.tolist()))"
   ]
  },
  {
   "cell_type": "code",
   "execution_count": 7,
   "id": "8fcddb29-c6ce-4808-afc5-36f46cdd65ef",
   "metadata": {},
   "outputs": [],
   "source": [
    "cls = Classifier(name='weka.classifiers.rules.FURIA')"
   ]
  },
  {
   "cell_type": "code",
   "execution_count": 14,
   "id": "03910371-0dd7-4231-ae1d-f1ba3482ee13",
   "metadata": {
    "tags": []
   },
   "outputs": [
    {
     "name": "stdout",
     "output_type": "stream",
     "text": [
      "['__class__', '__delattr__', '__dict__', '__dir__', '__doc__', '__eq__', '__format__', '__ge__', '__getattribute__', '__gt__', '__hash__', '__init__', '__init_subclass__', '__le__', '__lt__', '__module__', '__ne__', '__new__', '__reduce__', '__reduce_ex__', '__repr__', '__setattr__', '__sizeof__', '__str__', '__subclasshook__', '__weakref__', '_get_ckargs_str', '_model_data', 'ckargs', 'last_training_stderr', 'last_training_stdout', 'load', 'load_raw', 'name', 'predict', 'save', 'schema', 'test', 'train', 'training_correlation_coefficient', 'training_mean_absolute_error']\n"
     ]
    }
   ],
   "source": [
    "print(dir(cls))"
   ]
  },
  {
   "cell_type": "code",
   "execution_count": 11,
   "id": "94b377ad-07fb-4a0e-8bd8-19c29a75ce92",
   "metadata": {
    "tags": []
   },
   "outputs": [
    {
     "ename": "AssertionError",
     "evalue": "",
     "output_type": "error",
     "traceback": [
      "\u001b[0;31m---------------------------------------------------------------------------\u001b[0m",
      "\u001b[0;31mAssertionError\u001b[0m                            Traceback (most recent call last)",
      "\u001b[0;32m/tmp/ipykernel_17438/3642247802.py\u001b[0m in \u001b[0;36m<module>\u001b[0;34m\u001b[0m\n\u001b[0;32m----> 1\u001b[0;31m \u001b[0mcls\u001b[0m\u001b[0;34m.\u001b[0m\u001b[0mtrain\u001b[0m\u001b[0;34m(\u001b[0m\u001b[0mX_train\u001b[0m\u001b[0;34m,\u001b[0m \u001b[0mY_train\u001b[0m\u001b[0;34m)\u001b[0m\u001b[0;34m\u001b[0m\u001b[0;34m\u001b[0m\u001b[0m\n\u001b[0m",
      "\u001b[0;32m~/miniconda3/envs/master/lib/python3.7/site-packages/weka/classifiers.py\u001b[0m in \u001b[0;36mtrain\u001b[0;34m(self, training_data, testing_data, verbose)\u001b[0m\n\u001b[1;32m    322\u001b[0m                 \u001b[0mtraining_fn\u001b[0m \u001b[0;34m=\u001b[0m \u001b[0mtraining_data\u001b[0m\u001b[0;34m\u001b[0m\u001b[0;34m\u001b[0m\u001b[0m\n\u001b[1;32m    323\u001b[0m             \u001b[0;32melse\u001b[0m\u001b[0;34m:\u001b[0m\u001b[0;34m\u001b[0m\u001b[0;34m\u001b[0m\u001b[0m\n\u001b[0;32m--> 324\u001b[0;31m                 \u001b[0;32massert\u001b[0m \u001b[0misinstance\u001b[0m\u001b[0;34m(\u001b[0m\u001b[0mtraining_data\u001b[0m\u001b[0;34m,\u001b[0m \u001b[0marff\u001b[0m\u001b[0;34m.\u001b[0m\u001b[0mArffFile\u001b[0m\u001b[0;34m)\u001b[0m\u001b[0;34m\u001b[0m\u001b[0;34m\u001b[0m\u001b[0m\n\u001b[0m\u001b[1;32m    325\u001b[0m                 \u001b[0mfd\u001b[0m\u001b[0;34m,\u001b[0m \u001b[0mtraining_fn\u001b[0m \u001b[0;34m=\u001b[0m \u001b[0mtempfile\u001b[0m\u001b[0;34m.\u001b[0m\u001b[0mmkstemp\u001b[0m\u001b[0;34m(\u001b[0m\u001b[0msuffix\u001b[0m\u001b[0;34m=\u001b[0m\u001b[0;34m'.arff'\u001b[0m\u001b[0;34m)\u001b[0m\u001b[0;34m\u001b[0m\u001b[0;34m\u001b[0m\u001b[0m\n\u001b[1;32m    326\u001b[0m                 \u001b[0mos\u001b[0m\u001b[0;34m.\u001b[0m\u001b[0mclose\u001b[0m\u001b[0;34m(\u001b[0m\u001b[0mfd\u001b[0m\u001b[0;34m)\u001b[0m\u001b[0;34m\u001b[0m\u001b[0;34m\u001b[0m\u001b[0m\n",
      "\u001b[0;31mAssertionError\u001b[0m: "
     ]
    }
   ],
   "source": [
    "cls.train(X_train, Y_train)"
   ]
  },
  {
   "cell_type": "code",
   "execution_count": null,
   "id": "644b1b52-9aa8-41d5-83b1-3f4b28cd3f4b",
   "metadata": {},
   "outputs": [],
   "source": []
  }
 ],
 "metadata": {
  "kernelspec": {
   "display_name": "Python 3",
   "language": "python",
   "name": "python3"
  },
  "language_info": {
   "codemirror_mode": {
    "name": "ipython",
    "version": 3
   },
   "file_extension": ".py",
   "mimetype": "text/x-python",
   "name": "python",
   "nbconvert_exporter": "python",
   "pygments_lexer": "ipython3",
   "version": "3.7.16"
  }
 },
 "nbformat": 4,
 "nbformat_minor": 5
}
