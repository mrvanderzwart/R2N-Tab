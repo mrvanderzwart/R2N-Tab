{
 "cells": [
  {
   "cell_type": "code",
   "execution_count": 18,
   "id": "c0694179-5ae4-4758-a246-f2eda579d945",
   "metadata": {},
   "outputs": [],
   "source": [
    "import wittgenstein as rule\n",
    "import torch\n",
    "import numpy as np\n",
    "import pandas as pd\n",
    "from sklearn.tree import DecisionTreeClassifier\n",
    "from sklearn.tree import export_text\n",
    "from datasets.dataset import transform_dataset, kfold_dataset\n",
    "from R2Ntab import train as train_r2ntab, R2Ntab"
   ]
  },
  {
   "cell_type": "code",
   "execution_count": 34,
   "id": "49fc9a4a-7bea-46df-a8b3-fa948aaf129c",
   "metadata": {},
   "outputs": [],
   "source": [
    "# Read datasets\n",
    "name = 'house'\n",
    "X, Y, X_headers, Y_headers = transform_dataset(name, method='onehot-compare', negations=False, labels='binary')\n",
    "datasets = kfold_dataset(X, Y, shuffle=1)\n",
    "X_train, X_test, Y_train, Y_test = datasets[0]\n",
    "train_set = torch.utils.data.TensorDataset(torch.Tensor(X_train.to_numpy()), torch.Tensor(Y_train))\n",
    "test_set = torch.utils.data.TensorDataset(torch.Tensor(X_test.to_numpy()), torch.Tensor(Y_test))"
   ]
  },
  {
   "cell_type": "code",
   "execution_count": 35,
   "id": "7827dff7-aa48-4966-ba87-61aeb6406bad",
   "metadata": {},
   "outputs": [],
   "source": [
    "RX_train = pd.DataFrame(X_train)\n",
    "RX_train = RX_train.sort_index(axis=1)\n",
    "RX_test = pd.DataFrame(X_test)\n",
    "RX_test = RX_test.sort_index(axis=1)"
   ]
  },
  {
   "cell_type": "code",
   "execution_count": 36,
   "id": "24ddf7d3-efca-4832-aaa1-12461786ae0c",
   "metadata": {},
   "outputs": [],
   "source": [
    "rule_learners = ['r2ntab', 'ripper', 'cart', 'c4.5']\n",
    "def run_learner(rule_learner):\n",
    "    if rule_learner == 'r2ntab':\n",
    "        model = R2Ntab(train_set[:][0].size(1), 50, 1)\n",
    "        train_r2ntab(model, train_set, test_set=test_set, device='cpu', lr_rules=1e-2, lr_cancel=1e-2, \n",
    "                epochs=2000, batch_size=400, and_lam=1e-2, or_lam=1e-5, cancel_lam=1e-5, num_alter=500)\n",
    "        acc = (model.predict(np.array(X_test)) == Y_test).mean()\n",
    "        sparsity = sum(map(len, model.get_rules(X_headers)))\n",
    "    elif rule_learner == 'ripper':\n",
    "        model = rule.RIPPER()\n",
    "        model.fit(RX_train, Y_train)\n",
    "        acc = model.score(RX_test, Y_test)\n",
    "        sparsity = sum(len(rule) for rule in model.ruleset_)\n",
    "    elif rule_learner == 'cart':\n",
    "        model = DecisionTreeClassifier()\n",
    "        model.fit(X_train, Y_train)\n",
    "        acc = model.score(X_test, Y_test)\n",
    "        sparsity = export_text(model, feature_names=X_train.columns.tolist()).count('(')\n",
    "    elif rule_learner == 'c4.5':\n",
    "        model = DecisionTreeClassifier(criterion='entropy')\n",
    "        model.fit(X_train, Y_train)\n",
    "        acc = model.score(X_test, Y_test)\n",
    "        sparsity = export_text(model, feature_names=X_train.columns.tolist()).count('(')\n",
    "        \n",
    "    return acc, sparsity"
   ]
  },
  {
   "cell_type": "code",
   "execution_count": 37,
   "id": "d48439bd-1071-4dec-b850-3b632fe6b006",
   "metadata": {
    "tags": []
   },
   "outputs": [
    {
     "name": "stdout",
     "output_type": "stream",
     "text": [
      "run 1\n"
     ]
    }
   ],
   "source": [
    "runs = 1\n",
    "accuracies = {}\n",
    "sparsities = {}\n",
    "for learner in rule_learners:\n",
    "    accuracies[learner] = []\n",
    "    sparsities[learner] = []\n",
    "    \n",
    "for run in range(runs):\n",
    "    print(f'run {run+1}') \n",
    "    for learner in rule_learners:\n",
    "        acc, sparsity = run_learner(learner)\n",
    "        \n",
    "        accuracies[learner].append(acc)\n",
    "        sparsities[learner].append(sparsity)"
   ]
  },
  {
   "cell_type": "code",
   "execution_count": 38,
   "id": "97315690-dbd8-4808-8bc0-bf83997f1794",
   "metadata": {},
   "outputs": [
    {
     "name": "stdout",
     "output_type": "stream",
     "text": [
      "ripper 0.8053543998244459 0.0 234.0 0.0\n",
      "cart 0.8240070221637041 0.0 1792.0 0.0\n",
      "c4.5 0.82642089093702 0.0 1690.0 0.0\n"
     ]
    }
   ],
   "source": [
    "for learner in rule_learners:\n",
    "    print(learner, np.mean(accuracies[learner]), np.std(accuracies[learner]), np.mean(sparsities[learner]), np.std(sparsities[learner]))"
   ]
  },
  {
   "cell_type": "code",
   "execution_count": 7,
   "id": "f454da46-b122-4432-a5cb-c5c059ab501b",
   "metadata": {},
   "outputs": [],
   "source": [
    "import json\n",
    "\n",
    "with open('heloc.txt', 'w') as file:\n",
    "    file.write(json.dumps(accuracies))\n",
    "    file.write(json.dumps(sparsities))"
   ]
  }
 ],
 "metadata": {
  "kernelspec": {
   "display_name": "Python 3 (ipykernel)",
   "language": "python",
   "name": "python3"
  },
  "language_info": {
   "codemirror_mode": {
    "name": "ipython",
    "version": 3
   },
   "file_extension": ".py",
   "mimetype": "text/x-python",
   "name": "python",
   "nbconvert_exporter": "python",
   "pygments_lexer": "ipython3",
   "version": "3.8.10"
  }
 },
 "nbformat": 4,
 "nbformat_minor": 5
}
