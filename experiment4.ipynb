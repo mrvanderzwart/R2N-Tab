{
 "cells": [
  {
   "cell_type": "code",
   "execution_count": 3,
   "id": "c0694179-5ae4-4758-a246-f2eda579d945",
   "metadata": {},
   "outputs": [],
   "source": [
    "import wittgenstein as rule\n",
    "import torch\n",
    "import numpy as np\n",
    "import pandas as pd\n",
    "from sklearn.tree import DecisionTreeClassifier\n",
    "from sklearn.tree import export_text\n",
    "from datasets.dataset import transform_dataset, kfold_dataset\n",
    "from R2Ntab import train as train, R2Ntab"
   ]
  },
  {
   "cell_type": "code",
   "execution_count": 4,
   "id": "24ddf7d3-efca-4832-aaa1-12461786ae0c",
   "metadata": {},
   "outputs": [],
   "source": [
    "rule_learners = ['r2ntab', 'ripper', 'cart', 'c4.5']\n",
    "def run_learner(rule_learner, dataset):\n",
    "    if rule_learner == 'r2ntab':\n",
    "        model = R2Ntab(train_set[:][0].size(1), 50, 1)\n",
    "        if dataset == 'adult':\n",
    "            train(model, train_set, test_set=test_set, device='cpu', lr_rules=1e-2, lr_cancel=1e-2, \n",
    "                    epochs=1000, batch_size=400, and_lam=1e-2, or_lam=1e-5, cancel_lam=1e-4, num_alter=500)\n",
    "        elif dataset == 'heloc':\n",
    "            train(model, train_set, test_set=test_set, device='cpu', lr_rules=1e-2, lr_cancel=1e-2, \n",
    "                    epochs=3000, batch_size=400, and_lam=1e-2, or_lam=1e-5, cancel_lam=1e-3, num_alter=500)\n",
    "        else:\n",
    "            train(model, train_set, test_set=test_set, device='cpu', lr_rules=1e-2, lr_cancel=1e-2, \n",
    "                    epochs=2000, batch_size=400, and_lam=1e-2, or_lam=1e-5, cancel_lam=1e-5, num_alter=500)\n",
    "        acc = (model.predict(np.array(X_test)) == Y_test).mean()\n",
    "        sparsity = sum(map(len, model.get_rules(X_headers)))\n",
    "    elif rule_learner == 'ripper':\n",
    "        model = rule.RIPPER()\n",
    "        model.fit(RX_train, Y_train)\n",
    "        acc = model.score(RX_test, Y_test)\n",
    "        sparsity = sum(len(rule) for rule in model.ruleset_)\n",
    "    elif rule_learner == 'cart':\n",
    "        model = DecisionTreeClassifier()\n",
    "        model.fit(X_train, Y_train)\n",
    "        acc = model.score(X_test, Y_test)\n",
    "        sparsity = export_text(model, feature_names=X_train.columns.tolist()).count('(')\n",
    "    elif rule_learner == 'c4.5':\n",
    "        model = DecisionTreeClassifier(criterion='entropy')\n",
    "        model.fit(X_train, Y_train)\n",
    "        acc = model.score(X_test, Y_test)\n",
    "        sparsity = export_text(model, feature_names=X_train.columns.tolist()).count('(')\n",
    "        \n",
    "    return acc, sparsity"
   ]
  },
  {
   "cell_type": "code",
   "execution_count": 5,
   "id": "d48439bd-1071-4dec-b850-3b632fe6b006",
   "metadata": {
    "tags": []
   },
   "outputs": [
    {
     "name": "stdout",
     "output_type": "stream",
     "text": [
      "run 1\n"
     ]
    },
    {
     "name": "stderr",
     "output_type": "stream",
     "text": [
      "2023-06-30 01:53:56.409675: I tensorflow/tsl/cuda/cudart_stub.cc:28] Could not find cuda drivers on your machine, GPU will not be used.\n",
      "2023-06-30 01:53:56.440974: I tensorflow/tsl/cuda/cudart_stub.cc:28] Could not find cuda drivers on your machine, GPU will not be used.\n",
      "2023-06-30 01:53:56.441424: I tensorflow/core/platform/cpu_feature_guard.cc:182] This TensorFlow binary is optimized to use available CPU instructions in performance-critical operations.\n",
      "To enable the following instructions: AVX2 FMA, in other operations, rebuild TensorFlow with the appropriate compiler flags.\n",
      "2023-06-30 01:53:56.995632: W tensorflow/compiler/tf2tensorrt/utils/py_utils.cc:38] TF-TRT Warning: Could not find TensorRT\n",
      "Epoch: 100%|██████████| 1000/1000 [04:15<00:00,  3.92it/s, rules cancelled=77, l\n"
     ]
    },
    {
     "name": "stdout",
     "output_type": "stream",
     "text": [
      "run 2\n"
     ]
    },
    {
     "name": "stderr",
     "output_type": "stream",
     "text": [
      "Epoch: 100%|██████████| 1000/1000 [04:13<00:00,  3.95it/s, rules cancelled=76, l\n"
     ]
    },
    {
     "name": "stdout",
     "output_type": "stream",
     "text": [
      "run 3\n"
     ]
    },
    {
     "name": "stderr",
     "output_type": "stream",
     "text": [
      "Epoch: 100%|██████████| 1000/1000 [04:10<00:00,  3.99it/s, rules cancelled=67, l\n"
     ]
    },
    {
     "name": "stdout",
     "output_type": "stream",
     "text": [
      "run 4\n"
     ]
    },
    {
     "name": "stderr",
     "output_type": "stream",
     "text": [
      "Epoch: 100%|██████████| 1000/1000 [04:11<00:00,  3.98it/s, rules cancelled=76, l\n"
     ]
    },
    {
     "name": "stdout",
     "output_type": "stream",
     "text": [
      "run 5\n"
     ]
    },
    {
     "name": "stderr",
     "output_type": "stream",
     "text": [
      "Epoch: 100%|██████████| 1000/1000 [04:11<00:00,  3.97it/s, rules cancelled=78, l\n"
     ]
    },
    {
     "name": "stdout",
     "output_type": "stream",
     "text": [
      "run 6\n"
     ]
    },
    {
     "name": "stderr",
     "output_type": "stream",
     "text": [
      "Epoch: 100%|██████████| 1000/1000 [04:11<00:00,  3.98it/s, rules cancelled=78, l\n"
     ]
    },
    {
     "name": "stdout",
     "output_type": "stream",
     "text": [
      "run 7\n"
     ]
    },
    {
     "name": "stderr",
     "output_type": "stream",
     "text": [
      "Epoch: 100%|██████████| 1000/1000 [04:11<00:00,  3.98it/s, rules cancelled=77, l\n"
     ]
    },
    {
     "name": "stdout",
     "output_type": "stream",
     "text": [
      "run 8\n"
     ]
    },
    {
     "name": "stderr",
     "output_type": "stream",
     "text": [
      "Epoch: 100%|██████████| 1000/1000 [04:12<00:00,  3.95it/s, rules cancelled=73, l\n"
     ]
    },
    {
     "name": "stdout",
     "output_type": "stream",
     "text": [
      "run 9\n"
     ]
    },
    {
     "name": "stderr",
     "output_type": "stream",
     "text": [
      "Epoch: 100%|██████████| 1000/1000 [04:11<00:00,  3.98it/s, rules cancelled=77, l\n"
     ]
    },
    {
     "name": "stdout",
     "output_type": "stream",
     "text": [
      "run 10\n"
     ]
    },
    {
     "name": "stderr",
     "output_type": "stream",
     "text": [
      "Epoch: 100%|██████████| 1000/1000 [04:11<00:00,  3.97it/s, rules cancelled=72, l\n"
     ]
    },
    {
     "name": "stdout",
     "output_type": "stream",
     "text": [
      "run 1\n"
     ]
    },
    {
     "name": "stderr",
     "output_type": "stream",
     "text": [
      "Epoch: 100%|██████████| 3000/3000 [04:27<00:00, 11.22it/s, rules cancelled=56, l\n"
     ]
    },
    {
     "name": "stdout",
     "output_type": "stream",
     "text": [
      "run 2\n"
     ]
    },
    {
     "name": "stderr",
     "output_type": "stream",
     "text": [
      "Epoch: 100%|██████████| 3000/3000 [04:24<00:00, 11.36it/s, rules cancelled=56, l\n"
     ]
    },
    {
     "name": "stdout",
     "output_type": "stream",
     "text": [
      "run 3\n"
     ]
    },
    {
     "name": "stderr",
     "output_type": "stream",
     "text": [
      "Epoch: 100%|██████████| 3000/3000 [04:26<00:00, 11.26it/s, rules cancelled=57, l\n"
     ]
    },
    {
     "name": "stdout",
     "output_type": "stream",
     "text": [
      "run 4\n"
     ]
    },
    {
     "name": "stderr",
     "output_type": "stream",
     "text": [
      "Epoch: 100%|██████████| 3000/3000 [04:26<00:00, 11.28it/s, rules cancelled=56, l\n"
     ]
    },
    {
     "name": "stdout",
     "output_type": "stream",
     "text": [
      "run 5\n"
     ]
    },
    {
     "name": "stderr",
     "output_type": "stream",
     "text": [
      "Epoch: 100%|██████████| 3000/3000 [04:26<00:00, 11.25it/s, rules cancelled=58, l\n"
     ]
    },
    {
     "name": "stdout",
     "output_type": "stream",
     "text": [
      "run 6\n"
     ]
    },
    {
     "name": "stderr",
     "output_type": "stream",
     "text": [
      "Epoch: 100%|██████████| 3000/3000 [04:26<00:00, 11.27it/s, rules cancelled=59, l\n"
     ]
    },
    {
     "name": "stdout",
     "output_type": "stream",
     "text": [
      "run 7\n"
     ]
    },
    {
     "name": "stderr",
     "output_type": "stream",
     "text": [
      "Epoch: 100%|██████████| 3000/3000 [04:27<00:00, 11.23it/s, rules cancelled=56, l\n"
     ]
    },
    {
     "name": "stdout",
     "output_type": "stream",
     "text": [
      "run 8\n"
     ]
    },
    {
     "name": "stderr",
     "output_type": "stream",
     "text": [
      "Epoch: 100%|██████████| 3000/3000 [04:27<00:00, 11.23it/s, rules cancelled=56, l\n"
     ]
    },
    {
     "name": "stdout",
     "output_type": "stream",
     "text": [
      "run 9\n"
     ]
    },
    {
     "name": "stderr",
     "output_type": "stream",
     "text": [
      "Epoch: 100%|██████████| 3000/3000 [04:27<00:00, 11.20it/s, rules cancelled=57, l\n"
     ]
    },
    {
     "name": "stdout",
     "output_type": "stream",
     "text": [
      "run 10\n"
     ]
    },
    {
     "name": "stderr",
     "output_type": "stream",
     "text": [
      "Epoch: 100%|██████████| 3000/3000 [04:26<00:00, 11.24it/s, rules cancelled=58, l\n"
     ]
    },
    {
     "name": "stdout",
     "output_type": "stream",
     "text": [
      "run 1\n"
     ]
    },
    {
     "name": "stderr",
     "output_type": "stream",
     "text": [
      "Epoch: 100%|██████████| 2000/2000 [06:19<00:00,  5.26it/s, rules cancelled=63, l\n"
     ]
    },
    {
     "name": "stdout",
     "output_type": "stream",
     "text": [
      "run 2\n"
     ]
    },
    {
     "name": "stderr",
     "output_type": "stream",
     "text": [
      "Epoch: 100%|██████████| 2000/2000 [06:20<00:00,  5.26it/s, rules cancelled=61, l\n"
     ]
    },
    {
     "name": "stdout",
     "output_type": "stream",
     "text": [
      "run 3\n"
     ]
    },
    {
     "name": "stderr",
     "output_type": "stream",
     "text": [
      "Epoch: 100%|██████████| 2000/2000 [06:19<00:00,  5.27it/s, rules cancelled=60, l\n"
     ]
    },
    {
     "name": "stdout",
     "output_type": "stream",
     "text": [
      "run 4\n"
     ]
    },
    {
     "name": "stderr",
     "output_type": "stream",
     "text": [
      "Epoch: 100%|██████████| 2000/2000 [06:19<00:00,  5.27it/s, rules cancelled=63, l\n"
     ]
    },
    {
     "name": "stdout",
     "output_type": "stream",
     "text": [
      "run 5\n"
     ]
    },
    {
     "name": "stderr",
     "output_type": "stream",
     "text": [
      "Epoch: 100%|██████████| 2000/2000 [06:19<00:00,  5.27it/s, rules cancelled=63, l\n"
     ]
    },
    {
     "name": "stdout",
     "output_type": "stream",
     "text": [
      "run 6\n"
     ]
    },
    {
     "name": "stderr",
     "output_type": "stream",
     "text": [
      "Epoch: 100%|██████████| 2000/2000 [06:18<00:00,  5.28it/s, rules cancelled=58, l\n"
     ]
    },
    {
     "name": "stdout",
     "output_type": "stream",
     "text": [
      "run 7\n"
     ]
    },
    {
     "name": "stderr",
     "output_type": "stream",
     "text": [
      "Epoch: 100%|██████████| 2000/2000 [06:21<00:00,  5.25it/s, rules cancelled=61, l\n"
     ]
    },
    {
     "name": "stdout",
     "output_type": "stream",
     "text": [
      "run 8\n"
     ]
    },
    {
     "name": "stderr",
     "output_type": "stream",
     "text": [
      "Epoch: 100%|██████████| 2000/2000 [06:21<00:00,  5.24it/s, rules cancelled=64, l\n"
     ]
    },
    {
     "name": "stdout",
     "output_type": "stream",
     "text": [
      "run 9\n"
     ]
    },
    {
     "name": "stderr",
     "output_type": "stream",
     "text": [
      "Epoch: 100%|██████████| 2000/2000 [06:20<00:00,  5.25it/s, rules cancelled=61, l\n"
     ]
    },
    {
     "name": "stdout",
     "output_type": "stream",
     "text": [
      "run 10\n"
     ]
    },
    {
     "name": "stderr",
     "output_type": "stream",
     "text": [
      "Epoch: 100%|██████████| 2000/2000 [06:23<00:00,  5.22it/s, rules cancelled=66, l\n"
     ]
    },
    {
     "name": "stdout",
     "output_type": "stream",
     "text": [
      "run 1\n"
     ]
    },
    {
     "name": "stderr",
     "output_type": "stream",
     "text": [
      "Epoch: 100%|██████████| 2000/2000 [05:05<00:00,  6.56it/s, rules cancelled=40, l\n"
     ]
    },
    {
     "name": "stdout",
     "output_type": "stream",
     "text": [
      "run 2\n"
     ]
    },
    {
     "name": "stderr",
     "output_type": "stream",
     "text": [
      "Epoch: 100%|██████████| 2000/2000 [05:04<00:00,  6.57it/s, rules cancelled=37, l\n"
     ]
    },
    {
     "name": "stdout",
     "output_type": "stream",
     "text": [
      "run 3\n"
     ]
    },
    {
     "name": "stderr",
     "output_type": "stream",
     "text": [
      "Epoch: 100%|██████████| 2000/2000 [05:04<00:00,  6.57it/s, rules cancelled=38, l\n"
     ]
    },
    {
     "name": "stdout",
     "output_type": "stream",
     "text": [
      "run 4\n"
     ]
    },
    {
     "name": "stderr",
     "output_type": "stream",
     "text": [
      "Epoch: 100%|██████████| 2000/2000 [05:03<00:00,  6.58it/s, rules cancelled=37, l\n"
     ]
    },
    {
     "name": "stdout",
     "output_type": "stream",
     "text": [
      "run 5\n"
     ]
    },
    {
     "name": "stderr",
     "output_type": "stream",
     "text": [
      "Epoch: 100%|██████████| 2000/2000 [05:06<00:00,  6.52it/s, rules cancelled=39, l\n"
     ]
    },
    {
     "name": "stdout",
     "output_type": "stream",
     "text": [
      "run 6\n"
     ]
    },
    {
     "name": "stderr",
     "output_type": "stream",
     "text": [
      "Epoch: 100%|██████████| 2000/2000 [05:04<00:00,  6.57it/s, rules cancelled=40, l\n"
     ]
    },
    {
     "name": "stdout",
     "output_type": "stream",
     "text": [
      "run 7\n"
     ]
    },
    {
     "name": "stderr",
     "output_type": "stream",
     "text": [
      "Epoch: 100%|██████████| 2000/2000 [05:05<00:00,  6.55it/s, rules cancelled=43, l\n"
     ]
    },
    {
     "name": "stdout",
     "output_type": "stream",
     "text": [
      "run 8\n"
     ]
    },
    {
     "name": "stderr",
     "output_type": "stream",
     "text": [
      "Epoch: 100%|██████████| 2000/2000 [05:06<00:00,  6.53it/s, rules cancelled=45, l\n"
     ]
    },
    {
     "name": "stdout",
     "output_type": "stream",
     "text": [
      "run 9\n"
     ]
    },
    {
     "name": "stderr",
     "output_type": "stream",
     "text": [
      "Epoch: 100%|██████████| 2000/2000 [05:05<00:00,  6.54it/s, rules cancelled=36, l\n"
     ]
    },
    {
     "name": "stdout",
     "output_type": "stream",
     "text": [
      "run 10\n"
     ]
    },
    {
     "name": "stderr",
     "output_type": "stream",
     "text": [
      "Epoch: 100%|██████████| 2000/2000 [05:06<00:00,  6.52it/s, rules cancelled=40, l\n"
     ]
    }
   ],
   "source": [
    "runs = 10\n",
    "accuracies = {}\n",
    "sparsities = {}\n",
    "for learner in rule_learners:\n",
    "    accuracies[learner] = []\n",
    "    sparsities[learner] = []\n",
    "\n",
    "dataset_names = ['adult', 'heloc', 'house', 'magic']\n",
    "for dataset in dataset_names:\n",
    "    X, Y, X_headers, Y_headers = transform_dataset(dataset, method='onehot-compare', negations=False, labels='binary')\n",
    "    datasets = kfold_dataset(X, Y, shuffle=1)\n",
    "    X_train, X_test, Y_train, Y_test = datasets[0]\n",
    "    train_set = torch.utils.data.TensorDataset(torch.Tensor(X_train.to_numpy()), torch.Tensor(Y_train))\n",
    "    test_set = torch.utils.data.TensorDataset(torch.Tensor(X_test.to_numpy()), torch.Tensor(Y_test))\n",
    "\n",
    "    RX_train = pd.DataFrame(X_train)\n",
    "    RX_train = RX_train.sort_index(axis=1)\n",
    "    RX_test = pd.DataFrame(X_test)\n",
    "    RX_test = RX_test.sort_index(axis=1)\n",
    "    \n",
    "    for run in range(runs):\n",
    "        print(f'run {run+1}') \n",
    "        for learner in rule_learners:\n",
    "            acc, sparsity = run_learner(learner, dataset)\n",
    "            \n",
    "            accuracies[learner].append(acc)\n",
    "            sparsities[learner].append(sparsity)"
   ]
  },
  {
   "cell_type": "code",
   "execution_count": 38,
   "id": "97315690-dbd8-4808-8bc0-bf83997f1794",
   "metadata": {},
   "outputs": [
    {
     "name": "stdout",
     "output_type": "stream",
     "text": [
      "ripper 0.8053543998244459 0.0 234.0 0.0\n",
      "cart 0.8240070221637041 0.0 1792.0 0.0\n",
      "c4.5 0.82642089093702 0.0 1690.0 0.0\n"
     ]
    }
   ],
   "source": [
    "for learner in rule_learners:\n",
    "    print(learner, np.mean(accuracies[learner]), np.std(accuracies[learner]), np.mean(sparsities[learner]), np.std(sparsities[learner]))"
   ]
  },
  {
   "cell_type": "code",
   "execution_count": 8,
   "id": "f454da46-b122-4432-a5cb-c5c059ab501b",
   "metadata": {},
   "outputs": [],
   "source": [
    "import json\n",
    "\n",
    "with open('exp4accs.json', 'w') as file:\n",
    "    json.dump(accuracies, file)\n",
    "\n",
    "with open('exp4spars.json', 'w') as file:\n",
    "    json.dump(sparsities, file)"
   ]
  },
  {
   "cell_type": "code",
   "execution_count": 9,
   "id": "12f93cf7-e1ed-4586-be30-07847fc41c11",
   "metadata": {},
   "outputs": [
    {
     "name": "stdout",
     "output_type": "stream",
     "text": [
      "{'r2ntab': [0.8044090833747721, 0.8173379744737278, 0.8314271506713078, 0.8322559257417537, 0.8196585446709763, 0.8191612796287088, 0.8208188297696005, 0.831592905685397, 0.8140228741919443, 0.8352395159953588, 0.7174952198852772, 0.6964627151051626, 0.6945506692160612, 0.7146271510516252, 0.6902485659655831, 0.7122370936902486, 0.6998087954110899, 0.6988527724665392, 0.7179732313575525, 0.7050669216061185, 0.8433179723502304, 0.826201448321264, 0.8246653500109721, 0.8389291200351108, 0.836515251261795, 0.8389291200351108, 0.8283958744788238, 0.8347597103357473, 0.8305903006363836, 0.8235681369321922, 0.8228180862250263, 0.8454258675078864, 0.8309674027339643, 0.833596214511041, 0.823080967402734, 0.8338590956887487, 0.8286014721345951, 0.8046792849631966, 0.8251840168243953, 0.8299158780231335], 'ripper': [0.827780540361346, 0.8310956406431295, 0.8286093154317918, 0.8264545002486325, 0.8307641306149511, 0.8276147853472567, 0.8267860102768109, 0.8267860102768109, 0.8302668655726836, 0.8272832753190784, 0.6869024856596558, 0.6926386233269598, 0.7026768642447419, 0.7074569789674953, 0.6969407265774379, 0.6978967495219885, 0.7084130019120459, 0.7108030592734226, 0.6950286806883366, 0.6811663479923518, 0.8571428571428571, 0.7908711871845513, 0.8319069563309195, 0.8384902348035989, 0.7886767610269915, 0.7983322361202545, 0.8485845951283739, 0.8114987930656133, 0.7439104674127716, 0.8518762343647136, 0.8401682439537329, 0.8427970557308097, 0.8301787592008412, 0.8309674027339643, 0.8414826498422713, 0.8341219768664564, 0.8330704521556257, 0.8249211356466877, 0.8388538380651945, 0.844111461619348], 'cart': [0.7884966020222112, 0.7891596220785678, 0.785513011768606, 0.7848499917122493, 0.7845184816840709, 0.7856787667826952, 0.7843527266699818, 0.7903199071771921, 0.7866732968672302, 0.7835239515995359, 0.6266730401529637, 0.619980879541109, 0.6223709369024857, 0.6276290630975143, 0.6195028680688337, 0.6137667304015296, 0.6247609942638623, 0.6195028680688337, 0.6185468451242829, 0.619980879541109, 0.8270792187842879, 0.825543120473996, 0.8200570550800965, 0.82642089093702, 0.8259820057055081, 0.8277375466315559, 0.8224709238534124, 0.826201448321264, 0.8246653500109721, 0.82642089093702, 0.8033648790746583, 0.8020504731861199, 0.8025762355415352, 0.8028391167192429, 0.8078338590956887, 0.8036277602523659, 0.8070452155625657, 0.8031019978969506, 0.8049421661409043, 0.8025762355415352], 'c4.5': [0.7875020719376761, 0.7856787667826952, 0.7846842366981601, 0.7841869716558926, 0.788330847008122, 0.78269517652909, 0.785513011768606, 0.7861760318249627, 0.7863417868390519, 0.7828609315431792, 0.6328871892925431, 0.6376673040152964, 0.6419694072657743, 0.6324091778202677, 0.6376673040152964, 0.640057361376673, 0.640057361376673, 0.635755258126195, 0.6266730401529637, 0.6333652007648184, 0.8233486943164362, 0.8259820057055081, 0.8310291858678955, 0.8316875137151635, 0.8251042352424841, 0.8308097432521395, 0.8292736449418477, 0.8321263989466754, 0.8270792187842879, 0.8283958744788238, 0.7949526813880127, 0.7973186119873817, 0.795478443743428, 0.7965299684542587, 0.7920609884332281, 0.7941640378548895, 0.7981072555205048, 0.7994216614090431, 0.7939011566771819, 0.7991587802313355]}\n",
      "{'r2ntab': [90, 75, 126, 124, 98, 46, 59, 164, 91, 60, 317, 309, 257, 264, 360, 245, 313, 367, 278, 366, 109, 64, 57, 93, 83, 83, 91, 92, 82, 42, 135, 92, 129, 146, 139, 119, 83, 75, 137, 85], 'ripper': [358, 282, 280, 282, 338, 294, 215, 250, 260, 320, 95, 118, 93, 85, 134, 147, 97, 64, 122, 75, 403, 189, 353, 317, 201, 198, 319, 221, 197, 420, 247, 245, 133, 244, 228, 215, 272, 203, 222, 250], 'cart': [1252, 1248, 1250, 1250, 1256, 1248, 1252, 1256, 1256, 1250, 1444, 1438, 1432, 1440, 1438, 1440, 1444, 1442, 1440, 1444, 1792, 1798, 1790, 1794, 1794, 1796, 1794, 1792, 1794, 1796, 1492, 1494, 1488, 1498, 1494, 1492, 1488, 1490, 1488, 1492], 'c4.5': [1092, 1088, 1092, 1088, 1088, 1090, 1090, 1088, 1088, 1090, 1258, 1258, 1256, 1254, 1256, 1260, 1256, 1256, 1254, 1252, 1686, 1690, 1684, 1682, 1684, 1688, 1690, 1684, 1686, 1682, 1348, 1346, 1346, 1350, 1344, 1348, 1346, 1354, 1346, 1346]}\n"
     ]
    }
   ],
   "source": [
    "print(accuracies)\n",
    "print(sparsities)"
   ]
  }
 ],
 "metadata": {
  "kernelspec": {
   "display_name": "Python 3 (ipykernel)",
   "language": "python",
   "name": "python3"
  },
  "language_info": {
   "codemirror_mode": {
    "name": "ipython",
    "version": 3
   },
   "file_extension": ".py",
   "mimetype": "text/x-python",
   "name": "python",
   "nbconvert_exporter": "python",
   "pygments_lexer": "ipython3",
   "version": "3.8.10"
  }
 },
 "nbformat": 4,
 "nbformat_minor": 5
}
